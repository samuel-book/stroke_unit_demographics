{
 "cells": [
  {
   "cell_type": "markdown",
   "metadata": {},
   "source": [
    "# MSOA admissions regression feature selection"
   ]
  },
  {
   "cell_type": "code",
   "execution_count": 35,
   "metadata": {},
   "outputs": [],
   "source": [
    "import matplotlib.pyplot as plt \n",
    "import numpy as np\n",
    "import pandas as pd\n",
    "from scipy import stats\n",
    "from sklearn import metrics\n",
    "from sklearn.linear_model import LinearRegression\n",
    "from sklearn.model_selection import KFold"
   ]
  },
  {
   "cell_type": "markdown",
   "metadata": {},
   "source": [
    "## Load data"
   ]
  },
  {
   "cell_type": "code",
   "execution_count": 36,
   "metadata": {},
   "outputs": [
    {
     "data": {
      "text/html": [
       "<div>\n",
       "<style scoped>\n",
       "    .dataframe tbody tr th:only-of-type {\n",
       "        vertical-align: middle;\n",
       "    }\n",
       "\n",
       "    .dataframe tbody tr th {\n",
       "        vertical-align: top;\n",
       "    }\n",
       "\n",
       "    .dataframe thead th {\n",
       "        text-align: right;\n",
       "    }\n",
       "</style>\n",
       "<table border=\"1\" class=\"dataframe\">\n",
       "  <thead>\n",
       "    <tr style=\"text-align: right;\">\n",
       "      <th></th>\n",
       "      <th>admissions</th>\n",
       "      <th>IMD2019Score</th>\n",
       "      <th>0-64</th>\n",
       "      <th>65-79</th>\n",
       "      <th>80+</th>\n",
       "    </tr>\n",
       "    <tr>\n",
       "      <th>MSOA</th>\n",
       "      <th></th>\n",
       "      <th></th>\n",
       "      <th></th>\n",
       "      <th></th>\n",
       "      <th></th>\n",
       "    </tr>\n",
       "  </thead>\n",
       "  <tbody>\n",
       "    <tr>\n",
       "      <th>Adur 001</th>\n",
       "      <td>14.333333</td>\n",
       "      <td>16.924833</td>\n",
       "      <td>6905.0</td>\n",
       "      <td>1339.0</td>\n",
       "      <td>571.0</td>\n",
       "    </tr>\n",
       "    <tr>\n",
       "      <th>Adur 002</th>\n",
       "      <td>7.333333</td>\n",
       "      <td>6.470400</td>\n",
       "      <td>5431.0</td>\n",
       "      <td>1345.0</td>\n",
       "      <td>487.0</td>\n",
       "    </tr>\n",
       "    <tr>\n",
       "      <th>Adur 003</th>\n",
       "      <td>9.333333</td>\n",
       "      <td>13.733400</td>\n",
       "      <td>5745.0</td>\n",
       "      <td>1157.0</td>\n",
       "      <td>452.0</td>\n",
       "    </tr>\n",
       "    <tr>\n",
       "      <th>Adur 004</th>\n",
       "      <td>21.000000</td>\n",
       "      <td>26.199857</td>\n",
       "      <td>8583.0</td>\n",
       "      <td>1371.0</td>\n",
       "      <td>628.0</td>\n",
       "    </tr>\n",
       "    <tr>\n",
       "      <th>Adur 005</th>\n",
       "      <td>13.666667</td>\n",
       "      <td>11.794800</td>\n",
       "      <td>6995.0</td>\n",
       "      <td>1479.0</td>\n",
       "      <td>585.0</td>\n",
       "    </tr>\n",
       "  </tbody>\n",
       "</table>\n",
       "</div>"
      ],
      "text/plain": [
       "          admissions  IMD2019Score    0-64   65-79    80+\n",
       "MSOA                                                     \n",
       "Adur 001   14.333333     16.924833  6905.0  1339.0  571.0\n",
       "Adur 002    7.333333      6.470400  5431.0  1345.0  487.0\n",
       "Adur 003    9.333333     13.733400  5745.0  1157.0  452.0\n",
       "Adur 004   21.000000     26.199857  8583.0  1371.0  628.0\n",
       "Adur 005   13.666667     11.794800  6995.0  1479.0  585.0"
      ]
     },
     "execution_count": 36,
     "metadata": {},
     "output_type": "execute_result"
    }
   ],
   "source": [
    "data = pd.read_csv('./data/msoa_collated.csv', index_col='MSOA')\n",
    "\n",
    "# Limit to England data\n",
    "mask = data['country'] == 'E'\n",
    "data = data[mask]\n",
    "data = data.drop('country', axis=1)\n",
    "data = data.drop('All persons', axis=1)\n",
    "\n",
    "data.head()"
   ]
  },
  {
   "attachments": {},
   "cell_type": "markdown",
   "metadata": {},
   "source": [
    "## Split into X and y, and set up K_folds"
   ]
  },
  {
   "cell_type": "code",
   "execution_count": 37,
   "metadata": {},
   "outputs": [],
   "source": [
    "X = data.drop('admissions', axis=1)\n",
    "y = data['admissions']"
   ]
  },
  {
   "cell_type": "code",
   "execution_count": 38,
   "metadata": {},
   "outputs": [],
   "source": [
    "# Set up splits\n",
    "number_of_splits = 6\n",
    "skf = KFold(n_splits = number_of_splits, shuffle=True, random_state=42)\n",
    "X_fields = list(X)\n",
    "X = X.values\n",
    "y = y.values\n",
    "skf.get_n_splits(X, y)\n",
    "\n",
    "# Set up lists for sets\n",
    "X_train = []\n",
    "X_test = []\n",
    "y_train = []\n",
    "y_test = []\n",
    "\n",
    "# Get splits and add back data field names\n",
    "# Loop through the k-fold splits\n",
    "for train_index, test_index in skf.split(X, y):\n",
    "\n",
    "    # Get X and Y train/test\n",
    "    X_train_set, X_test_set = X[train_index], X[test_index]\n",
    "    y_train_set, y_test_set = y[train_index], y[test_index]\n",
    "\n",
    "    # Create dataframe and store\n",
    "    X_train.append(pd.DataFrame(X_train_set, columns=X_fields))\n",
    "    X_test.append(pd.DataFrame(X_test_set, columns=X_fields))\n",
    "    y_train.append(pd.DataFrame(y_train_set, columns=['admissions']))\n",
    "    y_test.append(pd.DataFrame(y_test_set, columns=['admissions']))"
   ]
  },
  {
   "attachments": {},
   "cell_type": "markdown",
   "metadata": {},
   "source": [
    "## Feature selection"
   ]
  },
  {
   "cell_type": "code",
   "execution_count": 40,
   "metadata": {},
   "outputs": [
    {
     "name": "stdout",
     "output_type": "stream",
     "text": [
      "Feature  1: 80+, r-squared: 0.460\n",
      "Feature  2: IMD2019Score, r-squared: 0.568\n",
      "Feature  3: 65-79, r-squared: 0.595\n",
      "Feature  4: 0-64, r-squared: 0.606\n"
     ]
    }
   ],
   "source": [
    "# set max features \n",
    "max_features = 25\n",
    "max_features = min(len(X_fields), max_features) \n",
    " \n",
    "chosen_features = []\n",
    "r_squared_by_feature = []\n",
    "\n",
    "# Initialise chosen features list and run tracker\n",
    "available_features = list(X_fields)\n",
    "\n",
    "# Loop through features\n",
    "for i in range(max_features):\n",
    "\n",
    "    # Reset scores\n",
    "    best_result = 0\n",
    "    best_feature = ''\n",
    "\n",
    "    # Loop through available features\n",
    "    for feature in available_features:\n",
    "\n",
    "        # Create copy of already chosen features to avoid original being changed\n",
    "        features_to_use = chosen_features.copy()\n",
    "        # Create a list of features from features already chosen + 1 new feature\n",
    "        features_to_use.append(feature)\n",
    "\n",
    "        # Set up a list to hold r-squared results for this feature for each kfold\n",
    "        feature_r_squared_kfold = []\n",
    "\n",
    "        # Loop through k folds\n",
    "\n",
    "        r_square_results = []\n",
    "\n",
    "        for k_fold in range(5):\n",
    "            \n",
    "            # Get selected data\n",
    "            X_train_selected = X_train[k_fold][features_to_use]\n",
    "            X_test_selected = X_test[k_fold][features_to_use]\n",
    "\n",
    "            # Fit model\n",
    "            model = LinearRegression().fit(X_train_selected, y_train[k_fold])\n",
    "\n",
    "            # get predictions\n",
    "            y_pred = model.predict(X_test_selected)\n",
    "            r_square = metrics.r2_score(y_test[k_fold], y_pred)\n",
    "            r_square_results.append(r_square)\n",
    "\n",
    "        # Update chosen feature and result if this feature is a new best\n",
    "        mean_r_square = np.mean(r_square_results)\n",
    "        if mean_r_square > best_result:\n",
    "            best_result = mean_r_square\n",
    "            best_feature = feature\n",
    "\n",
    "    # Best feature is selected\n",
    "    chosen_features.append(best_feature)\n",
    "    available_features.remove(best_feature)\n",
    "    r_squared_by_feature.append(best_result)\n",
    "\n",
    "    print (f'Feature {i+1:2.0f}: {best_feature}, r-squared: {best_result:0.3f}')"
   ]
  }
 ],
 "metadata": {
  "kernelspec": {
   "display_name": "samuel",
   "language": "python",
   "name": "python3"
  },
  "language_info": {
   "codemirror_mode": {
    "name": "ipython",
    "version": 3
   },
   "file_extension": ".py",
   "mimetype": "text/x-python",
   "name": "python",
   "nbconvert_exporter": "python",
   "pygments_lexer": "ipython3",
   "version": "3.8.15"
  },
  "orig_nbformat": 4,
  "vscode": {
   "interpreter": {
    "hash": "b368e36a85415766688ec72e3e874a4b525584eabf4bf7122952a4e0fd64fcde"
   }
  }
 },
 "nbformat": 4,
 "nbformat_minor": 2
}
