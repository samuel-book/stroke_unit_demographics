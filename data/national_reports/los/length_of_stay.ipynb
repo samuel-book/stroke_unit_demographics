{
 "cells": [
  {
   "cell_type": "markdown",
   "id": "41cf873a-fe48-4282-82ab-7c38c1cf3f91",
   "metadata": {},
   "source": [
    "# Plot 20223/3 Lenghts of stay"
   ]
  },
  {
   "cell_type": "code",
   "execution_count": 1,
   "id": "0c4e7900-6e94-428b-9a8f-30ba1b98f64c",
   "metadata": {
    "tags": []
   },
   "outputs": [],
   "source": [
    "import matplotlib.pyplot as plt\n",
    "import numpy as np\n",
    "import pandas as pd\n",
    "import scipy\n",
    "import seaborn as sns"
   ]
  },
  {
   "cell_type": "code",
   "execution_count": 2,
   "id": "126e6c30-5190-4e3e-b802-29c1c8ae54e0",
   "metadata": {
    "tags": []
   },
   "outputs": [],
   "source": [
    "data = pd.read_csv('2023_mean_los.csv')"
   ]
  },
  {
   "cell_type": "code",
   "execution_count": 3,
   "id": "61a05aa7-903e-470d-9d95-19a77b7204a7",
   "metadata": {
    "tags": []
   },
   "outputs": [
    {
     "data": {
      "text/html": [
       "<div>\n",
       "<style scoped>\n",
       "    .dataframe tbody tr th:only-of-type {\n",
       "        vertical-align: middle;\n",
       "    }\n",
       "\n",
       "    .dataframe tbody tr th {\n",
       "        vertical-align: top;\n",
       "    }\n",
       "\n",
       "    .dataframe thead th {\n",
       "        text-align: right;\n",
       "    }\n",
       "</style>\n",
       "<table border=\"1\" class=\"dataframe\">\n",
       "  <thead>\n",
       "    <tr style=\"text-align: right;\">\n",
       "      <th></th>\n",
       "      <th>Stroke team</th>\n",
       "      <th>Type</th>\n",
       "      <th>Mean length of stay</th>\n",
       "    </tr>\n",
       "  </thead>\n",
       "  <tbody>\n",
       "    <tr>\n",
       "      <th>0</th>\n",
       "      <td>Barking, Havering and Redbridge University Hos...</td>\n",
       "      <td>Routinely admitting team</td>\n",
       "      <td>20.5</td>\n",
       "    </tr>\n",
       "    <tr>\n",
       "      <th>1</th>\n",
       "      <td>Barts Health NHS Trust</td>\n",
       "      <td>Routinely admitting team</td>\n",
       "      <td>21.8</td>\n",
       "    </tr>\n",
       "    <tr>\n",
       "      <th>2</th>\n",
       "      <td>Imperial College Healthcare NHS Trust</td>\n",
       "      <td>Routinely admitting team</td>\n",
       "      <td>22.2</td>\n",
       "    </tr>\n",
       "    <tr>\n",
       "      <th>3</th>\n",
       "      <td>King's College Hospital NHS Foundation Trust</td>\n",
       "      <td>Routinely admitting team</td>\n",
       "      <td>24.5</td>\n",
       "    </tr>\n",
       "    <tr>\n",
       "      <th>4</th>\n",
       "      <td>King's College Hospital NHS Foundation Trust</td>\n",
       "      <td>Routinely admitting team</td>\n",
       "      <td>23.1</td>\n",
       "    </tr>\n",
       "  </tbody>\n",
       "</table>\n",
       "</div>"
      ],
      "text/plain": [
       "                                         Stroke team  \\\n",
       "0  Barking, Havering and Redbridge University Hos...   \n",
       "1                             Barts Health NHS Trust   \n",
       "2              Imperial College Healthcare NHS Trust   \n",
       "3       King's College Hospital NHS Foundation Trust   \n",
       "4       King's College Hospital NHS Foundation Trust   \n",
       "\n",
       "                       Type  Mean length of stay  \n",
       "0  Routinely admitting team                 20.5  \n",
       "1  Routinely admitting team                 21.8  \n",
       "2  Routinely admitting team                 22.2  \n",
       "3  Routinely admitting team                 24.5  \n",
       "4  Routinely admitting team                 23.1  "
      ]
     },
     "execution_count": 3,
     "metadata": {},
     "output_type": "execute_result"
    }
   ],
   "source": [
    "data.head()"
   ]
  },
  {
   "cell_type": "markdown",
   "id": "a621544d-b456-43a0-b5ff-26381db25bed",
   "metadata": {},
   "source": [
    "Limit data to patients admitted through routinely admitting teams"
   ]
  },
  {
   "cell_type": "code",
   "execution_count": 4,
   "id": "a73fcbea-5dad-4103-8062-11e11bc54ae3",
   "metadata": {
    "tags": []
   },
   "outputs": [],
   "source": [
    "mask = data['Type'] == 'Routinely admitting team'\n",
    "los = data[mask]['Mean length of stay']"
   ]
  },
  {
   "cell_type": "code",
   "execution_count": 5,
   "id": "9b478f7b-8eff-402c-9d85-758ca48337ce",
   "metadata": {
    "tags": []
   },
   "outputs": [
    {
     "data": {
      "text/plain": [
       "count    134.000000\n",
       "mean      20.650000\n",
       "std        4.863795\n",
       "min       10.900000\n",
       "25%       18.025000\n",
       "50%       20.400000\n",
       "75%       23.075000\n",
       "max       40.200000\n",
       "Name: Mean length of stay, dtype: float64"
      ]
     },
     "execution_count": 5,
     "metadata": {},
     "output_type": "execute_result"
    }
   ],
   "source": [
    "los.describe()"
   ]
  },
  {
   "cell_type": "code",
   "execution_count": 6,
   "id": "5e37dfd9-37fd-49d9-83b9-c9184aab2dde",
   "metadata": {
    "tags": []
   },
   "outputs": [
    {
     "data": {
      "image/png": "[encoded data removed]",
      "text/plain": [
       "<Figure size 640x480 with 1 Axes>"
      ]
     },
     "metadata": {},
     "output_type": "display_data"
    }
   ],
   "source": [
    "min_los = los.min()\n",
    "max_los = los.max()\n",
    "bins = np.arange(min_los, max_los + 1)\n",
    "\n",
    "\n",
    "fig = plt.figure()\n",
    "ax = fig.add_subplot()\n",
    "ax.hist(los, bins=bins)\n",
    "ax.set_xlabel('Patient length of stay (days)')\n",
    "ax.set_ylabel('Count')\n",
    "ax.set_title('Mean in-patient length of stay by admitting unit')\n",
    "\n",
    "\n",
    "plt.show()"
   ]
  },
  {
   "cell_type": "code",
   "execution_count": null,
   "id": "7093dddd-fe6b-4fb7-ac7d-69d2437d962c",
   "metadata": {},
   "outputs": [],
   "source": []
  }
 ],
 "metadata": {
  "kernelspec": {
   "display_name": "Python 3 (ipykernel)",
   "language": "python",
   "name": "python3"
  },
  "language_info": {
   "codemirror_mode": {
    "name": "ipython",
    "version": 3
   },
   "file_extension": ".py",
   "mimetype": "text/x-python",
   "name": "python",
   "nbconvert_exporter": "python",
   "pygments_lexer": "ipython3",
   "version": "3.11.4"
  }
 },
 "nbformat": 4,
 "nbformat_minor": 5
}
