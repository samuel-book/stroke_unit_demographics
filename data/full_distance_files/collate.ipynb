{
 "cells": [
  {
   "cell_type": "markdown",
   "id": "3f86e60b-a425-4e79-a4a4-bfa67f5cfeb1",
   "metadata": {},
   "source": [
    "# Collate and save partial LSOA full results files\n",
    "\n",
    "Full file was divided to keep within GitHub transfer limits"
   ]
  },
  {
   "cell_type": "code",
   "execution_count": 1,
   "id": "4adc35b9-edd0-4815-8f98-ee46cbb4d657",
   "metadata": {},
   "outputs": [],
   "source": [
    "import pandas as pd"
   ]
  },
  {
   "cell_type": "code",
   "execution_count": 2,
   "id": "c511de54-7af7-46fc-98b8-ec6cb65a0e34",
   "metadata": {},
   "outputs": [],
   "source": [
    "files = []\n",
    "for i in range (1,9):\n",
    "    files.append(pd.read_csv(f'lsoa_full_batch_{i}.csv'))"
   ]
  },
  {
   "cell_type": "code",
   "execution_count": 3,
   "id": "517c0f84-2b66-4461-853c-6ac42886833e",
   "metadata": {},
   "outputs": [],
   "source": [
    "results = pd.concat(files, axis=0)"
   ]
  },
  {
   "cell_type": "code",
   "execution_count": 4,
   "id": "0dca2f80-5f35-4479-895e-5ce1392f1200",
   "metadata": {},
   "outputs": [
    {
     "data": {
      "text/html": [
       "<div>\n",
       "<style scoped>\n",
       "    .dataframe tbody tr th:only-of-type {\n",
       "        vertical-align: middle;\n",
       "    }\n",
       "\n",
       "    .dataframe tbody tr th {\n",
       "        vertical-align: top;\n",
       "    }\n",
       "\n",
       "    .dataframe thead th {\n",
       "        text-align: right;\n",
       "    }\n",
       "</style>\n",
       "<table border=\"1\" class=\"dataframe\">\n",
       "  <thead>\n",
       "    <tr style=\"text-align: right;\">\n",
       "      <th></th>\n",
       "      <th>from_postcode</th>\n",
       "      <th>to_postcode</th>\n",
       "      <th>from_lat</th>\n",
       "      <th>from_long</th>\n",
       "      <th>to_lat</th>\n",
       "      <th>to_long</th>\n",
       "      <th>from_loc_identified</th>\n",
       "      <th>to_loc_identified</th>\n",
       "      <th>route_locs_identified</th>\n",
       "      <th>time_min</th>\n",
       "      <th>distance_km</th>\n",
       "      <th>imputed</th>\n",
       "      <th>no_route</th>\n",
       "      <th>calibrated_mins</th>\n",
       "    </tr>\n",
       "  </thead>\n",
       "  <tbody>\n",
       "    <tr>\n",
       "      <th>0</th>\n",
       "      <td>E01000001</td>\n",
       "      <td>RM70AG</td>\n",
       "      <td>51.517014</td>\n",
       "      <td>-0.09702</td>\n",
       "      <td>51.568620</td>\n",
       "      <td>0.179031</td>\n",
       "      <td>True</td>\n",
       "      <td>True</td>\n",
       "      <td>True</td>\n",
       "      <td>26.0</td>\n",
       "      <td>24.5</td>\n",
       "      <td>0</td>\n",
       "      <td>0</td>\n",
       "      <td>34.3</td>\n",
       "    </tr>\n",
       "    <tr>\n",
       "      <th>1</th>\n",
       "      <td>E01000001</td>\n",
       "      <td>E11BB</td>\n",
       "      <td>51.517014</td>\n",
       "      <td>-0.09702</td>\n",
       "      <td>51.519025</td>\n",
       "      <td>-0.058075</td>\n",
       "      <td>True</td>\n",
       "      <td>True</td>\n",
       "      <td>True</td>\n",
       "      <td>5.0</td>\n",
       "      <td>3.2</td>\n",
       "      <td>0</td>\n",
       "      <td>0</td>\n",
       "      <td>11.7</td>\n",
       "    </tr>\n",
       "    <tr>\n",
       "      <th>2</th>\n",
       "      <td>E01000001</td>\n",
       "      <td>SW66SX</td>\n",
       "      <td>51.517014</td>\n",
       "      <td>-0.09702</td>\n",
       "      <td>51.473715</td>\n",
       "      <td>-0.212722</td>\n",
       "      <td>True</td>\n",
       "      <td>True</td>\n",
       "      <td>True</td>\n",
       "      <td>19.0</td>\n",
       "      <td>12.9</td>\n",
       "      <td>0</td>\n",
       "      <td>0</td>\n",
       "      <td>26.7</td>\n",
       "    </tr>\n",
       "    <tr>\n",
       "      <th>3</th>\n",
       "      <td>E01000001</td>\n",
       "      <td>SE59RW</td>\n",
       "      <td>51.517014</td>\n",
       "      <td>-0.09702</td>\n",
       "      <td>51.469504</td>\n",
       "      <td>-0.093252</td>\n",
       "      <td>True</td>\n",
       "      <td>True</td>\n",
       "      <td>True</td>\n",
       "      <td>11.0</td>\n",
       "      <td>7.5</td>\n",
       "      <td>0</td>\n",
       "      <td>0</td>\n",
       "      <td>18.1</td>\n",
       "    </tr>\n",
       "    <tr>\n",
       "      <th>4</th>\n",
       "      <td>E01000001</td>\n",
       "      <td>BR68ND</td>\n",
       "      <td>51.517014</td>\n",
       "      <td>-0.09702</td>\n",
       "      <td>51.366243</td>\n",
       "      <td>0.059146</td>\n",
       "      <td>True</td>\n",
       "      <td>True</td>\n",
       "      <td>True</td>\n",
       "      <td>31.0</td>\n",
       "      <td>27.2</td>\n",
       "      <td>0</td>\n",
       "      <td>0</td>\n",
       "      <td>39.6</td>\n",
       "    </tr>\n",
       "  </tbody>\n",
       "</table>\n",
       "</div>"
      ],
      "text/plain": [
       "  from_postcode to_postcode   from_lat  from_long     to_lat   to_long  \\\n",
       "0     E01000001      RM70AG  51.517014   -0.09702  51.568620  0.179031   \n",
       "1     E01000001       E11BB  51.517014   -0.09702  51.519025 -0.058075   \n",
       "2     E01000001      SW66SX  51.517014   -0.09702  51.473715 -0.212722   \n",
       "3     E01000001      SE59RW  51.517014   -0.09702  51.469504 -0.093252   \n",
       "4     E01000001      BR68ND  51.517014   -0.09702  51.366243  0.059146   \n",
       "\n",
       "  from_loc_identified to_loc_identified route_locs_identified  time_min  \\\n",
       "0                True              True                  True      26.0   \n",
       "1                True              True                  True       5.0   \n",
       "2                True              True                  True      19.0   \n",
       "3                True              True                  True      11.0   \n",
       "4                True              True                  True      31.0   \n",
       "\n",
       "   distance_km imputed no_route  calibrated_mins  \n",
       "0         24.5       0        0             34.3  \n",
       "1          3.2       0        0             11.7  \n",
       "2         12.9       0        0             26.7  \n",
       "3          7.5       0        0             18.1  \n",
       "4         27.2       0        0             39.6  "
      ]
     },
     "execution_count": 4,
     "metadata": {},
     "output_type": "execute_result"
    }
   ],
   "source": [
    "results.head()"
   ]
  },
  {
   "cell_type": "code",
   "execution_count": 5,
   "id": "02eae94d-6ae0-4cf8-86fe-ade38b5ec6eb",
   "metadata": {},
   "outputs": [
    {
     "data": {
      "text/plain": [
       "4900171"
      ]
     },
     "execution_count": 5,
     "metadata": {},
     "output_type": "execute_result"
    }
   ],
   "source": [
    "len(results)"
   ]
  },
  {
   "cell_type": "code",
   "execution_count": 6,
   "id": "751a26ca-40ad-4f1b-81d9-efd0e2303471",
   "metadata": {},
   "outputs": [],
   "source": [
    "results.to_csv('lsoa_full_results.csv', index=False)"
   ]
  }
 ],
 "metadata": {
  "kernelspec": {
   "display_name": "Python 3 (ipykernel)",
   "language": "python",
   "name": "python3"
  },
  "language_info": {
   "codemirror_mode": {
    "name": "ipython",
    "version": 3
   },
   "file_extension": ".py",
   "mimetype": "text/x-python",
   "name": "python",
   "nbconvert_exporter": "python",
   "pygments_lexer": "ipython3",
   "version": "3.10.8"
  }
 },
 "nbformat": 4,
 "nbformat_minor": 5
}
