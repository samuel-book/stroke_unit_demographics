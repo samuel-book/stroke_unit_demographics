{
 "cells": [
  {
   "cell_type": "markdown",
   "id": "286f63d3-cffd-4723-9bfc-99044a9bcc6f",
   "metadata": {},
   "source": [
    "# Load and save large data files if not currently stored"
   ]
  },
  {
   "cell_type": "code",
   "execution_count": 1,
   "id": "8e89569c-0141-40f0-83ed-d1f5a9a39b93",
   "metadata": {},
   "outputs": [],
   "source": [
    "import requests\n",
    "from os.path import exists"
   ]
  },
  {
   "cell_type": "code",
   "execution_count": 2,
   "id": "ea612646-43d7-4202-9d3a-5053602a9789",
   "metadata": {},
   "outputs": [],
   "source": [
    "path_to_file = './data/demographic/2011_Census_Data.xls'\n",
    "file_exists = exists(path_to_file)\n",
    "if file_exists == False:\n",
    "    dls = \"https://gitlab.com/michaelallen1966/2022_emergency_stroke_demographics/-/raw/main/data/demographic/2011_Census_Data.xls?inline=false\"\n",
    "    resp = requests.get(dls)\n",
    "\n",
    "    output = open(path_to_file, 'wb')\n",
    "    output.write(resp.content)\n",
    "    output.close()\n",
    "    \n",
    "path_to_file = './data/Lower_Layer_Super_Output_Areas_December_2011_Full_Clipped__Boundaries_in_England_and_Wales.zip'\n",
    "file_exists = exists(path_to_file)\n",
    "if file_exists == False:\n",
    "    dls = \"https://gitlab.com/michaelallen1966/2022_emergency_stroke_demographics/-/raw/main/data/demographic/2011_Census_Data.xls?inline=false\"\n",
    "    resp = requests.get(dls)\n",
    "\n",
    "    output = open(path_to_file, 'wb')\n",
    "    output.write(resp.content)\n",
    "    output.close()"
   ]
  }
 ],
 "metadata": {
  "kernelspec": {
   "display_name": "Python 3 (ipykernel)",
   "language": "python",
   "name": "python3"
  },
  "language_info": {
   "codemirror_mode": {
    "name": "ipython",
    "version": 3
   },
   "file_extension": ".py",
   "mimetype": "text/x-python",
   "name": "python",
   "nbconvert_exporter": "python",
   "pygments_lexer": "ipython3",
   "version": "3.8.13"
  }
 },
 "nbformat": 4,
 "nbformat_minor": 5
}
