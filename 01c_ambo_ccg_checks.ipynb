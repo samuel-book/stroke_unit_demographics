{
 "cells": [
  {
   "cell_type": "markdown",
   "id": "ab2df534-29c7-4389-9f59-c75df5f8296d",
   "metadata": {},
   "source": [
    "# Ambulance service sanity checks\n",
    "\n",
    "The LSOA to ambulance service lookup file is quite large. Can we reduce the size considerably by using a CCG 2015 to ambulance lookup that gives the exact same results?\n",
    "\n",
    "## Summary\n",
    "\n",
    "When creating the LSOA-ambulance service lookup previously, we mostly used a CCG 2021 - ambulance service lookup table and added in a few special cases. The special cases were sorted out on the LSOA-level by using the LSOA names or the Local Authority Districts that contained them.\n",
    "\n",
    "It would be easier to wrangle the data if the ambulance services across all of England and Wales could be defined not at the LSOA level but by using larger areas.\n",
    "\n",
    "The CCG 2021 - ambulance lookup file uses the CCGs from 2021. There are about 100 of these CCGs. Back in 2015, there were about twice as many CCGs that were later mostly merged into the fewer bigger CCGs in the 2021 data. Perhaps the special cases in the lookup file are due to these merged CCGs, and perhaps if we look back to before the merges then we can find a more straightforward lookup between 2015 CCGs and ambulance services.\n",
    "\n",
    "The following figure shows how the CCGs have changed from 2015 to 2021. In 2015, the Isle of Wight had its own CCG. By 2021 it had been merged into Hampshire.\n",
    "\n",
    "![The CCGs in Hampshire in the Isle of Wight. One subplot shows the CCGs from 2015, the other shows the CCGs from 2021.](figures/hants_ccg.png)\n",
    "\n",
    "And the following figure picks out just Milton Keynes. In 2015 it was its own CCG. In 2021 it is included in the combined \"NHS Bedfordshire, Luton and Milton Keynes CCG\", which is now split across two ambulance service regions.\n",
    "\n",
    "![The Milton Keynes CCG shown in separate maps as either part of the \"NHS Bedfordshire, Luton and Milton Keynes CCG\" or as part of the \"South Central Ambulance Service\" region.](figures/ambo_milton_keynes.png)\n",
    "\n",
    "## Aim\n",
    "\n",
    "To create a lookup table of CCG 2015 to ambulance service region with no special cases.\n",
    "\n",
    "## Notebook setup"
   ]
  },
  {
   "cell_type": "code",
   "execution_count": 1,
   "id": "47f3d0a7-479f-4f84-a81e-37ada4f2286d",
   "metadata": {},
   "outputs": [],
   "source": [
    "# Import required packages\n",
    "from dataclasses import dataclass\n",
    "import numpy as np\n",
    "import os\n",
    "import pandas as pd"
   ]
  },
  {
   "cell_type": "code",
   "execution_count": 2,
   "id": "0096a317-b727-45d4-8646-8d8761b6672e",
   "metadata": {},
   "outputs": [],
   "source": [
    "# Define file paths\n",
    "@dataclass(frozen=True)\n",
    "class Paths:\n",
    "    '''Singleton object for storing paths to data and database.'''\n",
    "\n",
    "    data = './data'\n",
    "    look_ups = 'look_ups'\n",
    "\n",
    "    lsoa_to_ccg15 = ('Lower_Layer_Super_Output_Area_(2011)_to_' +\n",
    "                     'Clinical_Commissioning_Group_to_' +\n",
    "                     'Local_Authority_District_(July_2015)_Lookup_in_England.csv')\n",
    "\n",
    "    lsoa_ambo_results = 'lsoa_ambo_lookup.csv'\n",
    "    \n",
    "    ccg15_amb_lookup = 'ccg15_amb.csv'\n",
    "\n",
    "\n",
    "paths = Paths()"
   ]
  },
  {
   "cell_type": "markdown",
   "id": "7596378c-72f9-4000-b5f8-562912b0a221",
   "metadata": {},
   "source": [
    "## LSOA ambulance boundaries"
   ]
  },
  {
   "cell_type": "code",
   "execution_count": 3,
   "id": "9217c898-f277-4df2-8c23-ac10ef4d3efd",
   "metadata": {},
   "outputs": [
    {
     "data": {
      "text/html": [
       "<div>\n",
       "<style scoped>\n",
       "    .dataframe tbody tr th:only-of-type {\n",
       "        vertical-align: middle;\n",
       "    }\n",
       "\n",
       "    .dataframe tbody tr th {\n",
       "        vertical-align: top;\n",
       "    }\n",
       "\n",
       "    .dataframe thead th {\n",
       "        text-align: right;\n",
       "    }\n",
       "</style>\n",
       "<table border=\"1\" class=\"dataframe\">\n",
       "  <thead>\n",
       "    <tr style=\"text-align: right;\">\n",
       "      <th></th>\n",
       "      <th>LSOA11NM</th>\n",
       "      <th>LSOA11CD</th>\n",
       "      <th>ambo21</th>\n",
       "      <th>ambo22</th>\n",
       "    </tr>\n",
       "  </thead>\n",
       "  <tbody>\n",
       "    <tr>\n",
       "      <th>0</th>\n",
       "      <td>Adur 001A</td>\n",
       "      <td>E01031349</td>\n",
       "      <td>SECAmb</td>\n",
       "      <td>SECAmb</td>\n",
       "    </tr>\n",
       "    <tr>\n",
       "      <th>1</th>\n",
       "      <td>Adur 001B</td>\n",
       "      <td>E01031350</td>\n",
       "      <td>SECAmb</td>\n",
       "      <td>SECAmb</td>\n",
       "    </tr>\n",
       "    <tr>\n",
       "      <th>2</th>\n",
       "      <td>Adur 001C</td>\n",
       "      <td>E01031351</td>\n",
       "      <td>SECAmb</td>\n",
       "      <td>SECAmb</td>\n",
       "    </tr>\n",
       "    <tr>\n",
       "      <th>3</th>\n",
       "      <td>Adur 001D</td>\n",
       "      <td>E01031352</td>\n",
       "      <td>SECAmb</td>\n",
       "      <td>SECAmb</td>\n",
       "    </tr>\n",
       "    <tr>\n",
       "      <th>4</th>\n",
       "      <td>Adur 001E</td>\n",
       "      <td>E01031370</td>\n",
       "      <td>SECAmb</td>\n",
       "      <td>SECAmb</td>\n",
       "    </tr>\n",
       "  </tbody>\n",
       "</table>\n",
       "</div>"
      ],
      "text/plain": [
       "    LSOA11NM   LSOA11CD  ambo21  ambo22\n",
       "0  Adur 001A  E01031349  SECAmb  SECAmb\n",
       "1  Adur 001B  E01031350  SECAmb  SECAmb\n",
       "2  Adur 001C  E01031351  SECAmb  SECAmb\n",
       "3  Adur 001D  E01031352  SECAmb  SECAmb\n",
       "4  Adur 001E  E01031370  SECAmb  SECAmb"
      ]
     },
     "execution_count": 3,
     "metadata": {},
     "output_type": "execute_result"
    }
   ],
   "source": [
    "lsoa_amb_data = pd.read_csv(os.path.join(paths.data, paths.lsoa_ambo_results))\n",
    "\n",
    "lsoa_amb_data.head()"
   ]
  },
  {
   "cell_type": "markdown",
   "id": "ff133254-19de-43c5-88df-b2b99df1dd73",
   "metadata": {},
   "source": [
    "## Compare catchment areas with CCG 2015\n",
    "\n",
    "Import LSOA-CCG15 lookup:"
   ]
  },
  {
   "cell_type": "code",
   "execution_count": 4,
   "id": "de5dc697-14be-44ef-a207-759da4d0e917",
   "metadata": {},
   "outputs": [],
   "source": [
    "df_lsoa_ccg15 = pd.read_csv(os.path.join(paths.data, paths.look_ups, paths.lsoa_to_ccg15))"
   ]
  },
  {
   "cell_type": "code",
   "execution_count": 5,
   "id": "af8d628f-ae61-4156-8ac2-d53fb71c59f5",
   "metadata": {},
   "outputs": [
    {
     "data": {
      "text/html": [
       "<div>\n",
       "<style scoped>\n",
       "    .dataframe tbody tr th:only-of-type {\n",
       "        vertical-align: middle;\n",
       "    }\n",
       "\n",
       "    .dataframe tbody tr th {\n",
       "        vertical-align: top;\n",
       "    }\n",
       "\n",
       "    .dataframe thead th {\n",
       "        text-align: right;\n",
       "    }\n",
       "</style>\n",
       "<table border=\"1\" class=\"dataframe\">\n",
       "  <thead>\n",
       "    <tr style=\"text-align: right;\">\n",
       "      <th></th>\n",
       "      <th>LSOA11CD</th>\n",
       "      <th>LSOA11NM</th>\n",
       "      <th>CCG15CD</th>\n",
       "      <th>CCG15CDH</th>\n",
       "      <th>CCG15NM</th>\n",
       "      <th>LAD15CD</th>\n",
       "      <th>LAD15NM</th>\n",
       "      <th>FID</th>\n",
       "    </tr>\n",
       "  </thead>\n",
       "  <tbody>\n",
       "    <tr>\n",
       "      <th>0</th>\n",
       "      <td>E01010638</td>\n",
       "      <td>Bradford 004A</td>\n",
       "      <td>E38000001</td>\n",
       "      <td>02N</td>\n",
       "      <td>NHS Airedale, Wharfedale and Craven CCG</td>\n",
       "      <td>E08000032</td>\n",
       "      <td>Bradford</td>\n",
       "      <td>1</td>\n",
       "    </tr>\n",
       "    <tr>\n",
       "      <th>1</th>\n",
       "      <td>E01023975</td>\n",
       "      <td>Ashford 007B</td>\n",
       "      <td>E38000002</td>\n",
       "      <td>09C</td>\n",
       "      <td>NHS Ashford CCG</td>\n",
       "      <td>E07000105</td>\n",
       "      <td>Ashford</td>\n",
       "      <td>2</td>\n",
       "    </tr>\n",
       "    <tr>\n",
       "      <th>2</th>\n",
       "      <td>E01010639</td>\n",
       "      <td>Bradford 004B</td>\n",
       "      <td>E38000001</td>\n",
       "      <td>02N</td>\n",
       "      <td>NHS Airedale, Wharfedale and Craven CCG</td>\n",
       "      <td>E08000032</td>\n",
       "      <td>Bradford</td>\n",
       "      <td>3</td>\n",
       "    </tr>\n",
       "    <tr>\n",
       "      <th>3</th>\n",
       "      <td>E01023976</td>\n",
       "      <td>Ashford 008A</td>\n",
       "      <td>E38000002</td>\n",
       "      <td>09C</td>\n",
       "      <td>NHS Ashford CCG</td>\n",
       "      <td>E07000105</td>\n",
       "      <td>Ashford</td>\n",
       "      <td>4</td>\n",
       "    </tr>\n",
       "    <tr>\n",
       "      <th>4</th>\n",
       "      <td>E01023977</td>\n",
       "      <td>Ashford 007C</td>\n",
       "      <td>E38000002</td>\n",
       "      <td>09C</td>\n",
       "      <td>NHS Ashford CCG</td>\n",
       "      <td>E07000105</td>\n",
       "      <td>Ashford</td>\n",
       "      <td>5</td>\n",
       "    </tr>\n",
       "  </tbody>\n",
       "</table>\n",
       "</div>"
      ],
      "text/plain": [
       "    LSOA11CD       LSOA11NM    CCG15CD CCG15CDH  \\\n",
       "0  E01010638  Bradford 004A  E38000001      02N   \n",
       "1  E01023975   Ashford 007B  E38000002      09C   \n",
       "2  E01010639  Bradford 004B  E38000001      02N   \n",
       "3  E01023976   Ashford 008A  E38000002      09C   \n",
       "4  E01023977   Ashford 007C  E38000002      09C   \n",
       "\n",
       "                                   CCG15NM    LAD15CD   LAD15NM  FID  \n",
       "0  NHS Airedale, Wharfedale and Craven CCG  E08000032  Bradford    1  \n",
       "1                          NHS Ashford CCG  E07000105   Ashford    2  \n",
       "2  NHS Airedale, Wharfedale and Craven CCG  E08000032  Bradford    3  \n",
       "3                          NHS Ashford CCG  E07000105   Ashford    4  \n",
       "4                          NHS Ashford CCG  E07000105   Ashford    5  "
      ]
     },
     "execution_count": 5,
     "metadata": {},
     "output_type": "execute_result"
    }
   ],
   "source": [
    "df_lsoa_ccg15.head()"
   ]
  },
  {
   "cell_type": "markdown",
   "id": "c3db1c2e-beca-452a-b2c6-f0c89e42bbac",
   "metadata": {},
   "source": [
    "Import a CCG15-ambulance service lookup that we've invented:"
   ]
  },
  {
   "cell_type": "code",
   "execution_count": 6,
   "id": "0216ec51-6fe0-4d37-9fe0-61b743f7d332",
   "metadata": {},
   "outputs": [
    {
     "data": {
      "text/html": [
       "<div>\n",
       "<style scoped>\n",
       "    .dataframe tbody tr th:only-of-type {\n",
       "        vertical-align: middle;\n",
       "    }\n",
       "\n",
       "    .dataframe tbody tr th {\n",
       "        vertical-align: top;\n",
       "    }\n",
       "\n",
       "    .dataframe thead th {\n",
       "        text-align: right;\n",
       "    }\n",
       "</style>\n",
       "<table border=\"1\" class=\"dataframe\">\n",
       "  <thead>\n",
       "    <tr style=\"text-align: right;\">\n",
       "      <th></th>\n",
       "      <th>ccg15nm</th>\n",
       "      <th>ambo21</th>\n",
       "    </tr>\n",
       "  </thead>\n",
       "  <tbody>\n",
       "    <tr>\n",
       "      <th>0</th>\n",
       "      <td>NHS Airedale, Wharfedale and Craven CCG</td>\n",
       "      <td>YAS</td>\n",
       "    </tr>\n",
       "    <tr>\n",
       "      <th>1</th>\n",
       "      <td>NHS Ashford CCG</td>\n",
       "      <td>SECAmb</td>\n",
       "    </tr>\n",
       "    <tr>\n",
       "      <th>2</th>\n",
       "      <td>NHS Aylesbury Vale CCG</td>\n",
       "      <td>SCAS</td>\n",
       "    </tr>\n",
       "    <tr>\n",
       "      <th>3</th>\n",
       "      <td>NHS Barking and Dagenham CCG</td>\n",
       "      <td>LAS</td>\n",
       "    </tr>\n",
       "    <tr>\n",
       "      <th>4</th>\n",
       "      <td>NHS Barnet CCG</td>\n",
       "      <td>LAS</td>\n",
       "    </tr>\n",
       "    <tr>\n",
       "      <th>...</th>\n",
       "      <td>...</td>\n",
       "      <td>...</td>\n",
       "    </tr>\n",
       "    <tr>\n",
       "      <th>204</th>\n",
       "      <td>NHS Windsor, Ascot and Maidenhead CCG</td>\n",
       "      <td>SECAmb</td>\n",
       "    </tr>\n",
       "    <tr>\n",
       "      <th>205</th>\n",
       "      <td>NHS Wirral CCG</td>\n",
       "      <td>NWAS</td>\n",
       "    </tr>\n",
       "    <tr>\n",
       "      <th>206</th>\n",
       "      <td>NHS Wokingham CCG</td>\n",
       "      <td>SCAS</td>\n",
       "    </tr>\n",
       "    <tr>\n",
       "      <th>207</th>\n",
       "      <td>NHS Wolverhampton CCG</td>\n",
       "      <td>WMAS</td>\n",
       "    </tr>\n",
       "    <tr>\n",
       "      <th>208</th>\n",
       "      <td>NHS Wyre Forest CCG</td>\n",
       "      <td>WMAS</td>\n",
       "    </tr>\n",
       "  </tbody>\n",
       "</table>\n",
       "<p>209 rows × 2 columns</p>\n",
       "</div>"
      ],
      "text/plain": [
       "                                     ccg15nm  ambo21\n",
       "0    NHS Airedale, Wharfedale and Craven CCG     YAS\n",
       "1                            NHS Ashford CCG  SECAmb\n",
       "2                     NHS Aylesbury Vale CCG    SCAS\n",
       "3               NHS Barking and Dagenham CCG     LAS\n",
       "4                             NHS Barnet CCG     LAS\n",
       "..                                       ...     ...\n",
       "204    NHS Windsor, Ascot and Maidenhead CCG  SECAmb\n",
       "205                           NHS Wirral CCG    NWAS\n",
       "206                        NHS Wokingham CCG    SCAS\n",
       "207                    NHS Wolverhampton CCG    WMAS\n",
       "208                      NHS Wyre Forest CCG    WMAS\n",
       "\n",
       "[209 rows x 2 columns]"
      ]
     },
     "execution_count": 6,
     "metadata": {},
     "output_type": "execute_result"
    }
   ],
   "source": [
    "# Build ambulance service shapes from CCG 2015:\n",
    "df_ccg15_ambo = pd.read_csv(os.path.join(paths.data, paths.ccg15_amb_lookup))\n",
    "\n",
    "df_ccg15_ambo"
   ]
  },
  {
   "cell_type": "markdown",
   "id": "b96efb10-b58c-496d-9221-1cf8507d2547",
   "metadata": {},
   "source": [
    "Create a dataframe containing all LSOA and the ambulance service from the CCG2015 lookup:"
   ]
  },
  {
   "cell_type": "code",
   "execution_count": 7,
   "id": "70bd0562-7ac4-4bef-b2bd-e18311af30d4",
   "metadata": {},
   "outputs": [],
   "source": [
    "df_lsoa_ccg15_ambo = pd.merge(\n",
    "    df_lsoa_ccg15, df_ccg15_ambo,\n",
    "    left_on='CCG15NM', right_on='ccg15nm', how='left'\n",
    ")"
   ]
  },
  {
   "cell_type": "markdown",
   "id": "13cc70c8-ebbf-4887-8786-68ba4faf567f",
   "metadata": {},
   "source": [
    "Create a dataframe containing all LSOA, the ambulance service data from the LSOA, and the ambulance service data that we've just created using CCG 2015."
   ]
  },
  {
   "cell_type": "code",
   "execution_count": 11,
   "id": "4121369c-5948-4b3e-9551-c843dec2e26d",
   "metadata": {},
   "outputs": [],
   "source": [
    "lsoa_amb_data = lsoa_amb_data.rename(\n",
    "    columns={'ambo21': 'ambo_from_lsoa11'})\n",
    "df_lsoa_ccg15_ambo = df_lsoa_ccg15_ambo.rename(\n",
    "    columns={'ambo21': 'ambo_from_ccg15'})\n",
    "\n",
    "df_lsoa_compare = pd.merge(\n",
    "    lsoa_amb_data[['LSOA11NM', 'LSOA11CD', 'ambo_from_lsoa11']],\n",
    "    df_lsoa_ccg15_ambo[['LSOA11CD', 'ambo_from_ccg15']],\n",
    "    on='LSOA11CD', how='right'\n",
    ")"
   ]
  },
  {
   "cell_type": "code",
   "execution_count": 12,
   "id": "b611fa4b-8f71-4343-afd1-4116b8528442",
   "metadata": {},
   "outputs": [
    {
     "data": {
      "text/html": [
       "<div>\n",
       "<style scoped>\n",
       "    .dataframe tbody tr th:only-of-type {\n",
       "        vertical-align: middle;\n",
       "    }\n",
       "\n",
       "    .dataframe tbody tr th {\n",
       "        vertical-align: top;\n",
       "    }\n",
       "\n",
       "    .dataframe thead th {\n",
       "        text-align: right;\n",
       "    }\n",
       "</style>\n",
       "<table border=\"1\" class=\"dataframe\">\n",
       "  <thead>\n",
       "    <tr style=\"text-align: right;\">\n",
       "      <th></th>\n",
       "      <th>LSOA11NM</th>\n",
       "      <th>LSOA11CD</th>\n",
       "      <th>ambo_from_lsoa11</th>\n",
       "      <th>ambo_from_ccg15</th>\n",
       "    </tr>\n",
       "  </thead>\n",
       "  <tbody>\n",
       "    <tr>\n",
       "      <th>0</th>\n",
       "      <td>Bradford 004A</td>\n",
       "      <td>E01010638</td>\n",
       "      <td>YAS</td>\n",
       "      <td>YAS</td>\n",
       "    </tr>\n",
       "    <tr>\n",
       "      <th>1</th>\n",
       "      <td>Ashford 007B</td>\n",
       "      <td>E01023975</td>\n",
       "      <td>SECAmb</td>\n",
       "      <td>SECAmb</td>\n",
       "    </tr>\n",
       "    <tr>\n",
       "      <th>2</th>\n",
       "      <td>Bradford 004B</td>\n",
       "      <td>E01010639</td>\n",
       "      <td>YAS</td>\n",
       "      <td>YAS</td>\n",
       "    </tr>\n",
       "    <tr>\n",
       "      <th>3</th>\n",
       "      <td>Ashford 008A</td>\n",
       "      <td>E01023976</td>\n",
       "      <td>SECAmb</td>\n",
       "      <td>SECAmb</td>\n",
       "    </tr>\n",
       "    <tr>\n",
       "      <th>4</th>\n",
       "      <td>Ashford 007C</td>\n",
       "      <td>E01023977</td>\n",
       "      <td>SECAmb</td>\n",
       "      <td>SECAmb</td>\n",
       "    </tr>\n",
       "  </tbody>\n",
       "</table>\n",
       "</div>"
      ],
      "text/plain": [
       "        LSOA11NM   LSOA11CD ambo_from_lsoa11 ambo_from_ccg15\n",
       "0  Bradford 004A  E01010638              YAS             YAS\n",
       "1   Ashford 007B  E01023975           SECAmb          SECAmb\n",
       "2  Bradford 004B  E01010639              YAS             YAS\n",
       "3   Ashford 008A  E01023976           SECAmb          SECAmb\n",
       "4   Ashford 007C  E01023977           SECAmb          SECAmb"
      ]
     },
     "execution_count": 12,
     "metadata": {},
     "output_type": "execute_result"
    }
   ],
   "source": [
    "df_lsoa_compare.head()"
   ]
  },
  {
   "cell_type": "markdown",
   "id": "3aa1aebb-e971-48a3-a9b7-85178ac0abbf",
   "metadata": {},
   "source": [
    "Do the ambulance service columns differ for any LSOA?"
   ]
  },
  {
   "cell_type": "code",
   "execution_count": 13,
   "id": "17e681d2-8ab6-427f-ab4c-918eb3f4ed13",
   "metadata": {},
   "outputs": [],
   "source": [
    "mask = df_lsoa_compare['ambo_from_lsoa11'] == df_lsoa_compare['ambo_from_ccg15']"
   ]
  },
  {
   "cell_type": "code",
   "execution_count": 14,
   "id": "b53b255b-d084-4c05-b719-1161850c4aa0",
   "metadata": {},
   "outputs": [
    {
     "data": {
      "text/plain": [
       "True"
      ]
     },
     "execution_count": 14,
     "metadata": {},
     "output_type": "execute_result"
    }
   ],
   "source": [
    "mask.all()"
   ]
  },
  {
   "cell_type": "markdown",
   "id": "b243e03e-3c07-41f6-822c-87c85d5aeafe",
   "metadata": {},
   "source": [
    "The two columns are always the same, so we can use CCG 2015 to define the 2021 ambulance service boundaries!"
   ]
  },
  {
   "cell_type": "code",
   "execution_count": null,
   "id": "3d157449-0dfc-4d79-be8a-9eeea78ff50d",
   "metadata": {},
   "outputs": [],
   "source": []
  }
 ],
 "metadata": {
  "kernelspec": {
   "display_name": "Python 3 (ipykernel)",
   "language": "python",
   "name": "python3"
  },
  "language_info": {
   "codemirror_mode": {
    "name": "ipython",
    "version": 3
   },
   "file_extension": ".py",
   "mimetype": "text/x-python",
   "name": "python",
   "nbconvert_exporter": "python",
   "pygments_lexer": "ipython3",
   "version": "3.9.16"
  }
 },
 "nbformat": 4,
 "nbformat_minor": 5
}
