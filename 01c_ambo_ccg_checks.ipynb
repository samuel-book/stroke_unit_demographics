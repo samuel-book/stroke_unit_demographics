{
 "cells": [
  {
   "cell_type": "markdown",
   "id": "ab2df534-29c7-4389-9f59-c75df5f8296d",
   "metadata": {},
   "source": [
    "# Ambulance service sanity checks\n",
    "\n",
    "Can we use CCG instead of LSOA?\n",
    "\n",
    "The following figure shows how the CCGs have changed from 2015 to 2021. In 2015, the Isle of Wight had its own CCG. By 2021 it had been merged into Hampshire.\n",
    "\n",
    "![The CCGs in Hampshire in the Isle of Wight. One subplot shows the CCGs from 2015, the other shows the CCGs from 2021.](figures/hants_ccg.png)\n",
    "\n",
    "\n",
    "And the following figure picks out just Milton Keynes to show how it falls into the 2021 CCG and the ambulance service regions:\n",
    "\n",
    "![The Milton Keynes CCG shown in separate maps as either part of the \"NHS Bedfordshire, Luton and Milton Keynes CCG\" or as part of the \"South Central Ambulance Service\" region.](figures/ambo_milton_keynes.png)\n"
   ]
  },
  {
   "cell_type": "code",
   "execution_count": 2,
   "id": "47f3d0a7-479f-4f84-a81e-37ada4f2286d",
   "metadata": {},
   "outputs": [],
   "source": [
    "# Import required packages\n",
    "from dataclasses import dataclass\n",
    "import matplotlib.pyplot as plt\n",
    "import numpy as np\n",
    "import os\n",
    "import pandas as pd\n",
    "from PIL import Image\n",
    "import geopandas as gpd\n",
    "\n",
    "# # Linting\n",
    "# %load_ext pycodestyle_magic\n",
    "# %pycodestyle_on"
   ]
  },
  {
   "cell_type": "code",
   "execution_count": 336,
   "id": "0096a317-b727-45d4-8646-8d8761b6672e",
   "metadata": {},
   "outputs": [],
   "source": [
    "# Define file paths\n",
    "@dataclass(frozen=True)\n",
    "class Paths:\n",
    "    '''Singleton object for storing paths to data and database.'''\n",
    "\n",
    "    data = './data'\n",
    "    look_ups = 'look_ups'\n",
    "\n",
    "    lsoa_to_ccg = ('Lower_Layer_Super_Output_Area_(2011)_to_Clinical_' +\n",
    "                   'Commissioning_Group_to_Local_Authority_District_(April_' +\n",
    "                   '2021)_Lookup_in_England.csv')\n",
    "    lsoa_to_ccg15 = ('Lower_Layer_Super_Output_Area_(2011)_to_' +\n",
    "                     'Clinical_Commissioning_Group_to_' +\n",
    "                     'Local_Authority_District_(July_2015)_Lookup_in_England.csv')\n",
    "    lsoa_to_sicbl22 = ('LSOA_(2011)_to_Sub_ICB_Locations_' +\n",
    "                       '(July_2022)_Lookup_in_England.csv')\n",
    "\n",
    "    lsoa_ambo_results = 'lsoa_ambo_lookup.csv'\n",
    "    \n",
    "    ccg15_amb_lookup = 'ccg15_amb.csv'\n",
    "    ccg21_amb_lookup = 'ccg21_amb.csv'\n",
    "    sicbl22_amb_lookup = 'sicbl22_amb.csv'\n",
    "\n",
    "    ambo_name_dict = 'ambulance_service_names.csv'\n",
    "\n",
    "\n",
    "paths = Paths()"
   ]
  },
  {
   "cell_type": "markdown",
   "id": "7596378c-72f9-4000-b5f8-562912b0a221",
   "metadata": {},
   "source": [
    "## LSOA ambulance boundaries"
   ]
  },
  {
   "cell_type": "code",
   "execution_count": 7,
   "id": "9217c898-f277-4df2-8c23-ac10ef4d3efd",
   "metadata": {},
   "outputs": [
    {
     "data": {
      "text/html": [
       "<div>\n",
       "<style scoped>\n",
       "    .dataframe tbody tr th:only-of-type {\n",
       "        vertical-align: middle;\n",
       "    }\n",
       "\n",
       "    .dataframe tbody tr th {\n",
       "        vertical-align: top;\n",
       "    }\n",
       "\n",
       "    .dataframe thead th {\n",
       "        text-align: right;\n",
       "    }\n",
       "</style>\n",
       "<table border=\"1\" class=\"dataframe\">\n",
       "  <thead>\n",
       "    <tr style=\"text-align: right;\">\n",
       "      <th></th>\n",
       "      <th>LSOA11CD</th>\n",
       "      <th>ambulance_service</th>\n",
       "      <th>ambulance_service_name</th>\n",
       "      <th>LSOA11NM</th>\n",
       "    </tr>\n",
       "  </thead>\n",
       "  <tbody>\n",
       "    <tr>\n",
       "      <th>0</th>\n",
       "      <td>E01000001</td>\n",
       "      <td>LAS</td>\n",
       "      <td>London</td>\n",
       "      <td>City of London 001A</td>\n",
       "    </tr>\n",
       "    <tr>\n",
       "      <th>1</th>\n",
       "      <td>E01000002</td>\n",
       "      <td>LAS</td>\n",
       "      <td>London</td>\n",
       "      <td>City of London 001B</td>\n",
       "    </tr>\n",
       "    <tr>\n",
       "      <th>2</th>\n",
       "      <td>E01000003</td>\n",
       "      <td>LAS</td>\n",
       "      <td>London</td>\n",
       "      <td>City of London 001C</td>\n",
       "    </tr>\n",
       "    <tr>\n",
       "      <th>3</th>\n",
       "      <td>E01000005</td>\n",
       "      <td>LAS</td>\n",
       "      <td>London</td>\n",
       "      <td>City of London 001E</td>\n",
       "    </tr>\n",
       "    <tr>\n",
       "      <th>4</th>\n",
       "      <td>E01000006</td>\n",
       "      <td>LAS</td>\n",
       "      <td>London</td>\n",
       "      <td>Barking and Dagenham 016A</td>\n",
       "    </tr>\n",
       "  </tbody>\n",
       "</table>\n",
       "</div>"
      ],
      "text/plain": [
       "    LSOA11CD ambulance_service ambulance_service_name  \\\n",
       "0  E01000001               LAS                 London   \n",
       "1  E01000002               LAS                 London   \n",
       "2  E01000003               LAS                 London   \n",
       "3  E01000005               LAS                 London   \n",
       "4  E01000006               LAS                 London   \n",
       "\n",
       "                    LSOA11NM  \n",
       "0        City of London 001A  \n",
       "1        City of London 001B  \n",
       "2        City of London 001C  \n",
       "3        City of London 001E  \n",
       "4  Barking and Dagenham 016A  "
      ]
     },
     "execution_count": 7,
     "metadata": {},
     "output_type": "execute_result"
    }
   ],
   "source": [
    "lsoa_amb_data = pd.read_csv(os.path.join(paths.data, paths.lsoa_ambo_results))\n",
    "\n",
    "lsoa_amb_data.head()"
   ]
  },
  {
   "cell_type": "markdown",
   "id": "ff133254-19de-43c5-88df-b2b99df1dd73",
   "metadata": {},
   "source": [
    "## Compare catchment areas with CCG 2015\n",
    "\n",
    "Can we instead assign ambulance service areas to CCG 2015 regions and get the same results as the LSOA regions?\n",
    "\n",
    "__Create data__\n",
    "\n",
    "Import LSOA-CCG15 lookup:"
   ]
  },
  {
   "cell_type": "code",
   "execution_count": 14,
   "id": "de5dc697-14be-44ef-a207-759da4d0e917",
   "metadata": {},
   "outputs": [],
   "source": [
    "df_lsoa_ccg15 = pd.read_csv(os.path.join(paths.data, paths.look_ups, paths.lsoa_to_ccg15))"
   ]
  },
  {
   "cell_type": "code",
   "execution_count": 15,
   "id": "af8d628f-ae61-4156-8ac2-d53fb71c59f5",
   "metadata": {},
   "outputs": [
    {
     "data": {
      "text/html": [
       "<div>\n",
       "<style scoped>\n",
       "    .dataframe tbody tr th:only-of-type {\n",
       "        vertical-align: middle;\n",
       "    }\n",
       "\n",
       "    .dataframe tbody tr th {\n",
       "        vertical-align: top;\n",
       "    }\n",
       "\n",
       "    .dataframe thead th {\n",
       "        text-align: right;\n",
       "    }\n",
       "</style>\n",
       "<table border=\"1\" class=\"dataframe\">\n",
       "  <thead>\n",
       "    <tr style=\"text-align: right;\">\n",
       "      <th></th>\n",
       "      <th>LSOA11CD</th>\n",
       "      <th>LSOA11NM</th>\n",
       "      <th>CCG15CD</th>\n",
       "      <th>CCG15CDH</th>\n",
       "      <th>CCG15NM</th>\n",
       "      <th>LAD15CD</th>\n",
       "      <th>LAD15NM</th>\n",
       "      <th>FID</th>\n",
       "    </tr>\n",
       "  </thead>\n",
       "  <tbody>\n",
       "    <tr>\n",
       "      <th>0</th>\n",
       "      <td>E01010638</td>\n",
       "      <td>Bradford 004A</td>\n",
       "      <td>E38000001</td>\n",
       "      <td>02N</td>\n",
       "      <td>NHS Airedale, Wharfedale and Craven CCG</td>\n",
       "      <td>E08000032</td>\n",
       "      <td>Bradford</td>\n",
       "      <td>1</td>\n",
       "    </tr>\n",
       "    <tr>\n",
       "      <th>1</th>\n",
       "      <td>E01023975</td>\n",
       "      <td>Ashford 007B</td>\n",
       "      <td>E38000002</td>\n",
       "      <td>09C</td>\n",
       "      <td>NHS Ashford CCG</td>\n",
       "      <td>E07000105</td>\n",
       "      <td>Ashford</td>\n",
       "      <td>2</td>\n",
       "    </tr>\n",
       "    <tr>\n",
       "      <th>2</th>\n",
       "      <td>E01010639</td>\n",
       "      <td>Bradford 004B</td>\n",
       "      <td>E38000001</td>\n",
       "      <td>02N</td>\n",
       "      <td>NHS Airedale, Wharfedale and Craven CCG</td>\n",
       "      <td>E08000032</td>\n",
       "      <td>Bradford</td>\n",
       "      <td>3</td>\n",
       "    </tr>\n",
       "    <tr>\n",
       "      <th>3</th>\n",
       "      <td>E01023976</td>\n",
       "      <td>Ashford 008A</td>\n",
       "      <td>E38000002</td>\n",
       "      <td>09C</td>\n",
       "      <td>NHS Ashford CCG</td>\n",
       "      <td>E07000105</td>\n",
       "      <td>Ashford</td>\n",
       "      <td>4</td>\n",
       "    </tr>\n",
       "    <tr>\n",
       "      <th>4</th>\n",
       "      <td>E01023977</td>\n",
       "      <td>Ashford 007C</td>\n",
       "      <td>E38000002</td>\n",
       "      <td>09C</td>\n",
       "      <td>NHS Ashford CCG</td>\n",
       "      <td>E07000105</td>\n",
       "      <td>Ashford</td>\n",
       "      <td>5</td>\n",
       "    </tr>\n",
       "  </tbody>\n",
       "</table>\n",
       "</div>"
      ],
      "text/plain": [
       "    LSOA11CD       LSOA11NM    CCG15CD CCG15CDH  \\\n",
       "0  E01010638  Bradford 004A  E38000001      02N   \n",
       "1  E01023975   Ashford 007B  E38000002      09C   \n",
       "2  E01010639  Bradford 004B  E38000001      02N   \n",
       "3  E01023976   Ashford 008A  E38000002      09C   \n",
       "4  E01023977   Ashford 007C  E38000002      09C   \n",
       "\n",
       "                                   CCG15NM    LAD15CD   LAD15NM  FID  \n",
       "0  NHS Airedale, Wharfedale and Craven CCG  E08000032  Bradford    1  \n",
       "1                          NHS Ashford CCG  E07000105   Ashford    2  \n",
       "2  NHS Airedale, Wharfedale and Craven CCG  E08000032  Bradford    3  \n",
       "3                          NHS Ashford CCG  E07000105   Ashford    4  \n",
       "4                          NHS Ashford CCG  E07000105   Ashford    5  "
      ]
     },
     "execution_count": 15,
     "metadata": {},
     "output_type": "execute_result"
    }
   ],
   "source": [
    "df_lsoa_ccg15.head()"
   ]
  },
  {
   "cell_type": "markdown",
   "id": "c3db1c2e-beca-452a-b2c6-f0c89e42bbac",
   "metadata": {},
   "source": [
    "Import a CCG15-ambulance service lookup that we've invented:"
   ]
  },
  {
   "cell_type": "code",
   "execution_count": 16,
   "id": "0216ec51-6fe0-4d37-9fe0-61b743f7d332",
   "metadata": {},
   "outputs": [
    {
     "data": {
      "text/html": [
       "<div>\n",
       "<style scoped>\n",
       "    .dataframe tbody tr th:only-of-type {\n",
       "        vertical-align: middle;\n",
       "    }\n",
       "\n",
       "    .dataframe tbody tr th {\n",
       "        vertical-align: top;\n",
       "    }\n",
       "\n",
       "    .dataframe thead th {\n",
       "        text-align: right;\n",
       "    }\n",
       "</style>\n",
       "<table border=\"1\" class=\"dataframe\">\n",
       "  <thead>\n",
       "    <tr style=\"text-align: right;\">\n",
       "      <th></th>\n",
       "      <th>ccg15nm</th>\n",
       "      <th>ambulance_service_code</th>\n",
       "    </tr>\n",
       "  </thead>\n",
       "  <tbody>\n",
       "    <tr>\n",
       "      <th>0</th>\n",
       "      <td>NHS Basildon and Brentwood CCG</td>\n",
       "      <td>EEAST</td>\n",
       "    </tr>\n",
       "    <tr>\n",
       "      <th>1</th>\n",
       "      <td>NHS Bedfordshire CCG</td>\n",
       "      <td>EEAST</td>\n",
       "    </tr>\n",
       "    <tr>\n",
       "      <th>2</th>\n",
       "      <td>NHS Cambridgeshire and Peterborough CCG</td>\n",
       "      <td>EEAST</td>\n",
       "    </tr>\n",
       "    <tr>\n",
       "      <th>3</th>\n",
       "      <td>NHS Castle Point and Rochford CCG</td>\n",
       "      <td>EEAST</td>\n",
       "    </tr>\n",
       "    <tr>\n",
       "      <th>4</th>\n",
       "      <td>NHS East and North Hertfordshire CCG</td>\n",
       "      <td>EEAST</td>\n",
       "    </tr>\n",
       "    <tr>\n",
       "      <th>...</th>\n",
       "      <td>...</td>\n",
       "      <td>...</td>\n",
       "    </tr>\n",
       "    <tr>\n",
       "      <th>204</th>\n",
       "      <td>NHS Rotherham CCG</td>\n",
       "      <td>YAS</td>\n",
       "    </tr>\n",
       "    <tr>\n",
       "      <th>205</th>\n",
       "      <td>NHS Scarborough and Ryedale CCG</td>\n",
       "      <td>YAS</td>\n",
       "    </tr>\n",
       "    <tr>\n",
       "      <th>206</th>\n",
       "      <td>NHS Sheffield CCG</td>\n",
       "      <td>YAS</td>\n",
       "    </tr>\n",
       "    <tr>\n",
       "      <th>207</th>\n",
       "      <td>NHS Vale of York CCG</td>\n",
       "      <td>YAS</td>\n",
       "    </tr>\n",
       "    <tr>\n",
       "      <th>208</th>\n",
       "      <td>NHS Wakefield CCG</td>\n",
       "      <td>YAS</td>\n",
       "    </tr>\n",
       "  </tbody>\n",
       "</table>\n",
       "<p>209 rows × 2 columns</p>\n",
       "</div>"
      ],
      "text/plain": [
       "                                     ccg15nm ambulance_service_code\n",
       "0             NHS Basildon and Brentwood CCG                  EEAST\n",
       "1                       NHS Bedfordshire CCG                  EEAST\n",
       "2    NHS Cambridgeshire and Peterborough CCG                  EEAST\n",
       "3          NHS Castle Point and Rochford CCG                  EEAST\n",
       "4       NHS East and North Hertfordshire CCG                  EEAST\n",
       "..                                       ...                    ...\n",
       "204                        NHS Rotherham CCG                    YAS\n",
       "205          NHS Scarborough and Ryedale CCG                    YAS\n",
       "206                        NHS Sheffield CCG                    YAS\n",
       "207                     NHS Vale of York CCG                    YAS\n",
       "208                        NHS Wakefield CCG                    YAS\n",
       "\n",
       "[209 rows x 2 columns]"
      ]
     },
     "execution_count": 16,
     "metadata": {},
     "output_type": "execute_result"
    }
   ],
   "source": [
    "# Build ambulance service shapes from CCG 2015:\n",
    "df_ccg15_ambo = pd.read_csv(os.path.join(paths.data, paths.ccg15_amb_lookup))\n",
    "\n",
    "df_ccg15_ambo"
   ]
  },
  {
   "cell_type": "markdown",
   "id": "b96efb10-b58c-496d-9221-1cf8507d2547",
   "metadata": {},
   "source": [
    "Create a dataframe containing all LSOA and the ambulance service from the CCG2015 lookup:"
   ]
  },
  {
   "cell_type": "code",
   "execution_count": 17,
   "id": "70bd0562-7ac4-4bef-b2bd-e18311af30d4",
   "metadata": {},
   "outputs": [],
   "source": [
    "df_lsoa_ccg15_ambo = pd.merge(\n",
    "    df_lsoa_ccg15, df_ccg15_ambo,\n",
    "    left_on='CCG15NM', right_on='ccg15nm', how='left'\n",
    ")"
   ]
  },
  {
   "cell_type": "markdown",
   "id": "13cc70c8-ebbf-4887-8786-68ba4faf567f",
   "metadata": {},
   "source": [
    "Create a dataframe containing all LSOA, the ambulance service data from the LSOA, and the ambulance service data that we've just created using CCG 2015."
   ]
  },
  {
   "cell_type": "code",
   "execution_count": 18,
   "id": "4121369c-5948-4b3e-9551-c843dec2e26d",
   "metadata": {},
   "outputs": [],
   "source": [
    "df_lsoa_compare = pd.merge(\n",
    "    lsoa_amb_data[['LSOA11NM', 'LSOA11CD', 'ambulance_service']],\n",
    "    df_lsoa_ccg15_ambo[['LSOA11CD', 'ambulance_service_code']],\n",
    "    on='LSOA11CD', how='right'\n",
    ")"
   ]
  },
  {
   "cell_type": "code",
   "execution_count": 19,
   "id": "b611fa4b-8f71-4343-afd1-4116b8528442",
   "metadata": {},
   "outputs": [
    {
     "data": {
      "text/html": [
       "<div>\n",
       "<style scoped>\n",
       "    .dataframe tbody tr th:only-of-type {\n",
       "        vertical-align: middle;\n",
       "    }\n",
       "\n",
       "    .dataframe tbody tr th {\n",
       "        vertical-align: top;\n",
       "    }\n",
       "\n",
       "    .dataframe thead th {\n",
       "        text-align: right;\n",
       "    }\n",
       "</style>\n",
       "<table border=\"1\" class=\"dataframe\">\n",
       "  <thead>\n",
       "    <tr style=\"text-align: right;\">\n",
       "      <th></th>\n",
       "      <th>LSOA11NM</th>\n",
       "      <th>LSOA11CD</th>\n",
       "      <th>ambulance_service</th>\n",
       "      <th>ambulance_service_code</th>\n",
       "    </tr>\n",
       "  </thead>\n",
       "  <tbody>\n",
       "    <tr>\n",
       "      <th>0</th>\n",
       "      <td>Bradford 004A</td>\n",
       "      <td>E01010638</td>\n",
       "      <td>YAS</td>\n",
       "      <td>YAS</td>\n",
       "    </tr>\n",
       "    <tr>\n",
       "      <th>1</th>\n",
       "      <td>Ashford 007B</td>\n",
       "      <td>E01023975</td>\n",
       "      <td>SECAmb</td>\n",
       "      <td>SECAmb</td>\n",
       "    </tr>\n",
       "    <tr>\n",
       "      <th>2</th>\n",
       "      <td>Bradford 004B</td>\n",
       "      <td>E01010639</td>\n",
       "      <td>YAS</td>\n",
       "      <td>YAS</td>\n",
       "    </tr>\n",
       "    <tr>\n",
       "      <th>3</th>\n",
       "      <td>Ashford 008A</td>\n",
       "      <td>E01023976</td>\n",
       "      <td>SECAmb</td>\n",
       "      <td>SECAmb</td>\n",
       "    </tr>\n",
       "    <tr>\n",
       "      <th>4</th>\n",
       "      <td>Ashford 007C</td>\n",
       "      <td>E01023977</td>\n",
       "      <td>SECAmb</td>\n",
       "      <td>SECAmb</td>\n",
       "    </tr>\n",
       "  </tbody>\n",
       "</table>\n",
       "</div>"
      ],
      "text/plain": [
       "        LSOA11NM   LSOA11CD ambulance_service ambulance_service_code\n",
       "0  Bradford 004A  E01010638               YAS                    YAS\n",
       "1   Ashford 007B  E01023975            SECAmb                 SECAmb\n",
       "2  Bradford 004B  E01010639               YAS                    YAS\n",
       "3   Ashford 008A  E01023976            SECAmb                 SECAmb\n",
       "4   Ashford 007C  E01023977            SECAmb                 SECAmb"
      ]
     },
     "execution_count": 19,
     "metadata": {},
     "output_type": "execute_result"
    }
   ],
   "source": [
    "df_lsoa_compare.head()"
   ]
  },
  {
   "cell_type": "markdown",
   "id": "3aa1aebb-e971-48a3-a9b7-85178ac0abbf",
   "metadata": {},
   "source": [
    "Do the ambulance service columns differ for any LSOA?"
   ]
  },
  {
   "cell_type": "code",
   "execution_count": 345,
   "id": "17e681d2-8ab6-427f-ab4c-918eb3f4ed13",
   "metadata": {},
   "outputs": [],
   "source": [
    "mask = df_lsoa_compare['ambulance_service'] == df_lsoa_compare['ambulance_service_code']"
   ]
  },
  {
   "cell_type": "code",
   "execution_count": 346,
   "id": "b53b255b-d084-4c05-b719-1161850c4aa0",
   "metadata": {},
   "outputs": [
    {
     "data": {
      "text/plain": [
       "True"
      ]
     },
     "execution_count": 346,
     "metadata": {},
     "output_type": "execute_result"
    }
   ],
   "source": [
    "mask.all()"
   ]
  },
  {
   "cell_type": "markdown",
   "id": "b243e03e-3c07-41f6-822c-87c85d5aeafe",
   "metadata": {},
   "source": [
    "The two columns are always the same, so we can use CCG 2015 to define the ambulance service boundaries!"
   ]
  }
 ],
 "metadata": {
  "kernelspec": {
   "display_name": "Python 3 (ipykernel)",
   "language": "python",
   "name": "python3"
  },
  "language_info": {
   "codemirror_mode": {
    "name": "ipython",
    "version": 3
   },
   "file_extension": ".py",
   "mimetype": "text/x-python",
   "name": "python",
   "nbconvert_exporter": "python",
   "pygments_lexer": "ipython3",
   "version": "3.9.16"
  }
 },
 "nbformat": 4,
 "nbformat_minor": 5
}
