{
 "cells": [
  {
   "cell_type": "markdown",
   "id": "8b9e50c1-f570-4927-bd9c-5a3f3d25922b",
   "metadata": {},
   "source": [
    "# Collate demographic data for each LSOA\n",
    "\n",
    "This notebook collates various and saves as `collated_data.csv` in data folder. "
   ]
  },
  {
   "cell_type": "code",
   "execution_count": 1,
   "id": "503d3fc4-e8a0-4eb6-b118-03eae8f28ee8",
   "metadata": {},
   "outputs": [],
   "source": [
    "import numpy as np\n",
    "import pandas as pd"
   ]
  },
  {
   "cell_type": "markdown",
   "id": "5667b361-e6d9-41aa-a5f2-c91a2a660a85",
   "metadata": {},
   "source": [
    "## Unzip required travel matrix file"
   ]
  },
  {
   "cell_type": "code",
   "execution_count": 2,
   "id": "1bf70fbb-273a-46e1-8e35-53262d9d359e",
   "metadata": {},
   "outputs": [],
   "source": [
    "import zipfile\n",
    "with zipfile.ZipFile(\"./data/lsoa_travel_time_matrix_calibrated.zip\",\"r\") as zip_ref:\n",
    "    zip_ref.extractall(\"./data/\")"
   ]
  },
  {
   "cell_type": "markdown",
   "id": "70cd4998-a67f-41e7-9f00-56a40d0066ac",
   "metadata": {},
   "source": [
    "## Import admissions data"
   ]
  },
  {
   "cell_type": "code",
   "execution_count": 3,
   "id": "b83615be-f613-461e-8741-1b2c943a70fe",
   "metadata": {},
   "outputs": [
    {
     "data": {
      "text/html": [
       "<div>\n",
       "<style scoped>\n",
       "    .dataframe tbody tr th:only-of-type {\n",
       "        vertical-align: middle;\n",
       "    }\n",
       "\n",
       "    .dataframe tbody tr th {\n",
       "        vertical-align: top;\n",
       "    }\n",
       "\n",
       "    .dataframe thead th {\n",
       "        text-align: right;\n",
       "    }\n",
       "</style>\n",
       "<table border=\"1\" class=\"dataframe\">\n",
       "  <thead>\n",
       "    <tr style=\"text-align: right;\">\n",
       "      <th></th>\n",
       "      <th>admissions</th>\n",
       "    </tr>\n",
       "    <tr>\n",
       "      <th>area</th>\n",
       "      <th></th>\n",
       "    </tr>\n",
       "  </thead>\n",
       "  <tbody>\n",
       "    <tr>\n",
       "      <th>Welwyn Hatfield 010F</th>\n",
       "      <td>0.666667</td>\n",
       "    </tr>\n",
       "    <tr>\n",
       "      <th>Welwyn Hatfield 012A</th>\n",
       "      <td>4.000000</td>\n",
       "    </tr>\n",
       "  </tbody>\n",
       "</table>\n",
       "</div>"
      ],
      "text/plain": [
       "                      admissions\n",
       "area                            \n",
       "Welwyn Hatfield 010F    0.666667\n",
       "Welwyn Hatfield 012A    4.000000"
      ]
     },
     "execution_count": 3,
     "metadata": {},
     "output_type": "execute_result"
    }
   ],
   "source": [
    "data = pd.read_csv('./data/admissions_2017-2019.csv', index_col='area')\n",
    "data.rename(columns={'Admissions': 'admissions'}, inplace=True)\n",
    "\n",
    "data.head(2)"
   ]
  },
  {
   "cell_type": "markdown",
   "id": "63e3d13f-a33a-41a2-8ac5-283f8b03c451",
   "metadata": {},
   "source": [
    "## Import units"
   ]
  },
  {
   "cell_type": "code",
   "execution_count": 4,
   "id": "0b4fd1b6-2f23-4047-aabe-8c295c8d9a8b",
   "metadata": {},
   "outputs": [
    {
     "data": {
      "text/html": [
       "<div>\n",
       "<style scoped>\n",
       "    .dataframe tbody tr th:only-of-type {\n",
       "        vertical-align: middle;\n",
       "    }\n",
       "\n",
       "    .dataframe tbody tr th {\n",
       "        vertical-align: top;\n",
       "    }\n",
       "\n",
       "    .dataframe thead th {\n",
       "        text-align: right;\n",
       "    }\n",
       "</style>\n",
       "<table border=\"1\" class=\"dataframe\">\n",
       "  <thead>\n",
       "    <tr style=\"text-align: right;\">\n",
       "      <th></th>\n",
       "      <th>Postcode</th>\n",
       "      <th>Hospital_name</th>\n",
       "      <th>Use</th>\n",
       "      <th>Country</th>\n",
       "      <th>Strategic Clinical Network</th>\n",
       "      <th>Health Board / Trust</th>\n",
       "      <th>Stroke Team</th>\n",
       "      <th>SSNAP name</th>\n",
       "      <th>Admissions 21/22</th>\n",
       "      <th>Thrombolysis</th>\n",
       "      <th>ivt_rate</th>\n",
       "      <th>Easting</th>\n",
       "      <th>Northing</th>\n",
       "      <th>Neuroscience</th>\n",
       "      <th>30 England Thrombectomy Example</th>\n",
       "      <th>Notes</th>\n",
       "    </tr>\n",
       "  </thead>\n",
       "  <tbody>\n",
       "    <tr>\n",
       "      <th>0</th>\n",
       "      <td>RM70AG</td>\n",
       "      <td>RM70AG</td>\n",
       "      <td>1</td>\n",
       "      <td>England</td>\n",
       "      <td>London SCN</td>\n",
       "      <td>Barking; Havering and Redbridge University Hos...</td>\n",
       "      <td>Queen's Hospital, Romford</td>\n",
       "      <td>Queens Hospital Romford HASU</td>\n",
       "      <td>981</td>\n",
       "      <td>117</td>\n",
       "      <td>11.9</td>\n",
       "      <td>551118</td>\n",
       "      <td>187780</td>\n",
       "      <td>1</td>\n",
       "      <td>0</td>\n",
       "      <td>NaN</td>\n",
       "    </tr>\n",
       "    <tr>\n",
       "      <th>1</th>\n",
       "      <td>E11BB</td>\n",
       "      <td>E11BB</td>\n",
       "      <td>1</td>\n",
       "      <td>England</td>\n",
       "      <td>London SCN</td>\n",
       "      <td>Barts Health NHS Trust</td>\n",
       "      <td>The Royal London Hospital</td>\n",
       "      <td>Royal London Hospital HASU</td>\n",
       "      <td>861</td>\n",
       "      <td>115</td>\n",
       "      <td>13.4</td>\n",
       "      <td>534829</td>\n",
       "      <td>181798</td>\n",
       "      <td>1</td>\n",
       "      <td>1</td>\n",
       "      <td>NaN</td>\n",
       "    </tr>\n",
       "  </tbody>\n",
       "</table>\n",
       "</div>"
      ],
      "text/plain": [
       "  Postcode Hospital_name  Use  Country Strategic Clinical Network  \\\n",
       "0   RM70AG        RM70AG    1  England                 London SCN   \n",
       "1    E11BB         E11BB    1  England                 London SCN   \n",
       "\n",
       "                                Health Board / Trust  \\\n",
       "0  Barking; Havering and Redbridge University Hos...   \n",
       "1                             Barts Health NHS Trust   \n",
       "\n",
       "                 Stroke Team                    SSNAP name  Admissions 21/22  \\\n",
       "0  Queen's Hospital, Romford  Queens Hospital Romford HASU               981   \n",
       "1  The Royal London Hospital    Royal London Hospital HASU               861   \n",
       "\n",
       "   Thrombolysis  ivt_rate  Easting  Northing  Neuroscience  \\\n",
       "0           117      11.9   551118    187780             1   \n",
       "1           115      13.4   534829    181798             1   \n",
       "\n",
       "   30 England Thrombectomy Example Notes  \n",
       "0                                0   NaN  \n",
       "1                                1   NaN  "
      ]
     },
     "execution_count": 4,
     "metadata": {},
     "output_type": "execute_result"
    }
   ],
   "source": [
    "units = pd.read_csv('./data/stroke_hospitals_2022.csv')\n",
    "\n",
    "units.head(2)"
   ]
  },
  {
   "cell_type": "markdown",
   "id": "e2923a75-5d38-4201-9ecf-6f3757060877",
   "metadata": {},
   "source": [
    "Get postcodes of unit in use for ivt)"
   ]
  },
  {
   "cell_type": "code",
   "execution_count": 5,
   "id": "524a7cf0-4cf3-40be-acf6-1679eccc7a3d",
   "metadata": {},
   "outputs": [
    {
     "data": {
      "text/plain": [
       "['RM70AG', 'E11BB', 'SW66SX', 'SE59RW', 'BR68ND']"
      ]
     },
     "execution_count": 5,
     "metadata": {},
     "output_type": "execute_result"
    }
   ],
   "source": [
    "mask = units['Use'] == 1\n",
    "units_in_use = list(units[mask]['Postcode'])\n",
    "units_in_use[0:5]"
   ]
  },
  {
   "cell_type": "markdown",
   "id": "d7cb6e1e-8789-446c-b57d-608d8a742ffb",
   "metadata": {},
   "source": [
    "Get postcodes of units providing thrombectomy."
   ]
  },
  {
   "cell_type": "code",
   "execution_count": 6,
   "id": "2f7c1fc1-e66d-4341-8123-eb9839a42771",
   "metadata": {},
   "outputs": [
    {
     "data": {
      "text/plain": [
       "['RM70AG', 'E11BB', 'SW66SX', 'SE59RW', 'SW170QT']"
      ]
     },
     "execution_count": 6,
     "metadata": {},
     "output_type": "execute_result"
    }
   ],
   "source": [
    "mask = units['Neuroscience'] == 1\n",
    "thromectomy_units = list(units[mask]['Postcode'])\n",
    "thromectomy_units[0:5]"
   ]
  },
  {
   "cell_type": "markdown",
   "id": "2491fc84-50a8-482f-9672-12062e9be544",
   "metadata": {},
   "source": [
    "## Import travel time to stroke units"
   ]
  },
  {
   "cell_type": "code",
   "execution_count": 7,
   "id": "f55e9428-70ce-47e5-9105-c9643c9e4e7f",
   "metadata": {},
   "outputs": [
    {
     "data": {
      "text/html": [
       "<div>\n",
       "<style scoped>\n",
       "    .dataframe tbody tr th:only-of-type {\n",
       "        vertical-align: middle;\n",
       "    }\n",
       "\n",
       "    .dataframe tbody tr th {\n",
       "        vertical-align: top;\n",
       "    }\n",
       "\n",
       "    .dataframe thead th {\n",
       "        text-align: right;\n",
       "    }\n",
       "</style>\n",
       "<table border=\"1\" class=\"dataframe\">\n",
       "  <thead>\n",
       "    <tr style=\"text-align: right;\">\n",
       "      <th></th>\n",
       "      <th>RM70AG</th>\n",
       "      <th>E11BB</th>\n",
       "      <th>SW66SX</th>\n",
       "      <th>SE59RW</th>\n",
       "      <th>BR68ND</th>\n",
       "      <th>HA13UJ</th>\n",
       "      <th>SW170QT</th>\n",
       "      <th>NW12BU</th>\n",
       "      <th>DE223NE</th>\n",
       "      <th>NN15BD</th>\n",
       "      <th>...</th>\n",
       "      <th>LL137TD</th>\n",
       "      <th>LL572PW</th>\n",
       "      <th>CF144XW</th>\n",
       "      <th>CF479DT</th>\n",
       "      <th>CF311RQ</th>\n",
       "      <th>SY231ER</th>\n",
       "      <th>SA148QF</th>\n",
       "      <th>SA312AF</th>\n",
       "      <th>SA612PZ</th>\n",
       "      <th>SA66NL</th>\n",
       "    </tr>\n",
       "    <tr>\n",
       "      <th>LSOA</th>\n",
       "      <th></th>\n",
       "      <th></th>\n",
       "      <th></th>\n",
       "      <th></th>\n",
       "      <th></th>\n",
       "      <th></th>\n",
       "      <th></th>\n",
       "      <th></th>\n",
       "      <th></th>\n",
       "      <th></th>\n",
       "      <th></th>\n",
       "      <th></th>\n",
       "      <th></th>\n",
       "      <th></th>\n",
       "      <th></th>\n",
       "      <th></th>\n",
       "      <th></th>\n",
       "      <th></th>\n",
       "      <th></th>\n",
       "      <th></th>\n",
       "      <th></th>\n",
       "    </tr>\n",
       "  </thead>\n",
       "  <tbody>\n",
       "    <tr>\n",
       "      <th>City of London 001A</th>\n",
       "      <td>34.3</td>\n",
       "      <td>11.7</td>\n",
       "      <td>26.7</td>\n",
       "      <td>18.1</td>\n",
       "      <td>39.6</td>\n",
       "      <td>32.1</td>\n",
       "      <td>27.8</td>\n",
       "      <td>13.8</td>\n",
       "      <td>142.9</td>\n",
       "      <td>82.6</td>\n",
       "      <td>...</td>\n",
       "      <td>202.0</td>\n",
       "      <td>276.2</td>\n",
       "      <td>165.4</td>\n",
       "      <td>190.2</td>\n",
       "      <td>180.5</td>\n",
       "      <td>256.8</td>\n",
       "      <td>210.6</td>\n",
       "      <td>227.8</td>\n",
       "      <td>259.0</td>\n",
       "      <td>203.1</td>\n",
       "    </tr>\n",
       "    <tr>\n",
       "      <th>City of London 001B</th>\n",
       "      <td>33.2</td>\n",
       "      <td>10.6</td>\n",
       "      <td>28.9</td>\n",
       "      <td>18.1</td>\n",
       "      <td>38.6</td>\n",
       "      <td>33.2</td>\n",
       "      <td>26.7</td>\n",
       "      <td>13.8</td>\n",
       "      <td>142.9</td>\n",
       "      <td>82.6</td>\n",
       "      <td>...</td>\n",
       "      <td>203.1</td>\n",
       "      <td>276.2</td>\n",
       "      <td>166.5</td>\n",
       "      <td>191.2</td>\n",
       "      <td>181.6</td>\n",
       "      <td>256.8</td>\n",
       "      <td>212.7</td>\n",
       "      <td>228.9</td>\n",
       "      <td>261.1</td>\n",
       "      <td>204.1</td>\n",
       "    </tr>\n",
       "  </tbody>\n",
       "</table>\n",
       "<p>2 rows × 118 columns</p>\n",
       "</div>"
      ],
      "text/plain": [
       "                     RM70AG  E11BB  SW66SX  SE59RW  BR68ND  HA13UJ  SW170QT  \\\n",
       "LSOA                                                                          \n",
       "City of London 001A    34.3   11.7    26.7    18.1    39.6    32.1     27.8   \n",
       "City of London 001B    33.2   10.6    28.9    18.1    38.6    33.2     26.7   \n",
       "\n",
       "                     NW12BU  DE223NE  NN15BD  ...  LL137TD  LL572PW  CF144XW  \\\n",
       "LSOA                                          ...                              \n",
       "City of London 001A    13.8    142.9    82.6  ...    202.0    276.2    165.4   \n",
       "City of London 001B    13.8    142.9    82.6  ...    203.1    276.2    166.5   \n",
       "\n",
       "                     CF479DT  CF311RQ  SY231ER  SA148QF  SA312AF  SA612PZ  \\\n",
       "LSOA                                                                        \n",
       "City of London 001A    190.2    180.5    256.8    210.6    227.8    259.0   \n",
       "City of London 001B    191.2    181.6    256.8    212.7    228.9    261.1   \n",
       "\n",
       "                     SA66NL  \n",
       "LSOA                         \n",
       "City of London 001A   203.1  \n",
       "City of London 001B   204.1  \n",
       "\n",
       "[2 rows x 118 columns]"
      ]
     },
     "execution_count": 7,
     "metadata": {},
     "output_type": "execute_result"
    }
   ],
   "source": [
    "travel_time = pd.read_csv('./data/lsoa_travel_time_matrix_calibrated.csv', index_col='LSOA')\n",
    "# Limit to units in use\n",
    "travel_time = travel_time[units_in_use]\n",
    "travel_time.head(2)"
   ]
  },
  {
   "cell_type": "markdown",
   "id": "ef7af13e-dc24-4260-b7a5-5a6a1cc8ac7d",
   "metadata": {},
   "source": [
    "Get closest unit and time  for IVT (convert series to dataframes)"
   ]
  },
  {
   "cell_type": "code",
   "execution_count": null,
   "id": "f14be8a2-4540-4a02-9fdd-33c595df532b",
   "metadata": {},
   "outputs": [],
   "source": [
    "closest_unit = pd.DataFrame(travel_time.idxmin(axis=1), columns=['closest_ivt_unit'])"
   ]
  },
  {
   "cell_type": "code",
   "execution_count": null,
   "id": "1dac1110-d664-45b6-8309-3e5a55185ec4",
   "metadata": {},
   "outputs": [],
   "source": [
    "closest_unit_time = pd.DataFrame(travel_time.min(axis=1), columns=['closest_ivt_time'])"
   ]
  },
  {
   "cell_type": "markdown",
   "id": "7f417c40-b6c3-4f27-b306-492d4f926905",
   "metadata": {},
   "source": [
    "Merge into admissions"
   ]
  },
  {
   "cell_type": "code",
   "execution_count": null,
   "id": "404e7b47-da9b-4336-9d59-9dc959cd8f7a",
   "metadata": {},
   "outputs": [],
   "source": [
    "data = data.merge(closest_unit, left_index=True, right_index=True, how='left')\n",
    "data = data.merge(closest_unit_time, left_index=True, right_index=True,  how='left')\n",
    "data.head(2)"
   ]
  },
  {
   "cell_type": "markdown",
   "id": "91cbb0b5-2c33-42c6-bf4e-c6fe39427ef5",
   "metadata": {},
   "source": [
    "Add travel times to thrombectomy units "
   ]
  },
  {
   "cell_type": "code",
   "execution_count": null,
   "id": "8a6ae550-f438-48ee-926f-13b73bdae137",
   "metadata": {},
   "outputs": [],
   "source": [
    "mask = units['Neuroscience'] == 1\n",
    "thromectomy_units = list(units[mask]['Postcode'])"
   ]
  },
  {
   "cell_type": "code",
   "execution_count": null,
   "id": "81ca24b9-9825-4aeb-9775-d9fe762ef92b",
   "metadata": {},
   "outputs": [],
   "source": [
    "closest_thrombectomy_unit = pd.DataFrame(travel_time[thromectomy_units].idxmin(axis=1), columns=['closest_mt_unit'])\n",
    "closest_thrombectomy_time = pd.DataFrame(travel_time[thromectomy_units].min(axis=1), columns=['closest_mt_time'])"
   ]
  },
  {
   "cell_type": "code",
   "execution_count": null,
   "id": "ee345f39-48b4-4cc1-91d5-c29749a3f906",
   "metadata": {},
   "outputs": [],
   "source": [
    "data = data.merge(closest_thrombectomy_unit, left_index=True, right_index=True, how='left')\n",
    "data = data.merge(closest_thrombectomy_time, left_index=True, right_index=True, how='left')\n",
    "data.head(2)"
   ]
  },
  {
   "cell_type": "markdown",
   "id": "bf54f28d-7b28-41ca-a368-8523567b2c3f",
   "metadata": {},
   "source": [
    "Add travel time between IVT and ET units."
   ]
  },
  {
   "cell_type": "code",
   "execution_count": null,
   "id": "94015e2d-8b82-433a-8c7c-16850132d5a7",
   "metadata": {},
   "outputs": [],
   "source": [
    "inter_hospital_times = pd.read_csv('./data/inter_hospital_time_calibrated.csv', index_col='from_postcode')"
   ]
  },
  {
   "cell_type": "code",
   "execution_count": null,
   "id": "b1f5cb2e-5fae-4b22-b670-0114e2ef7770",
   "metadata": {},
   "outputs": [],
   "source": [
    "transfer_times = []\n",
    "for index, value in data.iterrows():\n",
    "    ivt_unit = value['closest_ivt_unit']\n",
    "    mt_unit = value['closest_mt_unit']\n",
    "    transfer_time = inter_hospital_times.loc[ivt_unit][mt_unit]\n",
    "    transfer_times.append(transfer_time)"
   ]
  },
  {
   "cell_type": "code",
   "execution_count": null,
   "id": "0f06f3c3-4c32-4ba1-9f9a-4b5556ec05ea",
   "metadata": {},
   "outputs": [],
   "source": [
    "data['mt_transfer_time'] = transfer_times\n",
    "data.head(2)"
   ]
  },
  {
   "cell_type": "code",
   "execution_count": null,
   "id": "604d570c-017b-4e5d-b27e-9dbfdbc08d48",
   "metadata": {},
   "outputs": [],
   "source": [
    "lsoa_index = data.index\n",
    "lsoa_index"
   ]
  },
  {
   "cell_type": "markdown",
   "id": "e0426700-3e3d-45cf-954d-d5f7190a4801",
   "metadata": {},
   "source": [
    "## Add thrombolysis rate of closest IVT unit"
   ]
  },
  {
   "cell_type": "code",
   "execution_count": null,
   "id": "cbec5bc1-c67a-4b11-82ce-6163ec8426fd",
   "metadata": {},
   "outputs": [],
   "source": [
    "mask = units['Use'] == 1\n",
    "ivt_rate = units[mask][['Postcode', 'ivt_rate']]\n",
    "\n",
    "data = data.merge(\n",
    "    ivt_rate, left_on='closest_ivt_unit', right_on='Postcode', how='left')\n",
    "data.drop('Postcode', axis=1, inplace=True)\n",
    "data.set_index(lsoa_index, inplace=True)"
   ]
  },
  {
   "cell_type": "code",
   "execution_count": null,
   "id": "e95a6ac0-2a7a-4a78-a527-b384f845d80e",
   "metadata": {},
   "outputs": [],
   "source": [
    "data.head(2)"
   ]
  },
  {
   "cell_type": "markdown",
   "id": "6ac62d67-4338-4e2b-aeb8-79f346039afe",
   "metadata": {},
   "source": [
    "## Import deprivation demographics"
   ]
  },
  {
   "cell_type": "code",
   "execution_count": null,
   "id": "55c16f14-1748-480a-afb2-f32301e6c78c",
   "metadata": {},
   "outputs": [],
   "source": [
    "deprivation = pd.read_csv(\n",
    "    './data/demographic/File_7_-_All_IoD2019_Scores__Ranks__Deciles_and_Population_Denominators_3.csv',\n",
    "    index_col='LSOA name (2011)')\n",
    "cols_to_drop = ['LSOA code (2011)','Local Authority District code (2019)']\n",
    "deprivation.drop(cols_to_drop, axis=1, inplace=True)"
   ]
  },
  {
   "cell_type": "code",
   "execution_count": null,
   "id": "f881c3fc-233c-4a7c-a59d-7015006768ff",
   "metadata": {},
   "outputs": [],
   "source": [
    "deprivation.head(2)"
   ]
  },
  {
   "cell_type": "code",
   "execution_count": null,
   "id": "04ec4221-6857-461d-a7b4-2483fbe1ba52",
   "metadata": {},
   "outputs": [],
   "source": [
    "data = data.merge(deprivation, left_index=True, right_index=True,  how='left')\n",
    "\n",
    "data.set_index(lsoa_index, inplace=True)\n",
    "\n",
    "data.head(2)"
   ]
  },
  {
   "cell_type": "markdown",
   "id": "d54c7e49-e355-4516-b025-8283863caf7a",
   "metadata": {},
   "source": [
    "## Import ethnicity"
   ]
  },
  {
   "cell_type": "code",
   "execution_count": null,
   "id": "3b1c17d2-3402-401d-8ee6-484e4c65f27c",
   "metadata": {},
   "outputs": [],
   "source": [
    "ethnicity = pd.read_csv(\n",
    "    './data/demographic/ethnicity.csv',\n",
    "    index_col='geography')\n",
    "\n",
    "# Include only ethnicity for all people (no age/gender breakdown)\n",
    "cols_to_include = [\n",
    "    x for x in list(ethnicity) if 'Sex: All persons; Age: All categories' in x]\n",
    "\n",
    "# Get selected data\n",
    "extract = ethnicity[cols_to_include]\n",
    "\n",
    "# Truncate field name\n",
    "rename_dict = dict()\n",
    "for field in list(extract):\n",
    "    rename_dict[field] = field[44:]\n",
    "extract = extract.rename(rename_dict, axis='columns')\n",
    "    \n",
    "# Merge in with data\n",
    "data = data.merge(extract, left_index=True, right_index=True,  how='left')\n",
    "\n",
    "data.set_index(lsoa_index, inplace=True)\n",
    "\n",
    "data.head(2)"
   ]
  },
  {
   "cell_type": "markdown",
   "id": "4c3c53b0-32eb-4660-a140-6818a45b2a1f",
   "metadata": {},
   "source": [
    "## Import health"
   ]
  },
  {
   "cell_type": "code",
   "execution_count": null,
   "id": "3be41d5b-4743-4390-9685-aaead8c24f90",
   "metadata": {},
   "outputs": [],
   "source": [
    "health = pd.read_csv(\n",
    "    './data/demographic/general_health.csv',\n",
    "    index_col='geography')\n",
    "\n",
    "# Include only ethnicity for all people (no age/gender breakdown)\n",
    "cols_to_include = [\n",
    "    x for x in list(health) if 'Sex: All persons; Age: All categories' in x]\n",
    "\n",
    "# Get selected data\n",
    "extract = health[cols_to_include]\n",
    "\n",
    "# Truncate field name\n",
    "rename_dict = dict()\n",
    "for field in list(extract):\n",
    "    rename_dict[field] = field[44:]\n",
    "extract = extract.rename(rename_dict, axis='columns')\n",
    "    \n",
    "# Merge in with data\n",
    "data = data.merge(extract, left_index=True, right_index=True,  how='left')\n",
    "data.set_index(lsoa_index, inplace=True)\n",
    "\n",
    "data.head(2)"
   ]
  },
  {
   "cell_type": "markdown",
   "id": "746668ab-5d9b-404b-b251-54340b5a20f6",
   "metadata": {},
   "source": [
    "## Import rural vs urban"
   ]
  },
  {
   "cell_type": "code",
   "execution_count": null,
   "id": "e18fc186-2a80-4049-ba7f-4e6680a4cd92",
   "metadata": {},
   "outputs": [],
   "source": [
    "rural_urban = pd.read_csv(\n",
    "    './data/demographic/Rural_Urban_Classification_2011_of_Lower_Layer_Super_Output_Areas_in_England_and_Wales.csv',\n",
    "    index_col='LSOA11NM')\n",
    "cols_to_drop = ['LSOA11CD','RUC11CD', 'FID']\n",
    "rural_urban.drop(cols_to_drop, axis=1, inplace=True)\n",
    "\n",
    "data = data.merge(rural_urban, left_index=True, right_index=True,  how='left')\n",
    "data.set_index(lsoa_index, inplace=True)\n",
    "\n",
    "data.head(2)"
   ]
  },
  {
   "cell_type": "markdown",
   "id": "84510571-8d73-4064-9470-d3dee6cd7acf",
   "metadata": {},
   "source": [
    "## Import age demographics"
   ]
  },
  {
   "cell_type": "code",
   "execution_count": null,
   "id": "429ae120-45ff-4d4b-91bf-b14eacda63bb",
   "metadata": {},
   "outputs": [],
   "source": [
    "ages = pd.read_csv(\n",
    "    './data/demographic/mid_2018_persons.csv',\n",
    "    index_col='LSOA')\n",
    "\n",
    "all_ages = ages['All Ages']\n",
    "ages.drop('All Ages', axis=1, inplace=True)\n",
    "data['All persons'] = all_ages\n",
    "\n",
    "# Change '90+' to 91\n",
    "rename_dict = dict()\n",
    "rename_dict['90+'] = '91'\n",
    "ages = ages.rename(rename_dict, axis='columns')\n",
    "\n",
    "age_bands = pd.DataFrame()\n",
    "\n",
    "for band in np.arange(0, 96,5):\n",
    "    cols_to_get = []\n",
    "    for field in list(ages):\n",
    "        if int(int(field)/5) * 5 == band:\n",
    "            cols_to_get.append(field)\n",
    "    extract = ages[cols_to_get]\n",
    "    age_bands[f'age band {band}'] = extract.sum(axis=1)\n",
    "    \n",
    "data = data.merge(age_bands, left_index=True, right_index=True,  how='left')\n",
    "data.set_index(lsoa_index, inplace=True)\n",
    "data.head(2)"
   ]
  },
  {
   "cell_type": "code",
   "execution_count": null,
   "id": "3b934c52-3115-421a-9651-a082bfab1e82",
   "metadata": {},
   "outputs": [],
   "source": [
    "ages = pd.read_csv(\n",
    "    './data/demographic/mid_2018_females.csv',\n",
    "    index_col='LSOA')\n",
    "\n",
    "all_ages = ages['All Ages']\n",
    "ages.drop('All Ages', axis=1, inplace=True)\n",
    "data['All females'] = all_ages\n",
    "\n",
    "# Change '90+' to 91\n",
    "rename_dict = dict()\n",
    "rename_dict['90+'] = '91'\n",
    "ages = ages.rename(rename_dict, axis='columns')\n",
    "\n",
    "age_bands = pd.DataFrame()\n",
    "\n",
    "for band in np.arange(0, 96,5):\n",
    "    cols_to_get = []\n",
    "    for field in list(ages):\n",
    "        if int(int(field)/5) * 5 == band:\n",
    "            cols_to_get.append(field)\n",
    "    extract = ages[cols_to_get]\n",
    "    age_bands[f'age band females {band}'] = extract.sum(axis=1)\n",
    "    \n",
    "data = data.merge(age_bands, left_index=True, right_index=True,  how='left')\n",
    "data.set_index(lsoa_index, inplace=True)\n",
    "data.head(2)"
   ]
  },
  {
   "cell_type": "code",
   "execution_count": null,
   "id": "89037b3a-c75d-470c-ad42-0d5e6ac7a691",
   "metadata": {},
   "outputs": [],
   "source": [
    "ages = pd.read_csv(\n",
    "    './data/demographic/mid_2018_males.csv',\n",
    "    index_col='LSOA')\n",
    "\n",
    "all_ages = ages['All Ages']\n",
    "ages.drop('All Ages', axis=1, inplace=True)\n",
    "data['All males'] = all_ages\n",
    "\n",
    "# Change '90+' to 91\n",
    "rename_dict = dict()\n",
    "rename_dict['90+'] = '91'\n",
    "ages = ages.rename(rename_dict, axis='columns')\n",
    "\n",
    "age_bands = pd.DataFrame()\n",
    "\n",
    "for band in np.arange(0, 96,5):\n",
    "    cols_to_get = []\n",
    "    for field in list(ages):\n",
    "        if int(int(field)/5) * 5 == band:\n",
    "            cols_to_get.append(field)\n",
    "    extract = ages[cols_to_get]\n",
    "    age_bands[f'age band males {band}'] = extract.sum(axis=1)\n",
    "    \n",
    "data = data.merge(age_bands, left_index=True, right_index=True,  how='left')\n",
    "data.set_index(lsoa_index, inplace=True)\n",
    "data.head(2)"
   ]
  },
  {
   "cell_type": "markdown",
   "id": "7bb0d5ba-d6f1-4665-91df-fcb9085b93ff",
   "metadata": {},
   "source": [
    "## Save output"
   ]
  },
  {
   "cell_type": "code",
   "execution_count": null,
   "id": "7913609b-b95e-469c-a5c8-4b6680a6f222",
   "metadata": {},
   "outputs": [],
   "source": [
    "data.to_csv('./data/collated_data.csv', index_label='LSOA')"
   ]
  }
 ],
 "metadata": {
  "kernelspec": {
   "display_name": "Python 3 (ipykernel)",
   "language": "python",
   "name": "python3"
  },
  "language_info": {
   "codemirror_mode": {
    "name": "ipython",
    "version": 3
   },
   "file_extension": ".py",
   "mimetype": "text/x-python",
   "name": "python",
   "nbconvert_exporter": "python",
   "pygments_lexer": "ipython3",
   "version": "3.10.8"
  }
 },
 "nbformat": 4,
 "nbformat_minor": 5
}
