{
 "cells": [
  {
   "cell_type": "markdown",
   "metadata": {},
   "source": [
    "# Collate demographic data for each LSOA\n",
    "\n",
    "This notebook collates various and saves as `collated_data.csv` in data folder. "
   ]
  },
  {
   "cell_type": "code",
   "execution_count": 1,
   "metadata": {},
   "outputs": [],
   "source": [
    "import numpy as np\n",
    "import pandas as pd\n",
    "import geopandas as gpd"
   ]
  },
  {
   "cell_type": "markdown",
   "metadata": {},
   "source": [
    "## Unzip required travel matrix file"
   ]
  },
  {
   "cell_type": "code",
   "execution_count": 2,
   "metadata": {},
   "outputs": [],
   "source": [
    "import zipfile\n",
    "with zipfile.ZipFile(\"./data/lsoa_travel_time_matrix_calibrated.zip\",\"r\") as zip_ref:\n",
    "    zip_ref.extractall(\"./data/\")"
   ]
  },
  {
   "cell_type": "markdown",
   "metadata": {},
   "source": [
    "## Import admissions data"
   ]
  },
  {
   "cell_type": "code",
   "execution_count": 3,
   "metadata": {},
   "outputs": [
    {
     "data": {
      "text/html": [
       "<div>\n",
       "<style scoped>\n",
       "    .dataframe tbody tr th:only-of-type {\n",
       "        vertical-align: middle;\n",
       "    }\n",
       "\n",
       "    .dataframe tbody tr th {\n",
       "        vertical-align: top;\n",
       "    }\n",
       "\n",
       "    .dataframe thead th {\n",
       "        text-align: right;\n",
       "    }\n",
       "</style>\n",
       "<table border=\"1\" class=\"dataframe\">\n",
       "  <thead>\n",
       "    <tr style=\"text-align: right;\">\n",
       "      <th></th>\n",
       "      <th>admissions</th>\n",
       "    </tr>\n",
       "    <tr>\n",
       "      <th>area</th>\n",
       "      <th></th>\n",
       "    </tr>\n",
       "  </thead>\n",
       "  <tbody>\n",
       "    <tr>\n",
       "      <th>Welwyn Hatfield 010F</th>\n",
       "      <td>0.666667</td>\n",
       "    </tr>\n",
       "    <tr>\n",
       "      <th>Welwyn Hatfield 012A</th>\n",
       "      <td>4.000000</td>\n",
       "    </tr>\n",
       "  </tbody>\n",
       "</table>\n",
       "</div>"
      ],
      "text/plain": [
       "                      admissions\n",
       "area                            \n",
       "Welwyn Hatfield 010F    0.666667\n",
       "Welwyn Hatfield 012A    4.000000"
      ]
     },
     "execution_count": 3,
     "metadata": {},
     "output_type": "execute_result"
    }
   ],
   "source": [
    "data = pd.read_csv('./data/admissions_2017-2019.csv', index_col='area')\n",
    "data.rename(columns={'Admissions': 'admissions'}, inplace=True)\n",
    "\n",
    "data.head(2)"
   ]
  },
  {
   "cell_type": "markdown",
   "metadata": {},
   "source": [
    "## Import units"
   ]
  },
  {
   "cell_type": "code",
   "execution_count": 4,
   "metadata": {},
   "outputs": [
    {
     "data": {
      "text/html": [
       "<div>\n",
       "<style scoped>\n",
       "    .dataframe tbody tr th:only-of-type {\n",
       "        vertical-align: middle;\n",
       "    }\n",
       "\n",
       "    .dataframe tbody tr th {\n",
       "        vertical-align: top;\n",
       "    }\n",
       "\n",
       "    .dataframe thead th {\n",
       "        text-align: right;\n",
       "    }\n",
       "</style>\n",
       "<table border=\"1\" class=\"dataframe\">\n",
       "  <thead>\n",
       "    <tr style=\"text-align: right;\">\n",
       "      <th></th>\n",
       "      <th>Postcode</th>\n",
       "      <th>Hospital_name</th>\n",
       "      <th>Use_IVT</th>\n",
       "      <th>Use_MT</th>\n",
       "      <th>Country</th>\n",
       "      <th>Strategic Clinical Network</th>\n",
       "      <th>Health Board / Trust</th>\n",
       "      <th>Stroke Team</th>\n",
       "      <th>SSNAP name</th>\n",
       "      <th>Admissions 21/22</th>\n",
       "      <th>Thrombolysis</th>\n",
       "      <th>ivt_rate</th>\n",
       "      <th>Easting</th>\n",
       "      <th>Northing</th>\n",
       "      <th>Neuroscience</th>\n",
       "      <th>30 England Thrombectomy Example</th>\n",
       "      <th>hospital_city</th>\n",
       "      <th>Notes</th>\n",
       "    </tr>\n",
       "  </thead>\n",
       "  <tbody>\n",
       "    <tr>\n",
       "      <th>0</th>\n",
       "      <td>RM70AG</td>\n",
       "      <td>RM70AG</td>\n",
       "      <td>1</td>\n",
       "      <td>1</td>\n",
       "      <td>England</td>\n",
       "      <td>London SCN</td>\n",
       "      <td>Barking; Havering and Redbridge University Hos...</td>\n",
       "      <td>Queen's Hospital, Romford</td>\n",
       "      <td>Queens Hospital Romford HASU</td>\n",
       "      <td>981</td>\n",
       "      <td>117</td>\n",
       "      <td>11.9</td>\n",
       "      <td>551118</td>\n",
       "      <td>187780</td>\n",
       "      <td>1</td>\n",
       "      <td>0</td>\n",
       "      <td>Romford</td>\n",
       "      <td>NaN</td>\n",
       "    </tr>\n",
       "    <tr>\n",
       "      <th>1</th>\n",
       "      <td>E11BB</td>\n",
       "      <td>E11BB</td>\n",
       "      <td>1</td>\n",
       "      <td>1</td>\n",
       "      <td>England</td>\n",
       "      <td>London SCN</td>\n",
       "      <td>Barts Health NHS Trust</td>\n",
       "      <td>The Royal London Hospital</td>\n",
       "      <td>Royal London Hospital HASU</td>\n",
       "      <td>861</td>\n",
       "      <td>115</td>\n",
       "      <td>13.4</td>\n",
       "      <td>534829</td>\n",
       "      <td>181798</td>\n",
       "      <td>1</td>\n",
       "      <td>1</td>\n",
       "      <td>Royal London</td>\n",
       "      <td>NaN</td>\n",
       "    </tr>\n",
       "  </tbody>\n",
       "</table>\n",
       "</div>"
      ],
      "text/plain": [
       "  Postcode Hospital_name  Use_IVT  Use_MT  Country Strategic Clinical Network  \\\n",
       "0   RM70AG        RM70AG        1       1  England                 London SCN   \n",
       "1    E11BB         E11BB        1       1  England                 London SCN   \n",
       "\n",
       "                                Health Board / Trust  \\\n",
       "0  Barking; Havering and Redbridge University Hos...   \n",
       "1                             Barts Health NHS Trust   \n",
       "\n",
       "                 Stroke Team                    SSNAP name  Admissions 21/22  \\\n",
       "0  Queen's Hospital, Romford  Queens Hospital Romford HASU               981   \n",
       "1  The Royal London Hospital    Royal London Hospital HASU               861   \n",
       "\n",
       "   Thrombolysis  ivt_rate  Easting  Northing  Neuroscience  \\\n",
       "0           117      11.9   551118    187780             1   \n",
       "1           115      13.4   534829    181798             1   \n",
       "\n",
       "   30 England Thrombectomy Example hospital_city Notes  \n",
       "0                                0       Romford   NaN  \n",
       "1                                1  Royal London   NaN  "
      ]
     },
     "execution_count": 4,
     "metadata": {},
     "output_type": "execute_result"
    }
   ],
   "source": [
    "units = pd.read_csv('./data/stroke_hospitals_2022.csv')\n",
    "\n",
    "units.head(2)"
   ]
  },
  {
   "cell_type": "markdown",
   "metadata": {},
   "source": [
    "Get postcodes of unit in use for IVT"
   ]
  },
  {
   "cell_type": "code",
   "execution_count": 5,
   "metadata": {},
   "outputs": [
    {
     "data": {
      "text/plain": [
       "['RM70AG', 'E11BB', 'SW66SX', 'SE59RW', 'BR68ND']"
      ]
     },
     "execution_count": 5,
     "metadata": {},
     "output_type": "execute_result"
    }
   ],
   "source": [
    "mask = units['Use_IVT'] == 1\n",
    "ivt_units = list(units[mask]['Postcode'])\n",
    "ivt_units[0:5]"
   ]
  },
  {
   "cell_type": "markdown",
   "metadata": {},
   "source": [
    "Get postcodes of units providing thrombectomy."
   ]
  },
  {
   "cell_type": "code",
   "execution_count": 6,
   "metadata": {},
   "outputs": [
    {
     "data": {
      "text/plain": [
       "['RM70AG', 'E11BB', 'SW66SX', 'SE59RW', 'SW170QT']"
      ]
     },
     "execution_count": 6,
     "metadata": {},
     "output_type": "execute_result"
    }
   ],
   "source": [
    "mask = units['Use_MT'] == 1\n",
    "mt_units = list(units[mask]['Postcode'])\n",
    "mt_units[0:5]"
   ]
  },
  {
   "cell_type": "markdown",
   "metadata": {},
   "source": [
    "## Import travel time to stroke units"
   ]
  },
  {
   "cell_type": "code",
   "execution_count": 7,
   "metadata": {},
   "outputs": [],
   "source": [
    "travel_time = pd.read_csv('./data/lsoa_travel_time_matrix_calibrated.csv', index_col='LSOA')"
   ]
  },
  {
   "cell_type": "markdown",
   "metadata": {},
   "source": [
    "### Add travel times to thrombolysis units \n",
    "Limit to units that use IVT"
   ]
  },
  {
   "cell_type": "code",
   "execution_count": 8,
   "metadata": {},
   "outputs": [
    {
     "data": {
      "text/html": [
       "<div>\n",
       "<style scoped>\n",
       "    .dataframe tbody tr th:only-of-type {\n",
       "        vertical-align: middle;\n",
       "    }\n",
       "\n",
       "    .dataframe tbody tr th {\n",
       "        vertical-align: top;\n",
       "    }\n",
       "\n",
       "    .dataframe thead th {\n",
       "        text-align: right;\n",
       "    }\n",
       "</style>\n",
       "<table border=\"1\" class=\"dataframe\">\n",
       "  <thead>\n",
       "    <tr style=\"text-align: right;\">\n",
       "      <th></th>\n",
       "      <th>RM70AG</th>\n",
       "      <th>E11BB</th>\n",
       "      <th>SW66SX</th>\n",
       "      <th>SE59RW</th>\n",
       "      <th>BR68ND</th>\n",
       "      <th>HA13UJ</th>\n",
       "      <th>SW170QT</th>\n",
       "      <th>NW12BU</th>\n",
       "      <th>DE223NE</th>\n",
       "      <th>NN15BD</th>\n",
       "      <th>...</th>\n",
       "      <th>LL137TD</th>\n",
       "      <th>LL572PW</th>\n",
       "      <th>CF144XW</th>\n",
       "      <th>CF479DT</th>\n",
       "      <th>CF311RQ</th>\n",
       "      <th>SY231ER</th>\n",
       "      <th>SA148QF</th>\n",
       "      <th>SA312AF</th>\n",
       "      <th>SA612PZ</th>\n",
       "      <th>SA66NL</th>\n",
       "    </tr>\n",
       "    <tr>\n",
       "      <th>LSOA</th>\n",
       "      <th></th>\n",
       "      <th></th>\n",
       "      <th></th>\n",
       "      <th></th>\n",
       "      <th></th>\n",
       "      <th></th>\n",
       "      <th></th>\n",
       "      <th></th>\n",
       "      <th></th>\n",
       "      <th></th>\n",
       "      <th></th>\n",
       "      <th></th>\n",
       "      <th></th>\n",
       "      <th></th>\n",
       "      <th></th>\n",
       "      <th></th>\n",
       "      <th></th>\n",
       "      <th></th>\n",
       "      <th></th>\n",
       "      <th></th>\n",
       "      <th></th>\n",
       "    </tr>\n",
       "  </thead>\n",
       "  <tbody>\n",
       "    <tr>\n",
       "      <th>City of London 001A</th>\n",
       "      <td>34.3</td>\n",
       "      <td>11.7</td>\n",
       "      <td>26.7</td>\n",
       "      <td>18.1</td>\n",
       "      <td>39.6</td>\n",
       "      <td>32.1</td>\n",
       "      <td>27.8</td>\n",
       "      <td>13.8</td>\n",
       "      <td>142.9</td>\n",
       "      <td>82.6</td>\n",
       "      <td>...</td>\n",
       "      <td>202.0</td>\n",
       "      <td>276.2</td>\n",
       "      <td>165.4</td>\n",
       "      <td>190.2</td>\n",
       "      <td>180.5</td>\n",
       "      <td>256.8</td>\n",
       "      <td>210.6</td>\n",
       "      <td>227.8</td>\n",
       "      <td>259.0</td>\n",
       "      <td>203.1</td>\n",
       "    </tr>\n",
       "    <tr>\n",
       "      <th>City of London 001B</th>\n",
       "      <td>33.2</td>\n",
       "      <td>10.6</td>\n",
       "      <td>28.9</td>\n",
       "      <td>18.1</td>\n",
       "      <td>38.6</td>\n",
       "      <td>33.2</td>\n",
       "      <td>26.7</td>\n",
       "      <td>13.8</td>\n",
       "      <td>142.9</td>\n",
       "      <td>82.6</td>\n",
       "      <td>...</td>\n",
       "      <td>203.1</td>\n",
       "      <td>276.2</td>\n",
       "      <td>166.5</td>\n",
       "      <td>191.2</td>\n",
       "      <td>181.6</td>\n",
       "      <td>256.8</td>\n",
       "      <td>212.7</td>\n",
       "      <td>228.9</td>\n",
       "      <td>261.1</td>\n",
       "      <td>204.1</td>\n",
       "    </tr>\n",
       "  </tbody>\n",
       "</table>\n",
       "<p>2 rows × 113 columns</p>\n",
       "</div>"
      ],
      "text/plain": [
       "                     RM70AG  E11BB  SW66SX  SE59RW  BR68ND  HA13UJ  SW170QT  \\\n",
       "LSOA                                                                          \n",
       "City of London 001A    34.3   11.7    26.7    18.1    39.6    32.1     27.8   \n",
       "City of London 001B    33.2   10.6    28.9    18.1    38.6    33.2     26.7   \n",
       "\n",
       "                     NW12BU  DE223NE  NN15BD  ...  LL137TD  LL572PW  CF144XW  \\\n",
       "LSOA                                          ...                              \n",
       "City of London 001A    13.8    142.9    82.6  ...    202.0    276.2    165.4   \n",
       "City of London 001B    13.8    142.9    82.6  ...    203.1    276.2    166.5   \n",
       "\n",
       "                     CF479DT  CF311RQ  SY231ER  SA148QF  SA312AF  SA612PZ  \\\n",
       "LSOA                                                                        \n",
       "City of London 001A    190.2    180.5    256.8    210.6    227.8    259.0   \n",
       "City of London 001B    191.2    181.6    256.8    212.7    228.9    261.1   \n",
       "\n",
       "                     SA66NL  \n",
       "LSOA                         \n",
       "City of London 001A   203.1  \n",
       "City of London 001B   204.1  \n",
       "\n",
       "[2 rows x 113 columns]"
      ]
     },
     "execution_count": 8,
     "metadata": {},
     "output_type": "execute_result"
    }
   ],
   "source": [
    "travel_time_ivt = travel_time[ivt_units]\n",
    "travel_time_ivt.head(2)"
   ]
  },
  {
   "cell_type": "markdown",
   "metadata": {},
   "source": [
    "Get closest unit and time  for IVT (convert series to dataframes)"
   ]
  },
  {
   "cell_type": "code",
   "execution_count": 9,
   "metadata": {},
   "outputs": [],
   "source": [
    "closest_ivt_unit = pd.DataFrame(travel_time_ivt.idxmin(axis=1), columns=['closest_ivt_unit'])\n",
    "closest_ivt_unit_time = pd.DataFrame(travel_time_ivt.min(axis=1), columns=['closest_ivt_unit_time'])"
   ]
  },
  {
   "cell_type": "markdown",
   "metadata": {},
   "source": [
    "Merge into admissions"
   ]
  },
  {
   "cell_type": "code",
   "execution_count": 10,
   "metadata": {},
   "outputs": [
    {
     "data": {
      "text/html": [
       "<div>\n",
       "<style scoped>\n",
       "    .dataframe tbody tr th:only-of-type {\n",
       "        vertical-align: middle;\n",
       "    }\n",
       "\n",
       "    .dataframe tbody tr th {\n",
       "        vertical-align: top;\n",
       "    }\n",
       "\n",
       "    .dataframe thead th {\n",
       "        text-align: right;\n",
       "    }\n",
       "</style>\n",
       "<table border=\"1\" class=\"dataframe\">\n",
       "  <thead>\n",
       "    <tr style=\"text-align: right;\">\n",
       "      <th></th>\n",
       "      <th>admissions</th>\n",
       "      <th>closest_ivt_unit</th>\n",
       "      <th>closest_ivt_unit_time</th>\n",
       "    </tr>\n",
       "    <tr>\n",
       "      <th>area</th>\n",
       "      <th></th>\n",
       "      <th></th>\n",
       "      <th></th>\n",
       "    </tr>\n",
       "  </thead>\n",
       "  <tbody>\n",
       "    <tr>\n",
       "      <th>Welwyn Hatfield 010F</th>\n",
       "      <td>0.666667</td>\n",
       "      <td>SG14AB</td>\n",
       "      <td>19.2</td>\n",
       "    </tr>\n",
       "    <tr>\n",
       "      <th>Welwyn Hatfield 012A</th>\n",
       "      <td>4.000000</td>\n",
       "      <td>SG14AB</td>\n",
       "      <td>20.3</td>\n",
       "    </tr>\n",
       "  </tbody>\n",
       "</table>\n",
       "</div>"
      ],
      "text/plain": [
       "                      admissions closest_ivt_unit  closest_ivt_unit_time\n",
       "area                                                                    \n",
       "Welwyn Hatfield 010F    0.666667           SG14AB                   19.2\n",
       "Welwyn Hatfield 012A    4.000000           SG14AB                   20.3"
      ]
     },
     "execution_count": 10,
     "metadata": {},
     "output_type": "execute_result"
    }
   ],
   "source": [
    "data = data.merge(closest_ivt_unit, left_index=True, right_index=True, how='left')\n",
    "data = data.merge(closest_ivt_unit_time, left_index=True, right_index=True,  how='left')\n",
    "data.head(2)"
   ]
  },
  {
   "cell_type": "markdown",
   "metadata": {},
   "source": [
    "### Add travel times to thrombectomy units \n",
    "Limit to units that use MT"
   ]
  },
  {
   "cell_type": "code",
   "execution_count": 11,
   "metadata": {},
   "outputs": [
    {
     "data": {
      "text/html": [
       "<div>\n",
       "<style scoped>\n",
       "    .dataframe tbody tr th:only-of-type {\n",
       "        vertical-align: middle;\n",
       "    }\n",
       "\n",
       "    .dataframe tbody tr th {\n",
       "        vertical-align: top;\n",
       "    }\n",
       "\n",
       "    .dataframe thead th {\n",
       "        text-align: right;\n",
       "    }\n",
       "</style>\n",
       "<table border=\"1\" class=\"dataframe\">\n",
       "  <thead>\n",
       "    <tr style=\"text-align: right;\">\n",
       "      <th></th>\n",
       "      <th>RM70AG</th>\n",
       "      <th>E11BB</th>\n",
       "      <th>SW66SX</th>\n",
       "      <th>SE59RW</th>\n",
       "      <th>SW170QT</th>\n",
       "      <th>NW12BU</th>\n",
       "      <th>NG72UH</th>\n",
       "      <th>CB20QQ</th>\n",
       "      <th>B152TH</th>\n",
       "      <th>CV22DX</th>\n",
       "      <th>...</th>\n",
       "      <th>NE14LP</th>\n",
       "      <th>HU32JZ</th>\n",
       "      <th>LS13EX</th>\n",
       "      <th>S102JF</th>\n",
       "      <th>BN25BE</th>\n",
       "      <th>BS105NB</th>\n",
       "      <th>PL68DH</th>\n",
       "      <th>OX39DU</th>\n",
       "      <th>SO166YD</th>\n",
       "      <th>CF144XW</th>\n",
       "    </tr>\n",
       "    <tr>\n",
       "      <th>LSOA</th>\n",
       "      <th></th>\n",
       "      <th></th>\n",
       "      <th></th>\n",
       "      <th></th>\n",
       "      <th></th>\n",
       "      <th></th>\n",
       "      <th></th>\n",
       "      <th></th>\n",
       "      <th></th>\n",
       "      <th></th>\n",
       "      <th></th>\n",
       "      <th></th>\n",
       "      <th></th>\n",
       "      <th></th>\n",
       "      <th></th>\n",
       "      <th></th>\n",
       "      <th></th>\n",
       "      <th></th>\n",
       "      <th></th>\n",
       "      <th></th>\n",
       "      <th></th>\n",
       "    </tr>\n",
       "  </thead>\n",
       "  <tbody>\n",
       "    <tr>\n",
       "      <th>City of London 001A</th>\n",
       "      <td>34.3</td>\n",
       "      <td>11.7</td>\n",
       "      <td>26.7</td>\n",
       "      <td>18.1</td>\n",
       "      <td>27.8</td>\n",
       "      <td>13.8</td>\n",
       "      <td>139.6</td>\n",
       "      <td>70.8</td>\n",
       "      <td>137.5</td>\n",
       "      <td>109.5</td>\n",
       "      <td>...</td>\n",
       "      <td>283.7</td>\n",
       "      <td>218.1</td>\n",
       "      <td>202.0</td>\n",
       "      <td>175.1</td>\n",
       "      <td>86.9</td>\n",
       "      <td>135.3</td>\n",
       "      <td>250.4</td>\n",
       "      <td>76.2</td>\n",
       "      <td>98.8</td>\n",
       "      <td>165.4</td>\n",
       "    </tr>\n",
       "    <tr>\n",
       "      <th>City of London 001B</th>\n",
       "      <td>33.2</td>\n",
       "      <td>10.6</td>\n",
       "      <td>28.9</td>\n",
       "      <td>18.1</td>\n",
       "      <td>26.7</td>\n",
       "      <td>13.8</td>\n",
       "      <td>139.6</td>\n",
       "      <td>69.7</td>\n",
       "      <td>137.5</td>\n",
       "      <td>109.5</td>\n",
       "      <td>...</td>\n",
       "      <td>283.7</td>\n",
       "      <td>218.1</td>\n",
       "      <td>202.0</td>\n",
       "      <td>175.1</td>\n",
       "      <td>86.9</td>\n",
       "      <td>136.4</td>\n",
       "      <td>251.4</td>\n",
       "      <td>76.2</td>\n",
       "      <td>100.9</td>\n",
       "      <td>166.5</td>\n",
       "    </tr>\n",
       "  </tbody>\n",
       "</table>\n",
       "<p>2 rows × 24 columns</p>\n",
       "</div>"
      ],
      "text/plain": [
       "                     RM70AG  E11BB  SW66SX  SE59RW  SW170QT  NW12BU  NG72UH  \\\n",
       "LSOA                                                                          \n",
       "City of London 001A    34.3   11.7    26.7    18.1     27.8    13.8   139.6   \n",
       "City of London 001B    33.2   10.6    28.9    18.1     26.7    13.8   139.6   \n",
       "\n",
       "                     CB20QQ  B152TH  CV22DX  ...  NE14LP  HU32JZ  LS13EX  \\\n",
       "LSOA                                         ...                           \n",
       "City of London 001A    70.8   137.5   109.5  ...   283.7   218.1   202.0   \n",
       "City of London 001B    69.7   137.5   109.5  ...   283.7   218.1   202.0   \n",
       "\n",
       "                     S102JF  BN25BE  BS105NB  PL68DH  OX39DU  SO166YD  CF144XW  \n",
       "LSOA                                                                            \n",
       "City of London 001A   175.1    86.9    135.3   250.4    76.2     98.8    165.4  \n",
       "City of London 001B   175.1    86.9    136.4   251.4    76.2    100.9    166.5  \n",
       "\n",
       "[2 rows x 24 columns]"
      ]
     },
     "execution_count": 11,
     "metadata": {},
     "output_type": "execute_result"
    }
   ],
   "source": [
    "travel_time_mt = travel_time[mt_units]\n",
    "travel_time_mt.head(2)"
   ]
  },
  {
   "cell_type": "markdown",
   "metadata": {},
   "source": [
    "Get closest unit and time  for MT (convert series to dataframes)"
   ]
  },
  {
   "cell_type": "code",
   "execution_count": 12,
   "metadata": {},
   "outputs": [],
   "source": [
    "closest_mt_unit = pd.DataFrame(travel_time_mt.idxmin(axis=1), columns=['closest_mt_unit'])\n",
    "closest_mt_unit_time = pd.DataFrame(travel_time_mt.min(axis=1), columns=['closest_mt_unit_time'])"
   ]
  },
  {
   "cell_type": "code",
   "execution_count": 13,
   "metadata": {},
   "outputs": [
    {
     "data": {
      "text/html": [
       "<div>\n",
       "<style scoped>\n",
       "    .dataframe tbody tr th:only-of-type {\n",
       "        vertical-align: middle;\n",
       "    }\n",
       "\n",
       "    .dataframe tbody tr th {\n",
       "        vertical-align: top;\n",
       "    }\n",
       "\n",
       "    .dataframe thead th {\n",
       "        text-align: right;\n",
       "    }\n",
       "</style>\n",
       "<table border=\"1\" class=\"dataframe\">\n",
       "  <thead>\n",
       "    <tr style=\"text-align: right;\">\n",
       "      <th></th>\n",
       "      <th>admissions</th>\n",
       "      <th>closest_ivt_unit</th>\n",
       "      <th>closest_ivt_unit_time</th>\n",
       "      <th>closest_mt_unit</th>\n",
       "      <th>closest_mt_unit_time</th>\n",
       "    </tr>\n",
       "    <tr>\n",
       "      <th>area</th>\n",
       "      <th></th>\n",
       "      <th></th>\n",
       "      <th></th>\n",
       "      <th></th>\n",
       "      <th></th>\n",
       "    </tr>\n",
       "  </thead>\n",
       "  <tbody>\n",
       "    <tr>\n",
       "      <th>Welwyn Hatfield 010F</th>\n",
       "      <td>0.666667</td>\n",
       "      <td>SG14AB</td>\n",
       "      <td>19.2</td>\n",
       "      <td>NW12BU</td>\n",
       "      <td>37.5</td>\n",
       "    </tr>\n",
       "    <tr>\n",
       "      <th>Welwyn Hatfield 012A</th>\n",
       "      <td>4.000000</td>\n",
       "      <td>SG14AB</td>\n",
       "      <td>20.3</td>\n",
       "      <td>NW12BU</td>\n",
       "      <td>37.5</td>\n",
       "    </tr>\n",
       "  </tbody>\n",
       "</table>\n",
       "</div>"
      ],
      "text/plain": [
       "                      admissions closest_ivt_unit  closest_ivt_unit_time  \\\n",
       "area                                                                       \n",
       "Welwyn Hatfield 010F    0.666667           SG14AB                   19.2   \n",
       "Welwyn Hatfield 012A    4.000000           SG14AB                   20.3   \n",
       "\n",
       "                     closest_mt_unit  closest_mt_unit_time  \n",
       "area                                                        \n",
       "Welwyn Hatfield 010F          NW12BU                  37.5  \n",
       "Welwyn Hatfield 012A          NW12BU                  37.5  "
      ]
     },
     "execution_count": 13,
     "metadata": {},
     "output_type": "execute_result"
    }
   ],
   "source": [
    "data = data.merge(closest_mt_unit, left_index=True, right_index=True, how='left')\n",
    "data = data.merge(closest_mt_unit_time, left_index=True, right_index=True, how='left')\n",
    "data.head(2)"
   ]
  },
  {
   "cell_type": "markdown",
   "metadata": {},
   "source": [
    "Add travel time between IVT and ET units."
   ]
  },
  {
   "cell_type": "code",
   "execution_count": 14,
   "metadata": {},
   "outputs": [],
   "source": [
    "inter_hospital_times = pd.read_csv('./data/inter_hospital_time_calibrated.csv', index_col='from_postcode')"
   ]
  },
  {
   "cell_type": "code",
   "execution_count": 15,
   "metadata": {},
   "outputs": [],
   "source": [
    "transfer_times = []\n",
    "for index, value in data.iterrows():\n",
    "    ivt_unit = value['closest_ivt_unit']\n",
    "    mt_unit = value['closest_mt_unit']\n",
    "    transfer_time = inter_hospital_times.loc[ivt_unit][mt_unit]\n",
    "    transfer_times.append(transfer_time)"
   ]
  },
  {
   "cell_type": "code",
   "execution_count": 16,
   "metadata": {},
   "outputs": [
    {
     "data": {
      "text/html": [
       "<div>\n",
       "<style scoped>\n",
       "    .dataframe tbody tr th:only-of-type {\n",
       "        vertical-align: middle;\n",
       "    }\n",
       "\n",
       "    .dataframe tbody tr th {\n",
       "        vertical-align: top;\n",
       "    }\n",
       "\n",
       "    .dataframe thead th {\n",
       "        text-align: right;\n",
       "    }\n",
       "</style>\n",
       "<table border=\"1\" class=\"dataframe\">\n",
       "  <thead>\n",
       "    <tr style=\"text-align: right;\">\n",
       "      <th></th>\n",
       "      <th>admissions</th>\n",
       "      <th>closest_ivt_unit</th>\n",
       "      <th>closest_ivt_unit_time</th>\n",
       "      <th>closest_mt_unit</th>\n",
       "      <th>closest_mt_unit_time</th>\n",
       "      <th>mt_transfer_time</th>\n",
       "    </tr>\n",
       "    <tr>\n",
       "      <th>area</th>\n",
       "      <th></th>\n",
       "      <th></th>\n",
       "      <th></th>\n",
       "      <th></th>\n",
       "      <th></th>\n",
       "      <th></th>\n",
       "    </tr>\n",
       "  </thead>\n",
       "  <tbody>\n",
       "    <tr>\n",
       "      <th>Welwyn Hatfield 010F</th>\n",
       "      <td>0.666667</td>\n",
       "      <td>SG14AB</td>\n",
       "      <td>19.2</td>\n",
       "      <td>NW12BU</td>\n",
       "      <td>37.5</td>\n",
       "      <td>47.2</td>\n",
       "    </tr>\n",
       "    <tr>\n",
       "      <th>Welwyn Hatfield 012A</th>\n",
       "      <td>4.000000</td>\n",
       "      <td>SG14AB</td>\n",
       "      <td>20.3</td>\n",
       "      <td>NW12BU</td>\n",
       "      <td>37.5</td>\n",
       "      <td>47.2</td>\n",
       "    </tr>\n",
       "  </tbody>\n",
       "</table>\n",
       "</div>"
      ],
      "text/plain": [
       "                      admissions closest_ivt_unit  closest_ivt_unit_time  \\\n",
       "area                                                                       \n",
       "Welwyn Hatfield 010F    0.666667           SG14AB                   19.2   \n",
       "Welwyn Hatfield 012A    4.000000           SG14AB                   20.3   \n",
       "\n",
       "                     closest_mt_unit  closest_mt_unit_time  mt_transfer_time  \n",
       "area                                                                          \n",
       "Welwyn Hatfield 010F          NW12BU                  37.5              47.2  \n",
       "Welwyn Hatfield 012A          NW12BU                  37.5              47.2  "
      ]
     },
     "execution_count": 16,
     "metadata": {},
     "output_type": "execute_result"
    }
   ],
   "source": [
    "data['mt_transfer_time'] = transfer_times\n",
    "data.head(2)"
   ]
  },
  {
   "cell_type": "code",
   "execution_count": 17,
   "metadata": {},
   "outputs": [
    {
     "data": {
      "text/plain": [
       "Index(['Welwyn Hatfield 010F', 'Welwyn Hatfield 012A', 'Welwyn Hatfield 002F',\n",
       "       'Welwyn Hatfield 002E', 'Welwyn Hatfield 010A', 'Welwyn Hatfield 010B',\n",
       "       'Welwyn Hatfield 012B', 'Welwyn Hatfield 011D', 'Welwyn Hatfield 011A',\n",
       "       'Welwyn Hatfield 012C',\n",
       "       ...\n",
       "       'Cardiff 005F', 'Cardiff 049D', 'Cardiff 049E', 'Cardiff 049F',\n",
       "       'Cardiff 005G', 'Cardiff 006F', 'Swansea 025F', 'Swansea 023E',\n",
       "       'Swansea 025G', 'Swansea 025H'],\n",
       "      dtype='object', name='area', length=34752)"
      ]
     },
     "execution_count": 17,
     "metadata": {},
     "output_type": "execute_result"
    }
   ],
   "source": [
    "lsoa_index = data.index\n",
    "lsoa_index"
   ]
  },
  {
   "cell_type": "markdown",
   "metadata": {},
   "source": [
    "## Add thrombolysis rate of closest IVT unit"
   ]
  },
  {
   "cell_type": "code",
   "execution_count": 18,
   "metadata": {},
   "outputs": [],
   "source": [
    "mask = units['Use_IVT'] == 1\n",
    "ivt_rate = units[mask][['Postcode', 'ivt_rate']]\n",
    "\n",
    "data = data.merge(\n",
    "    ivt_rate, left_on='closest_ivt_unit', right_on='Postcode', how='left')\n",
    "data.drop('Postcode', axis=1, inplace=True)\n",
    "data.set_index(lsoa_index, inplace=True)"
   ]
  },
  {
   "cell_type": "code",
   "execution_count": 19,
   "metadata": {},
   "outputs": [
    {
     "data": {
      "text/html": [
       "<div>\n",
       "<style scoped>\n",
       "    .dataframe tbody tr th:only-of-type {\n",
       "        vertical-align: middle;\n",
       "    }\n",
       "\n",
       "    .dataframe tbody tr th {\n",
       "        vertical-align: top;\n",
       "    }\n",
       "\n",
       "    .dataframe thead th {\n",
       "        text-align: right;\n",
       "    }\n",
       "</style>\n",
       "<table border=\"1\" class=\"dataframe\">\n",
       "  <thead>\n",
       "    <tr style=\"text-align: right;\">\n",
       "      <th></th>\n",
       "      <th>admissions</th>\n",
       "      <th>closest_ivt_unit</th>\n",
       "      <th>closest_ivt_unit_time</th>\n",
       "      <th>closest_mt_unit</th>\n",
       "      <th>closest_mt_unit_time</th>\n",
       "      <th>mt_transfer_time</th>\n",
       "      <th>ivt_rate</th>\n",
       "    </tr>\n",
       "    <tr>\n",
       "      <th>area</th>\n",
       "      <th></th>\n",
       "      <th></th>\n",
       "      <th></th>\n",
       "      <th></th>\n",
       "      <th></th>\n",
       "      <th></th>\n",
       "      <th></th>\n",
       "    </tr>\n",
       "  </thead>\n",
       "  <tbody>\n",
       "    <tr>\n",
       "      <th>Welwyn Hatfield 010F</th>\n",
       "      <td>0.666667</td>\n",
       "      <td>SG14AB</td>\n",
       "      <td>19.2</td>\n",
       "      <td>NW12BU</td>\n",
       "      <td>37.5</td>\n",
       "      <td>47.2</td>\n",
       "      <td>6.8</td>\n",
       "    </tr>\n",
       "    <tr>\n",
       "      <th>Welwyn Hatfield 012A</th>\n",
       "      <td>4.000000</td>\n",
       "      <td>SG14AB</td>\n",
       "      <td>20.3</td>\n",
       "      <td>NW12BU</td>\n",
       "      <td>37.5</td>\n",
       "      <td>47.2</td>\n",
       "      <td>6.8</td>\n",
       "    </tr>\n",
       "  </tbody>\n",
       "</table>\n",
       "</div>"
      ],
      "text/plain": [
       "                      admissions closest_ivt_unit  closest_ivt_unit_time  \\\n",
       "area                                                                       \n",
       "Welwyn Hatfield 010F    0.666667           SG14AB                   19.2   \n",
       "Welwyn Hatfield 012A    4.000000           SG14AB                   20.3   \n",
       "\n",
       "                     closest_mt_unit  closest_mt_unit_time  mt_transfer_time  \\\n",
       "area                                                                           \n",
       "Welwyn Hatfield 010F          NW12BU                  37.5              47.2   \n",
       "Welwyn Hatfield 012A          NW12BU                  37.5              47.2   \n",
       "\n",
       "                      ivt_rate  \n",
       "area                            \n",
       "Welwyn Hatfield 010F       6.8  \n",
       "Welwyn Hatfield 012A       6.8  "
      ]
     },
     "execution_count": 19,
     "metadata": {},
     "output_type": "execute_result"
    }
   ],
   "source": [
    "data.head(2)"
   ]
  },
  {
   "cell_type": "markdown",
   "metadata": {},
   "source": [
    "## Import index multiple deprivation (IMD) demographics\n",
    "A separate source for England and Wales (need to read in and join another column to Wales dataframe that contains the common LSOA name)."
   ]
  },
  {
   "cell_type": "code",
   "execution_count": 20,
   "metadata": {},
   "outputs": [
    {
     "data": {
      "text/html": [
       "<div>\n",
       "<style scoped>\n",
       "    .dataframe tbody tr th:only-of-type {\n",
       "        vertical-align: middle;\n",
       "    }\n",
       "\n",
       "    .dataframe tbody tr th {\n",
       "        vertical-align: top;\n",
       "    }\n",
       "\n",
       "    .dataframe thead th {\n",
       "        text-align: right;\n",
       "    }\n",
       "</style>\n",
       "<table border=\"1\" class=\"dataframe\">\n",
       "  <thead>\n",
       "    <tr style=\"text-align: right;\">\n",
       "      <th></th>\n",
       "      <th>lsoa11name</th>\n",
       "    </tr>\n",
       "    <tr>\n",
       "      <th>LSOA11Code</th>\n",
       "      <th></th>\n",
       "    </tr>\n",
       "  </thead>\n",
       "  <tbody>\n",
       "    <tr>\n",
       "      <th>W01000907</th>\n",
       "      <td>Neath Port Talbot 007B</td>\n",
       "    </tr>\n",
       "    <tr>\n",
       "      <th>W01000150</th>\n",
       "      <td>Conwy 005B</td>\n",
       "    </tr>\n",
       "  </tbody>\n",
       "</table>\n",
       "</div>"
      ],
      "text/plain": [
       "                        lsoa11name\n",
       "LSOA11Code                        \n",
       "W01000907   Neath Port Talbot 007B\n",
       "W01000150               Conwy 005B"
      ]
     },
     "execution_count": 20,
     "metadata": {},
     "output_type": "execute_result"
    }
   ],
   "source": [
    "# Wales lsoa name (common)\n",
    "filename = './data/demographic/Welsh IMD 2019/Welsh IMD 2019/wales_lsoa_code_name.csv'\n",
    "wales_lsoa = pd.read_csv(filename, index_col='LSOA11Code')\n",
    "wales_lsoa.head(2)"
   ]
  },
  {
   "cell_type": "code",
   "execution_count": 21,
   "metadata": {},
   "outputs": [
    {
     "data": {
      "text/html": [
       "<div>\n",
       "<style scoped>\n",
       "    .dataframe tbody tr th:only-of-type {\n",
       "        vertical-align: middle;\n",
       "    }\n",
       "\n",
       "    .dataframe tbody tr th {\n",
       "        vertical-align: top;\n",
       "    }\n",
       "\n",
       "    .dataframe thead th {\n",
       "        text-align: right;\n",
       "    }\n",
       "</style>\n",
       "<table border=\"1\" class=\"dataframe\">\n",
       "  <thead>\n",
       "    <tr style=\"text-align: right;\">\n",
       "      <th></th>\n",
       "      <th>IMD2019Score</th>\n",
       "    </tr>\n",
       "    <tr>\n",
       "      <th>lsoa11name</th>\n",
       "      <th></th>\n",
       "    </tr>\n",
       "  </thead>\n",
       "  <tbody>\n",
       "    <tr>\n",
       "      <th>Isle of Anglesey 007A</th>\n",
       "      <td>19.2</td>\n",
       "    </tr>\n",
       "    <tr>\n",
       "      <th>Isle of Anglesey 007B</th>\n",
       "      <td>12.2</td>\n",
       "    </tr>\n",
       "    <tr>\n",
       "      <th>Isle of Anglesey 001A</th>\n",
       "      <td>26.8</td>\n",
       "    </tr>\n",
       "    <tr>\n",
       "      <th>Isle of Anglesey 001B</th>\n",
       "      <td>15.5</td>\n",
       "    </tr>\n",
       "    <tr>\n",
       "      <th>Isle of Anglesey 005A</th>\n",
       "      <td>16.0</td>\n",
       "    </tr>\n",
       "  </tbody>\n",
       "</table>\n",
       "</div>"
      ],
      "text/plain": [
       "                       IMD2019Score\n",
       "lsoa11name                         \n",
       "Isle of Anglesey 007A          19.2\n",
       "Isle of Anglesey 007B          12.2\n",
       "Isle of Anglesey 001A          26.8\n",
       "Isle of Anglesey 001B          15.5\n",
       "Isle of Anglesey 005A          16.0"
      ]
     },
     "execution_count": 21,
     "metadata": {},
     "output_type": "execute_result"
    }
   ],
   "source": [
    "# Wales IMD\n",
    "filename = './data/demographic/Welsh IMD 2019/Welsh IMD 2019/WIMD2019_Scores.csv'\n",
    "imd_wales = pd.read_csv(filename, index_col='LSOA_Code')\n",
    "\n",
    "# Add in the common LSOA name\n",
    "imd_wales = pd.merge(imd_wales, wales_lsoa, left_index=True, right_index=True,  how='left')\n",
    "# Use common LSOA name as index\n",
    "imd_wales.set_index('lsoa11name', inplace=True)\n",
    "# Keep just the index and IMD score (rename column)\n",
    "imd_wales = imd_wales[['WIMD2019_Score']]\n",
    "imd_wales = imd_wales.rename(columns={'WIMD2019_Score': 'IMD2019Score'})\n",
    "imd_wales.head()"
   ]
  },
  {
   "cell_type": "code",
   "execution_count": null,
   "metadata": {},
   "outputs": [],
   "source": [
    "#England\n",
    "filename = './data/demographic/English IMD 2019/English IMD 2019/IMD_2019.shp'\n",
    "imd_eng = gpd.read_file(filename, crs='EPSG:27700')\n",
    "imd_eng.set_index('lsoa11nm', inplace=True)\n",
    "# Keep just the index and IMD score (rename column)\n",
    "imd_eng = imd_eng[['IMDScore']]\n",
    "imd_eng = imd_eng.rename(columns={'IMDScore': 'IMD2019Score'})\n",
    "imd_eng.head()"
   ]
  },
  {
   "cell_type": "markdown",
   "metadata": {},
   "source": [
    "Join IMD data for England and Wales together, and add to main dataframe"
   ]
  },
  {
   "cell_type": "code",
   "execution_count": null,
   "metadata": {},
   "outputs": [],
   "source": [
    "gdf_list = [imd_eng, imd_wales]\n",
    "imd_eng_wales = gpd.GeoDataFrame(pd.concat(gdf_list))\n",
    "data = data.merge(imd_eng_wales, left_index=True, right_index=True,  how='left')\n",
    "data.head(2)"
   ]
  },
  {
   "cell_type": "markdown",
   "metadata": {},
   "source": [
    "## Import deprivation demographics"
   ]
  },
  {
   "cell_type": "code",
   "execution_count": null,
   "metadata": {},
   "outputs": [],
   "source": [
    "deprivation = pd.read_csv(\n",
    "    './data/demographic/File_7a_-_All_IoD2019_Scores__Ranks__Deciles_and_Population_Denominators_3.csv',\n",
    "    index_col='LSOA name (2011)')\n",
    "cols_to_drop = ['LSOA Code (2011)','Local Authority District code (2019)']\n",
    "deprivation.drop(cols_to_drop, axis=1, inplace=True)"
   ]
  },
  {
   "cell_type": "code",
   "execution_count": null,
   "metadata": {},
   "outputs": [],
   "source": [
    "deprivation.head(2)"
   ]
  },
  {
   "cell_type": "code",
   "execution_count": null,
   "metadata": {},
   "outputs": [],
   "source": [
    "data = data.merge(deprivation, left_index=True, right_index=True,  how='left')\n",
    "\n",
    "data.set_index(lsoa_index, inplace=True)\n",
    "\n",
    "data.head(2)"
   ]
  },
  {
   "cell_type": "markdown",
   "metadata": {},
   "source": [
    "## Import ethnicity"
   ]
  },
  {
   "cell_type": "code",
   "execution_count": null,
   "metadata": {},
   "outputs": [],
   "source": [
    "ethnicity = pd.read_csv(\n",
    "    './data/demographic/ethnicity.csv',\n",
    "    index_col='geography')\n",
    "\n",
    "# Include only ethnicity for all people (no age/gender breakdown)\n",
    "cols_to_include = [\n",
    "    x for x in list(ethnicity) if 'Sex: All persons; Age: All categories' in x]\n",
    "\n",
    "# Get selected data\n",
    "extract = ethnicity[cols_to_include]\n",
    "\n",
    "# Truncate field name\n",
    "rename_dict = dict()\n",
    "for field in list(extract):\n",
    "    rename_dict[field] = field[44:]\n",
    "extract = extract.rename(rename_dict, axis='columns')\n",
    "    \n",
    "# Merge in with data\n",
    "data = data.merge(extract, left_index=True, right_index=True,  how='left')\n",
    "\n",
    "data.set_index(lsoa_index, inplace=True)\n",
    "\n",
    "data.head(2)"
   ]
  },
  {
   "cell_type": "markdown",
   "metadata": {},
   "source": [
    "## Import health"
   ]
  },
  {
   "cell_type": "code",
   "execution_count": null,
   "metadata": {},
   "outputs": [],
   "source": [
    "health = pd.read_csv(\n",
    "    './data/demographic/general_health.csv',\n",
    "    index_col='geography')\n",
    "\n",
    "# Include only ethnicity for all people (no age/gender breakdown)\n",
    "cols_to_include = [\n",
    "    x for x in list(health) if 'Sex: All persons; Age: All categories' in x]\n",
    "\n",
    "# Get selected data\n",
    "extract = health[cols_to_include]\n",
    "\n",
    "# Truncate field name\n",
    "rename_dict = dict()\n",
    "for field in list(extract):\n",
    "    rename_dict[field] = field[44:]\n",
    "extract = extract.rename(rename_dict, axis='columns')\n",
    "    \n",
    "# Merge in with data\n",
    "data = data.merge(extract, left_index=True, right_index=True,  how='left')\n",
    "data.set_index(lsoa_index, inplace=True)\n",
    "\n",
    "data.head(2)"
   ]
  },
  {
   "cell_type": "markdown",
   "metadata": {},
   "source": [
    "## Import rural vs urban"
   ]
  },
  {
   "cell_type": "code",
   "execution_count": null,
   "metadata": {},
   "outputs": [],
   "source": [
    "rural_urban = pd.read_csv(\n",
    "    './data/demographic/Rural_Urban_Classification_2011_of_Lower_Layer_Super_Output_Areas_in_England_and_Wales.csv',\n",
    "    index_col='LSOA11NM')\n",
    "cols_to_drop = ['LSOA11CD','RUC11CD', 'FID']\n",
    "rural_urban.drop(cols_to_drop, axis=1, inplace=True)\n",
    "\n",
    "data = data.merge(rural_urban, left_index=True, right_index=True,  how='left')\n",
    "data.set_index(lsoa_index, inplace=True)\n",
    "\n",
    "data.head(2)"
   ]
  },
  {
   "cell_type": "markdown",
   "metadata": {},
   "source": [
    "## Import age demographics"
   ]
  },
  {
   "cell_type": "code",
   "execution_count": null,
   "metadata": {},
   "outputs": [],
   "source": [
    "ages = pd.read_csv(\n",
    "    './data/demographic/mid_2018_persons.csv',\n",
    "    index_col='LSOA')\n",
    "\n",
    "all_ages = ages['All Ages']\n",
    "ages.drop('All Ages', axis=1, inplace=True)\n",
    "data['All persons'] = all_ages\n",
    "\n",
    "# Change '90+' to 91\n",
    "rename_dict = dict()\n",
    "rename_dict['90+'] = '91'\n",
    "ages = ages.rename(rename_dict, axis='columns')\n",
    "\n",
    "age_bands = pd.DataFrame()\n",
    "\n",
    "for band in np.arange(0, 96,5):\n",
    "    cols_to_get = []\n",
    "    for field in list(ages):\n",
    "        if int(int(field)/5) * 5 == band:\n",
    "            cols_to_get.append(field)\n",
    "    extract = ages[cols_to_get]\n",
    "    age_bands[f'age band {band}'] = extract.sum(axis=1)\n",
    "    \n",
    "data = data.merge(age_bands, left_index=True, right_index=True,  how='left')\n",
    "data.set_index(lsoa_index, inplace=True)\n",
    "data.head(2)"
   ]
  },
  {
   "cell_type": "code",
   "execution_count": null,
   "metadata": {},
   "outputs": [],
   "source": [
    "ages = pd.read_csv(\n",
    "    './data/demographic/mid_2018_females.csv',\n",
    "    index_col='LSOA')\n",
    "\n",
    "all_ages = ages['All Ages']\n",
    "ages.drop('All Ages', axis=1, inplace=True)\n",
    "data['All females'] = all_ages\n",
    "\n",
    "# Change '90+' to 91\n",
    "rename_dict = dict()\n",
    "rename_dict['90+'] = '91'\n",
    "ages = ages.rename(rename_dict, axis='columns')\n",
    "\n",
    "age_bands = pd.DataFrame()\n",
    "\n",
    "for band in np.arange(0, 96,5):\n",
    "    cols_to_get = []\n",
    "    for field in list(ages):\n",
    "        if int(int(field)/5) * 5 == band:\n",
    "            cols_to_get.append(field)\n",
    "    extract = ages[cols_to_get]\n",
    "    age_bands[f'age band females {band}'] = extract.sum(axis=1)\n",
    "    \n",
    "data = data.merge(age_bands, left_index=True, right_index=True,  how='left')\n",
    "data.set_index(lsoa_index, inplace=True)\n",
    "data.head(2)"
   ]
  },
  {
   "cell_type": "code",
   "execution_count": null,
   "metadata": {},
   "outputs": [],
   "source": [
    "ages = pd.read_csv(\n",
    "    './data/demographic/mid_2018_males.csv',\n",
    "    index_col='LSOA')\n",
    "\n",
    "all_ages = ages['All Ages']\n",
    "ages.drop('All Ages', axis=1, inplace=True)\n",
    "data['All males'] = all_ages\n",
    "\n",
    "# Change '90+' to 91\n",
    "rename_dict = dict()\n",
    "rename_dict['90+'] = '91'\n",
    "ages = ages.rename(rename_dict, axis='columns')\n",
    "\n",
    "age_bands = pd.DataFrame()\n",
    "\n",
    "for band in np.arange(0, 96,5):\n",
    "    cols_to_get = []\n",
    "    for field in list(ages):\n",
    "        if int(int(field)/5) * 5 == band:\n",
    "            cols_to_get.append(field)\n",
    "    extract = ages[cols_to_get]\n",
    "    age_bands[f'age band males {band}'] = extract.sum(axis=1)\n",
    "    \n",
    "data = data.merge(age_bands, left_index=True, right_index=True,  how='left')\n",
    "data.set_index(lsoa_index, inplace=True)\n",
    "data.head(2)"
   ]
  },
  {
   "cell_type": "markdown",
   "metadata": {},
   "source": [
    "## Save output"
   ]
  },
  {
   "cell_type": "code",
   "execution_count": null,
   "metadata": {},
   "outputs": [],
   "source": [
    "data.to_csv('./data/collated_data.csv', index_label='LSOA')"
   ]
  }
 ],
 "metadata": {
  "kernelspec": {
   "display_name": "Python 3",
   "language": "python",
   "name": "python3"
  },
  "language_info": {
   "codemirror_mode": {
    "name": "ipython",
    "version": 3
   },
   "file_extension": ".py",
   "mimetype": "text/x-python",
   "name": "python",
   "nbconvert_exporter": "python",
   "pygments_lexer": "ipython3",
   "version": "3.7.7"
  }
 },
 "nbformat": 4,
 "nbformat_minor": 5
}
