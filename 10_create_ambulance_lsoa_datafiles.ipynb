{
 "cells": [
  {
   "cell_type": "markdown",
   "metadata": {},
   "source": [
    "# Create a map of the Ambulance Service regions\n",
    "\n",
    "<mark>Change all \"\" to ''</mark>\n",
    "\n",
    "Note: See https://www.overleaf.com/project/63e3af828a2b446a5a6a447a and 11_clip_lsoas_to_county.ipynb\n",
    "\n",
    "Note: Code cell \"gdf_beds_lsoa = gpd.clip(gdf_beds_county, gdf_lsoa)\" takes a few hours to run. So read in the created shapefile (same for the Bucks equivalent)\n",
    "\n",
    "### Background\n",
    "\n",
    "In England and Wales there are 11 Ambulance Services. An image of the Ambulance Service catchments can be found on the [Association of Ambulance Chief Executives website](https://aace.org.uk/uk-ambulance-service/map-of-nhs-ambulance-services/). We have been advised by Steve Irving (Executive Officer / ALF Conference Lead) that the map **\"is just an approximation of the boundaries, purely for illustrative / navigational purposes\"**.\n",
    "\n",
    "Maps of ambulance services in England and Wales:\n",
    "* [AACE map of ambulance services](https://aace.org.uk/uk-ambulance-service/map-of-nhs-ambulance-services/)\n",
    "* [Wikipedia map of ambulance services](https://commons.wikimedia.org/wiki/File:Ambulance-Services-in-England-map.png)\n",
    "* [NicePNG map of ambulance services](https://www.nicepng.com/ourpic/u2y3w7r5a9u2q8e6_regions-uk-ambulance-services-map/)\n",
    "* [Publication with map of ambulance service CRUs](https://www.researchgate.net/publication/257019478_Cycle_response_unit_paramedics)\n",
    "* [Publication with map of ambulance service areas](https://www.semanticscholar.org/paper/Data-for-Ambulance-Dispatch%3A-New-%26-emerging-forms-Drake-Pollitt/382dd6b762ae64f30c22d0e3046e1aa055b5f7f5/figure/10)\n",
    "* [BBC news article with map of ambulance services](https://www.bbc.co.uk/news/health-16052725)\n",
    "\n",
    "Links to information about each ambulance services:\n",
    "1. East Midlands Ambulance Service (EMAS) - [EMAS map highlighted on Wikimedia](https://commons.wikimedia.org/wiki/File:East-Midlands-Ambulance-Service-map.png)\n",
    "2. East of England Ambulance Service Trust (EEAST) - [EEAST map on their website](https://www.eastamb.nhs.uk/join-the-team/our-stations.htm)\n",
    "3. London Ambulance Service (LAS)\n",
    "4. North East Ambulance Service (NEAS) - as from [their website](https://www.neas.nhs.uk/about-us/who-we-are-and-what-we-do.aspx), NEAS 'operates across Northumberland, Tyne and Wear, County Durham, Darlington and Teesside'. There is also an [old link](https://north-east-ambulance-service.v3.gsmicrosites.net/about-us) which no longer works\n",
    "5. North West Ambulance Service (NWAS)\n",
    "6. South Central Ambulance Service (SCAS) - [SCAS map on their website](https://www.scas.nhs.uk/about-scas/)\n",
    "7. South East Coast Ambulance Service (SECAmb) - as from [their website](https://www.secamb.nhs.uk/what-we-do/about-us/), SECAmb 'covers a geographical area of 3,600 square miles (Brighton & Hove, East Sussex, West Sussex, Kent, Surrey, and North East Hampshire)'\n",
    "8. West Midlands Ambulance Service (WMAS) - [WMAS map on their website](https://wmas.nhs.uk/)\n",
    "9. South West Ambulance Service (SWAS)\n",
    "10. Yorkshire Ambulance Service (YAS)\n",
    "11. Welsh Ambulance Service (WAS)\n",
    "\n",
    "### Aim\n",
    "\n",
    "We aim to build a map of the Ambulance Service regions from the individual LSOAs up.\n",
    "\n",
    "### Methods\n",
    "\n",
    "We link together two datafiles that take us from **LSOA to CCG**, and then from **CCG to Ambulance Service**:\n",
    "1) LSOA to CCG - `Lower_Layer_Super_Output_Area_(2011)_to_Clinical_Commissioning_Group_to_Local_Authority_District_(April_2021)_Lookup_in_England.csv`\n",
    "2) CCG to Ambulance Service - `ambulance_service_info_ccg_lookup.csv`\n",
    "    * Created from `Ambulance CCG lookup` sheet of the excel file `ambulance_service_info.xlsx`\n",
    "    * When creating that sheet, removed the rows for 'NHS Hampshire, Southampton and Isle of Wight CCG' and 'NHS Bedfordshire, Luton and Milton Keynes CCG', since these just stated that they were covered by more than one ambulance service - and these are dealt with seperately below\n",
    "    * We don't use the column \"NHS Ambulance Service Region Name/Code\" as this is not a name per Ambulance Service (e.g. for Midlands). Instead set up a dictionary and create a new field \"Ambulance Service Name\" from the code contained in the field \"Ambulance Service\" (which is unique).\n",
    "\n",
    "There are complications when using this approach, which are explained below.\n",
    "\n",
    "| Complication | How we manage this |\n",
    "| --- | --- |\n",
    "| NHS Hampshire, Southampton and Isle of Wight CCG is covered by both: <ul><li>Isle of Wight Ambulance Service</li><li>SCAS</li></ul> | Of the LSOAs that make up the \"NHS Hampshire, Southampton and Isle of Wight CCG\": <ul><li>LSOA names that contain \"Isle of Wight\" get assigned to Isle of Wight Ambulance Service</li><li>Remaining LSOA names get assigned to SCAS</li></ul> |\n",
    "| NHS Bedfordshire, Luton and Milton Keynes CCG is covered by both: <ul><li>EEAST</li><li>SCAS</li></ul> | NHS Bedfordshire, Luton and Milton Keynes CCG spans two counties: Bedfordshire and Buckinghamshire. The catchment maps on the respective Ambulance Service websites showed that: <ul><li>The Ambulance Service EEAST serves the county of Bedfordshire</li><li>The Ambulance Service SCAS serves the county of Buckinghamshire</li></ul> Using a shapefile of the UK Counties, extract the individual polygons for i) Bedfordshire ii) Buckinghamshire and in turn use these to identify the LSOAs in each. For the LSOAs in the NHS Bedfordshire, Luton and Milton Keynes CCG, use their location in relation to these two counties to determine whether they are part of the EEAST or SCAS.  |\n",
    "| Wales is not included in the LSOA to CCG datafile, and so would otherwise not be included in this analysis. | ? |\n",
    "\n",
    "<mark>What happens with Wales</mark>"
   ]
  },
  {
   "cell_type": "markdown",
   "metadata": {},
   "source": [
    "## Import packages and define file paths"
   ]
  },
  {
   "cell_type": "code",
   "execution_count": 1,
   "metadata": {},
   "outputs": [],
   "source": [
    "# Import required packages\n",
    "import contextily as ctx\n",
    "from dataclasses import dataclass\n",
    "import geopandas as gpd\n",
    "from IPython.display import Image\n",
    "import matplotlib.colors as colors\n",
    "import matplotlib.pyplot as plt\n",
    "from matplotlib.transforms import Bbox\n",
    "from mpl_toolkits.axes_grid1.inset_locator import mark_inset\n",
    "from mpl_toolkits.axes_grid1.inset_locator import zoomed_inset_axes\n",
    "import numpy as np\n",
    "import os\n",
    "import pandas as pd\n",
    "import random\n",
    "\n",
    "# Linting\n",
    "# %load_ext pycodestyle_magic\n",
    "# %pycodestyle_on"
   ]
  },
  {
   "cell_type": "code",
   "execution_count": 2,
   "metadata": {},
   "outputs": [],
   "source": [
    "# Define file paths\n",
    "@dataclass(frozen=True)\n",
    "class Paths:\n",
    "    '''Singleton object for storing paths to data and database.'''\n",
    "\n",
    "    data = './data'\n",
    "    lsoa_to_ccg = 'demographic/Lower_Layer_Super_Output_Area_(2011)_to_Clinical_Commissioning_Group_to_Local_Authority_District_(April_2021)_Lookup_in_England.csv'\n",
    "    ccg_to_amb = 'demographic/ambulance_service_info_ccg_lookup.csv'\n",
    "    county_ua = 'Counties_and_Unitary_Authorities__December_2017__Boundaries_UK-shp.zip'\n",
    "    bedfordshire = 'bedfordshire_county_from_3uas.shp'\n",
    "    lsoa_shp = ('zip://./data/Lower_layer_super_output_areas_(E+W)_2011_' +\n",
    "                'Boundaries_(Generalised_Clipped)_V2.zip')\n",
    "    lsoa_bedfordshire_box = 'lsoa_bedfordshire_box.shp'\n",
    "\n",
    "paths = Paths()"
   ]
  },
  {
   "cell_type": "markdown",
   "metadata": {},
   "source": [
    "## Load the lookup files"
   ]
  },
  {
   "cell_type": "markdown",
   "metadata": {},
   "source": [
    "Load LSOA to CCG"
   ]
  },
  {
   "cell_type": "code",
   "execution_count": 3,
   "metadata": {},
   "outputs": [
    {
     "data": {
      "text/html": [
       "<div>\n",
       "<style scoped>\n",
       "    .dataframe tbody tr th:only-of-type {\n",
       "        vertical-align: middle;\n",
       "    }\n",
       "\n",
       "    .dataframe tbody tr th {\n",
       "        vertical-align: top;\n",
       "    }\n",
       "\n",
       "    .dataframe thead th {\n",
       "        text-align: right;\n",
       "    }\n",
       "</style>\n",
       "<table border=\"1\" class=\"dataframe\">\n",
       "  <thead>\n",
       "    <tr style=\"text-align: right;\">\n",
       "      <th></th>\n",
       "      <th>FID</th>\n",
       "      <th>LSOA11CD</th>\n",
       "      <th>LSOA11NM</th>\n",
       "      <th>CCG21CD</th>\n",
       "      <th>CCG21CDH</th>\n",
       "      <th>LAD21CD</th>\n",
       "      <th>LAD21NM</th>\n",
       "    </tr>\n",
       "    <tr>\n",
       "      <th>CCG21NM</th>\n",
       "      <th></th>\n",
       "      <th></th>\n",
       "      <th></th>\n",
       "      <th></th>\n",
       "      <th></th>\n",
       "      <th></th>\n",
       "      <th></th>\n",
       "    </tr>\n",
       "  </thead>\n",
       "  <tbody>\n",
       "    <tr>\n",
       "      <th>NHS Barnsley CCG</th>\n",
       "      <td>1</td>\n",
       "      <td>E01007420</td>\n",
       "      <td>Barnsley 016C</td>\n",
       "      <td>E38000006</td>\n",
       "      <td>02P</td>\n",
       "      <td>E08000016</td>\n",
       "      <td>Barnsley</td>\n",
       "    </tr>\n",
       "    <tr>\n",
       "      <th>NHS Barnsley CCG</th>\n",
       "      <td>2</td>\n",
       "      <td>E01007317</td>\n",
       "      <td>Barnsley 018A</td>\n",
       "      <td>E38000006</td>\n",
       "      <td>02P</td>\n",
       "      <td>E08000016</td>\n",
       "      <td>Barnsley</td>\n",
       "    </tr>\n",
       "  </tbody>\n",
       "</table>\n",
       "</div>"
      ],
      "text/plain": [
       "                  FID   LSOA11CD       LSOA11NM    CCG21CD CCG21CDH  \\\n",
       "CCG21NM                                                               \n",
       "NHS Barnsley CCG    1  E01007420  Barnsley 016C  E38000006      02P   \n",
       "NHS Barnsley CCG    2  E01007317  Barnsley 018A  E38000006      02P   \n",
       "\n",
       "                    LAD21CD   LAD21NM  \n",
       "CCG21NM                                \n",
       "NHS Barnsley CCG  E08000016  Barnsley  \n",
       "NHS Barnsley CCG  E08000016  Barnsley  "
      ]
     },
     "execution_count": 3,
     "metadata": {},
     "output_type": "execute_result"
    }
   ],
   "source": [
    "# Load the LSOA to CCG look-up\n",
    "lsoa_ccg_data = pd.read_csv(\n",
    "    os.path.join(paths.data, paths.lsoa_to_ccg), index_col='CCG21NM')\n",
    "\n",
    "lsoa_ccg_data.head(2)"
   ]
  },
  {
   "cell_type": "markdown",
   "metadata": {},
   "source": [
    "Load CCG to Ambulance"
   ]
  },
  {
   "cell_type": "code",
   "execution_count": 4,
   "metadata": {},
   "outputs": [
    {
     "data": {
      "text/html": [
       "<div>\n",
       "<style scoped>\n",
       "    .dataframe tbody tr th:only-of-type {\n",
       "        vertical-align: middle;\n",
       "    }\n",
       "\n",
       "    .dataframe tbody tr th {\n",
       "        vertical-align: top;\n",
       "    }\n",
       "\n",
       "    .dataframe thead th {\n",
       "        text-align: right;\n",
       "    }\n",
       "</style>\n",
       "<table border=\"1\" class=\"dataframe\">\n",
       "  <thead>\n",
       "    <tr style=\"text-align: right;\">\n",
       "      <th></th>\n",
       "      <th>NHS CCG code</th>\n",
       "      <th>Office for National Statistics (ONS) April 2021 CCG code</th>\n",
       "      <th>Ambulance Service</th>\n",
       "      <th>NHS Ambulance Service Region Name</th>\n",
       "      <th>NHS Ambulance Service Region code</th>\n",
       "      <th>ONS Ambulance Service Region Code</th>\n",
       "    </tr>\n",
       "    <tr>\n",
       "      <th>CCG name</th>\n",
       "      <th></th>\n",
       "      <th></th>\n",
       "      <th></th>\n",
       "      <th></th>\n",
       "      <th></th>\n",
       "      <th></th>\n",
       "    </tr>\n",
       "  </thead>\n",
       "  <tbody>\n",
       "    <tr>\n",
       "      <th>NHS Bassetlaw CCG</th>\n",
       "      <td>02Q</td>\n",
       "      <td>E38000008</td>\n",
       "      <td>EMAS</td>\n",
       "      <td>Midlands</td>\n",
       "      <td>Y60</td>\n",
       "      <td>E40000008</td>\n",
       "    </tr>\n",
       "    <tr>\n",
       "      <th>NHS East Leicestershire and Rutland CCG</th>\n",
       "      <td>03W</td>\n",
       "      <td>E38000051</td>\n",
       "      <td>EMAS</td>\n",
       "      <td>Midlands</td>\n",
       "      <td>Y60</td>\n",
       "      <td>E40000008</td>\n",
       "    </tr>\n",
       "  </tbody>\n",
       "</table>\n",
       "</div>"
      ],
      "text/plain": [
       "                                        NHS CCG code  \\\n",
       "CCG name                                               \n",
       "NHS Bassetlaw CCG                                02Q   \n",
       "NHS East Leicestershire and Rutland CCG          03W   \n",
       "\n",
       "                                        Office for National Statistics (ONS) April 2021 CCG code  \\\n",
       "CCG name                                                                                           \n",
       "NHS Bassetlaw CCG                                                                E38000008         \n",
       "NHS East Leicestershire and Rutland CCG                                          E38000051         \n",
       "\n",
       "                                        Ambulance Service  \\\n",
       "CCG name                                                    \n",
       "NHS Bassetlaw CCG                                    EMAS   \n",
       "NHS East Leicestershire and Rutland CCG              EMAS   \n",
       "\n",
       "                                        NHS Ambulance Service Region Name  \\\n",
       "CCG name                                                                    \n",
       "NHS Bassetlaw CCG                                                Midlands   \n",
       "NHS East Leicestershire and Rutland CCG                          Midlands   \n",
       "\n",
       "                                        NHS Ambulance Service Region code  \\\n",
       "CCG name                                                                    \n",
       "NHS Bassetlaw CCG                                                     Y60   \n",
       "NHS East Leicestershire and Rutland CCG                               Y60   \n",
       "\n",
       "                                        ONS Ambulance Service Region Code  \n",
       "CCG name                                                                   \n",
       "NHS Bassetlaw CCG                                               E40000008  \n",
       "NHS East Leicestershire and Rutland CCG                         E40000008  "
      ]
     },
     "execution_count": 4,
     "metadata": {},
     "output_type": "execute_result"
    }
   ],
   "source": [
    "# Load the CCG to ambulance look-up\n",
    "ccg_ambo_data = pd.read_csv(\n",
    "    os.path.join(paths.data, paths.ccg_to_amb), index_col='CCG name')\n",
    "\n",
    "# Remove trailing whitespace from column names\n",
    "ccg_ambo_data.columns = ccg_ambo_data.columns.str.rstrip()\n",
    "\n",
    "# Preview dataframe\n",
    "ccg_ambo_data.head(2)"
   ]
  },
  {
   "cell_type": "markdown",
   "metadata": {},
   "source": [
    "Add column with unique, full name for each ambulance service to the CCG to Ambulance file"
   ]
  },
  {
   "cell_type": "code",
   "execution_count": 5,
   "metadata": {},
   "outputs": [
    {
     "data": {
      "text/html": [
       "<div>\n",
       "<style scoped>\n",
       "    .dataframe tbody tr th:only-of-type {\n",
       "        vertical-align: middle;\n",
       "    }\n",
       "\n",
       "    .dataframe tbody tr th {\n",
       "        vertical-align: top;\n",
       "    }\n",
       "\n",
       "    .dataframe thead th {\n",
       "        text-align: right;\n",
       "    }\n",
       "</style>\n",
       "<table border=\"1\" class=\"dataframe\">\n",
       "  <thead>\n",
       "    <tr style=\"text-align: right;\">\n",
       "      <th></th>\n",
       "      <th>NHS CCG code</th>\n",
       "      <th>Office for National Statistics (ONS) April 2021 CCG code</th>\n",
       "      <th>Ambulance Service</th>\n",
       "      <th>NHS Ambulance Service Region Name</th>\n",
       "      <th>NHS Ambulance Service Region code</th>\n",
       "      <th>ONS Ambulance Service Region Code</th>\n",
       "      <th>Ambulance Service Name</th>\n",
       "    </tr>\n",
       "    <tr>\n",
       "      <th>CCG name</th>\n",
       "      <th></th>\n",
       "      <th></th>\n",
       "      <th></th>\n",
       "      <th></th>\n",
       "      <th></th>\n",
       "      <th></th>\n",
       "      <th></th>\n",
       "    </tr>\n",
       "  </thead>\n",
       "  <tbody>\n",
       "    <tr>\n",
       "      <th>NHS Bassetlaw CCG</th>\n",
       "      <td>02Q</td>\n",
       "      <td>E38000008</td>\n",
       "      <td>EMAS</td>\n",
       "      <td>Midlands</td>\n",
       "      <td>Y60</td>\n",
       "      <td>E40000008</td>\n",
       "      <td>East Midlands</td>\n",
       "    </tr>\n",
       "    <tr>\n",
       "      <th>NHS East Leicestershire and Rutland CCG</th>\n",
       "      <td>03W</td>\n",
       "      <td>E38000051</td>\n",
       "      <td>EMAS</td>\n",
       "      <td>Midlands</td>\n",
       "      <td>Y60</td>\n",
       "      <td>E40000008</td>\n",
       "      <td>East Midlands</td>\n",
       "    </tr>\n",
       "  </tbody>\n",
       "</table>\n",
       "</div>"
      ],
      "text/plain": [
       "                                        NHS CCG code  \\\n",
       "CCG name                                               \n",
       "NHS Bassetlaw CCG                                02Q   \n",
       "NHS East Leicestershire and Rutland CCG          03W   \n",
       "\n",
       "                                        Office for National Statistics (ONS) April 2021 CCG code  \\\n",
       "CCG name                                                                                           \n",
       "NHS Bassetlaw CCG                                                                E38000008         \n",
       "NHS East Leicestershire and Rutland CCG                                          E38000051         \n",
       "\n",
       "                                        Ambulance Service  \\\n",
       "CCG name                                                    \n",
       "NHS Bassetlaw CCG                                    EMAS   \n",
       "NHS East Leicestershire and Rutland CCG              EMAS   \n",
       "\n",
       "                                        NHS Ambulance Service Region Name  \\\n",
       "CCG name                                                                    \n",
       "NHS Bassetlaw CCG                                                Midlands   \n",
       "NHS East Leicestershire and Rutland CCG                          Midlands   \n",
       "\n",
       "                                        NHS Ambulance Service Region code  \\\n",
       "CCG name                                                                    \n",
       "NHS Bassetlaw CCG                                                     Y60   \n",
       "NHS East Leicestershire and Rutland CCG                               Y60   \n",
       "\n",
       "                                        ONS Ambulance Service Region Code  \\\n",
       "CCG name                                                                    \n",
       "NHS Bassetlaw CCG                                               E40000008   \n",
       "NHS East Leicestershire and Rutland CCG                         E40000008   \n",
       "\n",
       "                                        Ambulance Service Name  \n",
       "CCG name                                                        \n",
       "NHS Bassetlaw CCG                                East Midlands  \n",
       "NHS East Leicestershire and Rutland CCG          East Midlands  "
      ]
     },
     "execution_count": 5,
     "metadata": {},
     "output_type": "execute_result"
    }
   ],
   "source": [
    "# Create dictionary with guide to full ambulance service names\n",
    "dict_amb_service_name = {'EMAS': 'East Midlands',\n",
    "                         'EEAST': 'East of England',\n",
    "                         'LAS': 'London',\n",
    "                         'NEAS': 'North East',\n",
    "                         'NWAS': 'North West',\n",
    "                         'SCAS': 'South Central',\n",
    "                         'SECAmb': 'South East Coast',\n",
    "                         'WMAS': 'West Midlands',\n",
    "                         'SWAS': 'South West',\n",
    "                         'YAS': 'Yorkshire'}\n",
    "\n",
    "# Add full ambulance service name, based on the data dictionary\n",
    "ccg_ambo_data['Ambulance Service Name'] = (\n",
    "    ccg_ambo_data['Ambulance Service'].map(dict_amb_service_name))\n",
    "\n",
    "# Preview dataframe\n",
    "ccg_ambo_data.head(2)"
   ]
  },
  {
   "cell_type": "markdown",
   "metadata": {},
   "source": [
    "## Combine the lookup files (so can translate LSOA to ambulance)"
   ]
  },
  {
   "cell_type": "markdown",
   "metadata": {},
   "source": [
    "Add the CCG to Ambulance fields to the LSOA to CCG dataset (by matching on CCG name - make that the index for both datasets before joining)"
   ]
  },
  {
   "cell_type": "code",
   "execution_count": 6,
   "metadata": {},
   "outputs": [
    {
     "data": {
      "text/html": [
       "<div>\n",
       "<style scoped>\n",
       "    .dataframe tbody tr th:only-of-type {\n",
       "        vertical-align: middle;\n",
       "    }\n",
       "\n",
       "    .dataframe tbody tr th {\n",
       "        vertical-align: top;\n",
       "    }\n",
       "\n",
       "    .dataframe thead th {\n",
       "        text-align: right;\n",
       "    }\n",
       "</style>\n",
       "<table border=\"1\" class=\"dataframe\">\n",
       "  <thead>\n",
       "    <tr style=\"text-align: right;\">\n",
       "      <th></th>\n",
       "      <th>CCG21NM</th>\n",
       "      <th>FID</th>\n",
       "      <th>LSOA11NM</th>\n",
       "      <th>CCG21CD</th>\n",
       "      <th>CCG21CDH</th>\n",
       "      <th>LAD21CD</th>\n",
       "      <th>LAD21NM</th>\n",
       "      <th>NHS CCG code</th>\n",
       "      <th>Office for National Statistics (ONS) April 2021 CCG code</th>\n",
       "      <th>Ambulance Service</th>\n",
       "      <th>NHS Ambulance Service Region Name</th>\n",
       "      <th>NHS Ambulance Service Region code</th>\n",
       "      <th>ONS Ambulance Service Region Code</th>\n",
       "      <th>Ambulance Service Name</th>\n",
       "    </tr>\n",
       "    <tr>\n",
       "      <th>LSOA11CD</th>\n",
       "      <th></th>\n",
       "      <th></th>\n",
       "      <th></th>\n",
       "      <th></th>\n",
       "      <th></th>\n",
       "      <th></th>\n",
       "      <th></th>\n",
       "      <th></th>\n",
       "      <th></th>\n",
       "      <th></th>\n",
       "      <th></th>\n",
       "      <th></th>\n",
       "      <th></th>\n",
       "      <th></th>\n",
       "    </tr>\n",
       "  </thead>\n",
       "  <tbody>\n",
       "    <tr>\n",
       "      <th>E01007420</th>\n",
       "      <td>NHS Barnsley CCG</td>\n",
       "      <td>1</td>\n",
       "      <td>Barnsley 016C</td>\n",
       "      <td>E38000006</td>\n",
       "      <td>02P</td>\n",
       "      <td>E08000016</td>\n",
       "      <td>Barnsley</td>\n",
       "      <td>02P</td>\n",
       "      <td>E38000006</td>\n",
       "      <td>YAS</td>\n",
       "      <td>North East and Yorkshire</td>\n",
       "      <td>Y63</td>\n",
       "      <td>E40000009</td>\n",
       "      <td>Yorkshire</td>\n",
       "    </tr>\n",
       "    <tr>\n",
       "      <th>E01007317</th>\n",
       "      <td>NHS Barnsley CCG</td>\n",
       "      <td>2</td>\n",
       "      <td>Barnsley 018A</td>\n",
       "      <td>E38000006</td>\n",
       "      <td>02P</td>\n",
       "      <td>E08000016</td>\n",
       "      <td>Barnsley</td>\n",
       "      <td>02P</td>\n",
       "      <td>E38000006</td>\n",
       "      <td>YAS</td>\n",
       "      <td>North East and Yorkshire</td>\n",
       "      <td>Y63</td>\n",
       "      <td>E40000009</td>\n",
       "      <td>Yorkshire</td>\n",
       "    </tr>\n",
       "  </tbody>\n",
       "</table>\n",
       "</div>"
      ],
      "text/plain": [
       "                    CCG21NM  FID       LSOA11NM    CCG21CD CCG21CDH  \\\n",
       "LSOA11CD                                                              \n",
       "E01007420  NHS Barnsley CCG    1  Barnsley 016C  E38000006      02P   \n",
       "E01007317  NHS Barnsley CCG    2  Barnsley 018A  E38000006      02P   \n",
       "\n",
       "             LAD21CD   LAD21NM NHS CCG code  \\\n",
       "LSOA11CD                                      \n",
       "E01007420  E08000016  Barnsley          02P   \n",
       "E01007317  E08000016  Barnsley          02P   \n",
       "\n",
       "          Office for National Statistics (ONS) April 2021 CCG code  \\\n",
       "LSOA11CD                                                             \n",
       "E01007420                                          E38000006         \n",
       "E01007317                                          E38000006         \n",
       "\n",
       "          Ambulance Service NHS Ambulance Service Region Name  \\\n",
       "LSOA11CD                                                        \n",
       "E01007420               YAS          North East and Yorkshire   \n",
       "E01007317               YAS          North East and Yorkshire   \n",
       "\n",
       "          NHS Ambulance Service Region code ONS Ambulance Service Region Code  \\\n",
       "LSOA11CD                                                                        \n",
       "E01007420                               Y63                         E40000009   \n",
       "E01007317                               Y63                         E40000009   \n",
       "\n",
       "          Ambulance Service Name  \n",
       "LSOA11CD                          \n",
       "E01007420              Yorkshire  \n",
       "E01007317              Yorkshire  "
      ]
     },
     "execution_count": 6,
     "metadata": {},
     "output_type": "execute_result"
    }
   ],
   "source": [
    "# Join LSOA-CCG and CCG-Ambulance based on index (which is the CCG name)\n",
    "lsoa_ambo_data = lsoa_ccg_data.join(ccg_ambo_data).reset_index()\n",
    "\n",
    "# Set dataframe index to LSOA\n",
    "lsoa_ambo_data.set_index('LSOA11CD', inplace=True)\n",
    "\n",
    "# Preview dataframe\n",
    "lsoa_ambo_data.head(2)"
   ]
  },
  {
   "cell_type": "markdown",
   "metadata": {},
   "source": [
    "## Deal with complications\n",
    "\n",
    "As described above, there are two CCGs with complications for our approach, since the CCGs are covered by more than one ambulance service each."
   ]
  },
  {
   "cell_type": "markdown",
   "metadata": {},
   "source": [
    "### NHS Hampshire, Southampton and Isle of Wight CCG\n",
    "\n",
    "This is covered by both:\n",
    "* Isle of Wight Ambulance Service\n",
    "* SCAS\n",
    "\n",
    "As described above, set all LSOAs in this CCG to SCAS, apart from those LSOAs that has \"Isle of Wight\" in their LSOA name will be allocated to the Isle of Wight Ambulance service."
   ]
  },
  {
   "cell_type": "code",
   "execution_count": 7,
   "metadata": {},
   "outputs": [
    {
     "data": {
      "text/plain": [
       "Ambulance Service Name\n",
       "South Central    879\n",
       "Isle of Wight     89\n",
       "Name: count, dtype: int64"
      ]
     },
     "execution_count": 7,
     "metadata": {},
     "output_type": "execute_result"
    }
   ],
   "source": [
    "# Find LSOAs in that CCG\n",
    "mask = lsoa_ambo_data['CCG21NM'].str.contains('Hampshire')\n",
    "\n",
    "# Set the ambulance service as South Central (SCAS)\n",
    "lsoa_ambo_data.loc[mask, 'Ambulance Service Name'] = 'South Central'\n",
    "\n",
    "# From those LSOAs, identify those that are in the Isle of Wight\n",
    "mask2 = lsoa_ambo_data['LSOA11NM'].str.contains('Isle of Wight')\n",
    "\n",
    "# Replace the ambulance service for those to Isle of Wight\n",
    "lsoa_ambo_data.loc[mask2, 'Ambulance Service Name'] = 'Isle of Wight'\n",
    "\n",
    "# View resulting number of LSOA from that CCG in each service\n",
    "lsoa_ambo_data.loc[mask, 'Ambulance Service Name'].value_counts()"
   ]
  },
  {
   "cell_type": "markdown",
   "metadata": {},
   "source": [
    "### NHS Bedfordshire, Luton and Milton Keynes CCG\n",
    "\n",
    "This CCG contains Buckinghamshire and Bedfordshire, and is covered both by:\n",
    "* EEAST\n",
    "* SCAS\n",
    "\n",
    "As described above, informed by [EEAST](https://www.eastamb.nhs.uk/join-the-team/our-stations.htm) and [SCAS](https://www.scas.nhs.uk/about-scas/) maps copied below, we can allocate LSOAs to counties and allocate:\n",
    "* Buckinghamshire to SCAS\n",
    "* Bedfordshire to EEAST."
   ]
  },
  {
   "cell_type": "code",
   "execution_count": 8,
   "metadata": {},
   "outputs": [
    {
     "data": {
      "text/html": [
       "<img src=\"images/our-station-map.jpg\" width=\"300\" height=\"300\"/>"
      ],
      "text/plain": [
       "<IPython.core.display.Image object>"
      ]
     },
     "execution_count": 8,
     "metadata": {},
     "output_type": "execute_result"
    }
   ],
   "source": [
    "# EEAST map\n",
    "Image(url=\"images/our-station-map.jpg\", width=300, height=300)"
   ]
  },
  {
   "cell_type": "code",
   "execution_count": 9,
   "metadata": {},
   "outputs": [
    {
     "data": {
      "text/html": [
       "<img src=\"images/SCAS-map.png\" width=\"300\" height=\"300\"/>"
      ],
      "text/plain": [
       "<IPython.core.display.Image object>"
      ]
     },
     "execution_count": 9,
     "metadata": {},
     "output_type": "execute_result"
    }
   ],
   "source": [
    "# SCAS map\n",
    "Image(url=\"images/SCAS-map.png\", width=300, height=300)"
   ]
  },
  {
   "cell_type": "markdown",
   "metadata": {},
   "source": [
    "Import county shapefile - we used the County and Unitary Authorities shapefile."
   ]
  },
  {
   "cell_type": "code",
   "execution_count": 10,
   "metadata": {},
   "outputs": [
    {
     "data": {
      "text/html": [
       "<div>\n",
       "<style scoped>\n",
       "    .dataframe tbody tr th:only-of-type {\n",
       "        vertical-align: middle;\n",
       "    }\n",
       "\n",
       "    .dataframe tbody tr th {\n",
       "        vertical-align: top;\n",
       "    }\n",
       "\n",
       "    .dataframe thead th {\n",
       "        text-align: right;\n",
       "    }\n",
       "</style>\n",
       "<table border=\"1\" class=\"dataframe\">\n",
       "  <thead>\n",
       "    <tr style=\"text-align: right;\">\n",
       "      <th></th>\n",
       "      <th>objectid</th>\n",
       "      <th>ctyua17cd</th>\n",
       "      <th>ctyua17nm</th>\n",
       "      <th>ctyua17nmw</th>\n",
       "      <th>bng_e</th>\n",
       "      <th>bng_n</th>\n",
       "      <th>long</th>\n",
       "      <th>lat</th>\n",
       "      <th>st_areasha</th>\n",
       "      <th>st_lengths</th>\n",
       "      <th>geometry</th>\n",
       "    </tr>\n",
       "  </thead>\n",
       "  <tbody>\n",
       "    <tr>\n",
       "      <th>0</th>\n",
       "      <td>1</td>\n",
       "      <td>E06000001</td>\n",
       "      <td>Hartlepool</td>\n",
       "      <td>NaN</td>\n",
       "      <td>447157</td>\n",
       "      <td>531476</td>\n",
       "      <td>-1.27023</td>\n",
       "      <td>54.676159</td>\n",
       "      <td>9.355951e+07</td>\n",
       "      <td>71707.407523</td>\n",
       "      <td>MULTIPOLYGON (((447213.900 537036.104, 447228....</td>\n",
       "    </tr>\n",
       "    <tr>\n",
       "      <th>1</th>\n",
       "      <td>2</td>\n",
       "      <td>E06000002</td>\n",
       "      <td>Middlesbrough</td>\n",
       "      <td>NaN</td>\n",
       "      <td>451141</td>\n",
       "      <td>516887</td>\n",
       "      <td>-1.21099</td>\n",
       "      <td>54.544670</td>\n",
       "      <td>5.388858e+07</td>\n",
       "      <td>43840.866561</td>\n",
       "      <td>MULTIPOLYGON (((448958.901 521835.695, 449045....</td>\n",
       "    </tr>\n",
       "  </tbody>\n",
       "</table>\n",
       "</div>"
      ],
      "text/plain": [
       "   objectid  ctyua17cd      ctyua17nm ctyua17nmw   bng_e   bng_n     long  \\\n",
       "0         1  E06000001     Hartlepool        NaN  447157  531476 -1.27023   \n",
       "1         2  E06000002  Middlesbrough        NaN  451141  516887 -1.21099   \n",
       "\n",
       "         lat    st_areasha    st_lengths  \\\n",
       "0  54.676159  9.355951e+07  71707.407523   \n",
       "1  54.544670  5.388858e+07  43840.866561   \n",
       "\n",
       "                                            geometry  \n",
       "0  MULTIPOLYGON (((447213.900 537036.104, 447228....  \n",
       "1  MULTIPOLYGON (((448958.901 521835.695, 449045....  "
      ]
     },
     "execution_count": 10,
     "metadata": {},
     "output_type": "execute_result"
    }
   ],
   "source": [
    "# Import county shapefile\n",
    "gdf_county_ua = gpd.read_file(\n",
    "    os.path.join(paths.data, paths.county_ua), crs='EPSG:3857')\n",
    "\n",
    "# Preview dataframe\n",
    "gdf_county_ua.head(2)"
   ]
  },
  {
   "cell_type": "markdown",
   "metadata": {},
   "source": [
    "Take the three polygons that represent Bedfordshire: \"Bedford\", \"Central Bedfordshire\", \"Luton\"."
   ]
  },
  {
   "cell_type": "code",
   "execution_count": 11,
   "metadata": {},
   "outputs": [
    {
     "data": {
      "text/html": [
       "<div>\n",
       "<style scoped>\n",
       "    .dataframe tbody tr th:only-of-type {\n",
       "        vertical-align: middle;\n",
       "    }\n",
       "\n",
       "    .dataframe tbody tr th {\n",
       "        vertical-align: top;\n",
       "    }\n",
       "\n",
       "    .dataframe thead th {\n",
       "        text-align: right;\n",
       "    }\n",
       "</style>\n",
       "<table border=\"1\" class=\"dataframe\">\n",
       "  <thead>\n",
       "    <tr style=\"text-align: right;\">\n",
       "      <th></th>\n",
       "      <th>objectid</th>\n",
       "      <th>ctyua17cd</th>\n",
       "      <th>ctyua17nm</th>\n",
       "      <th>ctyua17nmw</th>\n",
       "      <th>bng_e</th>\n",
       "      <th>bng_n</th>\n",
       "      <th>long</th>\n",
       "      <th>lat</th>\n",
       "      <th>st_areasha</th>\n",
       "      <th>st_lengths</th>\n",
       "      <th>geometry</th>\n",
       "    </tr>\n",
       "  </thead>\n",
       "  <tbody>\n",
       "    <tr>\n",
       "      <th>31</th>\n",
       "      <td>32</td>\n",
       "      <td>E06000032</td>\n",
       "      <td>Luton</td>\n",
       "      <td>NaN</td>\n",
       "      <td>508606</td>\n",
       "      <td>222559</td>\n",
       "      <td>-0.42319</td>\n",
       "      <td>51.891022</td>\n",
       "      <td>4.335249e+07</td>\n",
       "      <td>34569.659940</td>\n",
       "      <td>POLYGON ((507976.900 226540.203, 507995.896 22...</td>\n",
       "    </tr>\n",
       "    <tr>\n",
       "      <th>53</th>\n",
       "      <td>54</td>\n",
       "      <td>E06000055</td>\n",
       "      <td>Bedford</td>\n",
       "      <td>NaN</td>\n",
       "      <td>505721</td>\n",
       "      <td>256463</td>\n",
       "      <td>-0.45463</td>\n",
       "      <td>52.196281</td>\n",
       "      <td>4.764083e+08</td>\n",
       "      <td>131721.247617</td>\n",
       "      <td>POLYGON ((505548.597 270000.003, 505658.100 26...</td>\n",
       "    </tr>\n",
       "    <tr>\n",
       "      <th>54</th>\n",
       "      <td>55</td>\n",
       "      <td>E06000056</td>\n",
       "      <td>Central Bedfordshire</td>\n",
       "      <td>NaN</td>\n",
       "      <td>504615</td>\n",
       "      <td>234492</td>\n",
       "      <td>-0.47754</td>\n",
       "      <td>51.999031</td>\n",
       "      <td>7.156653e+08</td>\n",
       "      <td>232692.706405</td>\n",
       "      <td>POLYGON ((517561.000 255955.803, 517584.696 25...</td>\n",
       "    </tr>\n",
       "  </tbody>\n",
       "</table>\n",
       "</div>"
      ],
      "text/plain": [
       "    objectid  ctyua17cd             ctyua17nm ctyua17nmw   bng_e   bng_n  \\\n",
       "31        32  E06000032                 Luton        NaN  508606  222559   \n",
       "53        54  E06000055               Bedford        NaN  505721  256463   \n",
       "54        55  E06000056  Central Bedfordshire        NaN  504615  234492   \n",
       "\n",
       "       long        lat    st_areasha     st_lengths  \\\n",
       "31 -0.42319  51.891022  4.335249e+07   34569.659940   \n",
       "53 -0.45463  52.196281  4.764083e+08  131721.247617   \n",
       "54 -0.47754  51.999031  7.156653e+08  232692.706405   \n",
       "\n",
       "                                             geometry  \n",
       "31  POLYGON ((507976.900 226540.203, 507995.896 22...  \n",
       "53  POLYGON ((505548.597 270000.003, 505658.100 26...  \n",
       "54  POLYGON ((517561.000 255955.803, 517584.696 25...  "
      ]
     },
     "metadata": {},
     "output_type": "display_data"
    },
    {
     "data": {
      "image/png": "[encoded data removed]",
      "text/plain": [
       "<Figure size 640x480 with 1 Axes>"
      ]
     },
     "metadata": {},
     "output_type": "display_data"
    }
   ],
   "source": [
    "# Identify polygons that represent Bedforshire\n",
    "mask = gdf_county_ua['ctyua17nm'].isin(\n",
    "    ['Bedford', 'Central Bedfordshire', 'Luton'])\n",
    "gdf_beds_county_ua = gdf_county_ua[mask]\n",
    "\n",
    "# Show dataframe\n",
    "display(gdf_beds_county_ua)\n",
    "\n",
    "# Plot shapefile\n",
    "gdf_beds_county_ua.plot()\n",
    "plt.show()\n",
    "\n",
    "# Save as a file\n",
    "gdf_beds_county_ua.to_file(os.path.join(paths.data, paths.bedfordshire))"
   ]
  },
  {
   "cell_type": "markdown",
   "metadata": {},
   "source": [
    "Load LSOA shapefile for boundaries in England and Wales."
   ]
  },
  {
   "cell_type": "code",
   "execution_count": 12,
   "metadata": {},
   "outputs": [
    {
     "data": {
      "text/html": [
       "<div>\n",
       "<style scoped>\n",
       "    .dataframe tbody tr th:only-of-type {\n",
       "        vertical-align: middle;\n",
       "    }\n",
       "\n",
       "    .dataframe tbody tr th {\n",
       "        vertical-align: top;\n",
       "    }\n",
       "\n",
       "    .dataframe thead th {\n",
       "        text-align: right;\n",
       "    }\n",
       "</style>\n",
       "<table border=\"1\" class=\"dataframe\">\n",
       "  <thead>\n",
       "    <tr style=\"text-align: right;\">\n",
       "      <th></th>\n",
       "      <th>LSOA11CD</th>\n",
       "      <th>LSOA11NM</th>\n",
       "      <th>LSOA11NMW</th>\n",
       "      <th>geometry</th>\n",
       "    </tr>\n",
       "  </thead>\n",
       "  <tbody>\n",
       "    <tr>\n",
       "      <th>0</th>\n",
       "      <td>E01000001</td>\n",
       "      <td>City of London 001A</td>\n",
       "      <td>City of London 001A</td>\n",
       "      <td>POLYGON ((532105.092 182011.230, 532162.491 18...</td>\n",
       "    </tr>\n",
       "    <tr>\n",
       "      <th>1</th>\n",
       "      <td>E01000002</td>\n",
       "      <td>City of London 001B</td>\n",
       "      <td>City of London 001B</td>\n",
       "      <td>POLYGON ((532746.813 181786.891, 532671.688 18...</td>\n",
       "    </tr>\n",
       "  </tbody>\n",
       "</table>\n",
       "</div>"
      ],
      "text/plain": [
       "    LSOA11CD             LSOA11NM            LSOA11NMW  \\\n",
       "0  E01000001  City of London 001A  City of London 001A   \n",
       "1  E01000002  City of London 001B  City of London 001B   \n",
       "\n",
       "                                            geometry  \n",
       "0  POLYGON ((532105.092 182011.230, 532162.491 18...  \n",
       "1  POLYGON ((532746.813 181786.891, 532671.688 18...  "
      ]
     },
     "execution_count": 12,
     "metadata": {},
     "output_type": "execute_result"
    }
   ],
   "source": [
    "# Load shapefile\n",
    "gdf_lsoa = gpd.read_file(paths.lsoa_shp, crs='EPSG:27700')\n",
    "\n",
    "# Preview dataframe\n",
    "gdf_lsoa.head(2)"
   ]
  },
  {
   "cell_type": "markdown",
   "metadata": {},
   "source": [
    "Limit the LSOA shapefile to the boundary around the county polygon, before do clip method, to save a lot of processing time\n",
    "\n",
    "<mark>Why is it just taking the bounds of the first county?</mark>"
   ]
  },
  {
   "cell_type": "code",
   "execution_count": 13,
   "metadata": {},
   "outputs": [
    {
     "data": {
      "text/html": [
       "<div>\n",
       "<style scoped>\n",
       "    .dataframe tbody tr th:only-of-type {\n",
       "        vertical-align: middle;\n",
       "    }\n",
       "\n",
       "    .dataframe tbody tr th {\n",
       "        vertical-align: top;\n",
       "    }\n",
       "\n",
       "    .dataframe thead th {\n",
       "        text-align: right;\n",
       "    }\n",
       "</style>\n",
       "<table border=\"1\" class=\"dataframe\">\n",
       "  <thead>\n",
       "    <tr style=\"text-align: right;\">\n",
       "      <th></th>\n",
       "      <th>minx</th>\n",
       "      <th>miny</th>\n",
       "      <th>maxx</th>\n",
       "      <th>maxy</th>\n",
       "    </tr>\n",
       "  </thead>\n",
       "  <tbody>\n",
       "    <tr>\n",
       "      <th>31</th>\n",
       "      <td>502891.5027</td>\n",
       "      <td>218496.8952</td>\n",
       "      <td>513680.9979</td>\n",
       "      <td>226621.6995</td>\n",
       "    </tr>\n",
       "    <tr>\n",
       "      <th>53</th>\n",
       "      <td>491084.1959</td>\n",
       "      <td>240621.3021</td>\n",
       "      <td>520357.0980</td>\n",
       "      <td>270534.9994</td>\n",
       "    </tr>\n",
       "    <tr>\n",
       "      <th>54</th>\n",
       "      <td>489373.8981</td>\n",
       "      <td>212863.2978</td>\n",
       "      <td>527179.0039</td>\n",
       "      <td>256120.5955</td>\n",
       "    </tr>\n",
       "  </tbody>\n",
       "</table>\n",
       "</div>"
      ],
      "text/plain": [
       "           minx         miny         maxx         maxy\n",
       "31  502891.5027  218496.8952  513680.9979  226621.6995\n",
       "53  491084.1959  240621.3021  520357.0980  270534.9994\n",
       "54  489373.8981  212863.2978  527179.0039  256120.5955"
      ]
     },
     "metadata": {},
     "output_type": "display_data"
    }
   ],
   "source": [
    "# Extract bounds for each county\n",
    "beds_county_ua_bounds = gdf_beds_county_ua.bounds\n",
    "display(beds_county_ua_bounds)"
   ]
  },
  {
   "cell_type": "code",
   "execution_count": 14,
   "metadata": {},
   "outputs": [
    {
     "data": {
      "text/plain": [
       "(502891.50270000007, 218496.8951999992, 513680.99789999984, 226621.6995000001)"
      ]
     },
     "execution_count": 14,
     "metadata": {},
     "output_type": "execute_result"
    }
   ],
   "source": [
    "# Take bounds of first county\n",
    "minx, miny, maxx, maxy =  beds_county_ua_bounds.iloc[0]\n",
    "\n",
    "# Show chosen bounds\n",
    "minx, miny, maxx, maxy"
   ]
  },
  {
   "cell_type": "code",
   "execution_count": 15,
   "metadata": {},
   "outputs": [
    {
     "data": {
      "text/html": [
       "<div>\n",
       "<style scoped>\n",
       "    .dataframe tbody tr th:only-of-type {\n",
       "        vertical-align: middle;\n",
       "    }\n",
       "\n",
       "    .dataframe tbody tr th {\n",
       "        vertical-align: top;\n",
       "    }\n",
       "\n",
       "    .dataframe thead th {\n",
       "        text-align: right;\n",
       "    }\n",
       "</style>\n",
       "<table border=\"1\" class=\"dataframe\">\n",
       "  <thead>\n",
       "    <tr style=\"text-align: right;\">\n",
       "      <th></th>\n",
       "      <th>LSOA11CD</th>\n",
       "      <th>LSOA11NM</th>\n",
       "      <th>LSOA11NMW</th>\n",
       "      <th>geometry</th>\n",
       "    </tr>\n",
       "  </thead>\n",
       "  <tbody>\n",
       "    <tr>\n",
       "      <th>15225</th>\n",
       "      <td>E01015693</td>\n",
       "      <td>Luton 007A</td>\n",
       "      <td>Luton 007A</td>\n",
       "      <td>POLYGON ((509000.071 224167.035, 509007.975 22...</td>\n",
       "    </tr>\n",
       "    <tr>\n",
       "      <th>15226</th>\n",
       "      <td>E01015694</td>\n",
       "      <td>Luton 007B</td>\n",
       "      <td>Luton 007B</td>\n",
       "      <td>POLYGON ((508884.430 223900.354, 508899.797 22...</td>\n",
       "    </tr>\n",
       "    <tr>\n",
       "      <th>15227</th>\n",
       "      <td>E01015695</td>\n",
       "      <td>Luton 007C</td>\n",
       "      <td>Luton 007C</td>\n",
       "      <td>POLYGON ((508899.797 223748.818, 508935.122 22...</td>\n",
       "    </tr>\n",
       "    <tr>\n",
       "      <th>15228</th>\n",
       "      <td>E01015696</td>\n",
       "      <td>Luton 007D</td>\n",
       "      <td>Luton 007D</td>\n",
       "      <td>POLYGON ((509633.031 224771.375, 509560.071 22...</td>\n",
       "    </tr>\n",
       "    <tr>\n",
       "      <th>15229</th>\n",
       "      <td>E01015697</td>\n",
       "      <td>Luton 007E</td>\n",
       "      <td>Luton 007E</td>\n",
       "      <td>POLYGON ((509187.325 224722.331, 509178.215 22...</td>\n",
       "    </tr>\n",
       "    <tr>\n",
       "      <th>...</th>\n",
       "      <td>...</td>\n",
       "      <td>...</td>\n",
       "      <td>...</td>\n",
       "      <td>...</td>\n",
       "    </tr>\n",
       "    <tr>\n",
       "      <th>22804</th>\n",
       "      <td>E01023430</td>\n",
       "      <td>Dacorum 001A</td>\n",
       "      <td>Dacorum 001A</td>\n",
       "      <td>POLYGON ((505764.094 218023.781, 505887.000 21...</td>\n",
       "    </tr>\n",
       "    <tr>\n",
       "      <th>22995</th>\n",
       "      <td>E01023624</td>\n",
       "      <td>North Hertfordshire 014D</td>\n",
       "      <td>North Hertfordshire 014D</td>\n",
       "      <td>POLYGON ((511345.500 232335.703, 511388.688 23...</td>\n",
       "    </tr>\n",
       "    <tr>\n",
       "      <th>22996</th>\n",
       "      <td>E01023625</td>\n",
       "      <td>North Hertfordshire 014E</td>\n",
       "      <td>North Hertfordshire 014E</td>\n",
       "      <td>POLYGON ((517829.594 226516.297, 517829.813 22...</td>\n",
       "    </tr>\n",
       "    <tr>\n",
       "      <th>22997</th>\n",
       "      <td>E01023626</td>\n",
       "      <td>North Hertfordshire 015C</td>\n",
       "      <td>North Hertfordshire 015C</td>\n",
       "      <td>POLYGON ((515974.600 219964.700, 516080.313 21...</td>\n",
       "    </tr>\n",
       "    <tr>\n",
       "      <th>23024</th>\n",
       "      <td>E01023653</td>\n",
       "      <td>North Hertfordshire 014F</td>\n",
       "      <td>North Hertfordshire 014F</td>\n",
       "      <td>POLYGON ((513048.094 233075.203, 513202.000 23...</td>\n",
       "    </tr>\n",
       "  </tbody>\n",
       "</table>\n",
       "<p>148 rows × 4 columns</p>\n",
       "</div>"
      ],
      "text/plain": [
       "        LSOA11CD                  LSOA11NM                 LSOA11NMW  \\\n",
       "15225  E01015693                Luton 007A                Luton 007A   \n",
       "15226  E01015694                Luton 007B                Luton 007B   \n",
       "15227  E01015695                Luton 007C                Luton 007C   \n",
       "15228  E01015696                Luton 007D                Luton 007D   \n",
       "15229  E01015697                Luton 007E                Luton 007E   \n",
       "...          ...                       ...                       ...   \n",
       "22804  E01023430              Dacorum 001A              Dacorum 001A   \n",
       "22995  E01023624  North Hertfordshire 014D  North Hertfordshire 014D   \n",
       "22996  E01023625  North Hertfordshire 014E  North Hertfordshire 014E   \n",
       "22997  E01023626  North Hertfordshire 015C  North Hertfordshire 015C   \n",
       "23024  E01023653  North Hertfordshire 014F  North Hertfordshire 014F   \n",
       "\n",
       "                                                geometry  \n",
       "15225  POLYGON ((509000.071 224167.035, 509007.975 22...  \n",
       "15226  POLYGON ((508884.430 223900.354, 508899.797 22...  \n",
       "15227  POLYGON ((508899.797 223748.818, 508935.122 22...  \n",
       "15228  POLYGON ((509633.031 224771.375, 509560.071 22...  \n",
       "15229  POLYGON ((509187.325 224722.331, 509178.215 22...  \n",
       "...                                                  ...  \n",
       "22804  POLYGON ((505764.094 218023.781, 505887.000 21...  \n",
       "22995  POLYGON ((511345.500 232335.703, 511388.688 23...  \n",
       "22996  POLYGON ((517829.594 226516.297, 517829.813 22...  \n",
       "22997  POLYGON ((515974.600 219964.700, 516080.313 21...  \n",
       "23024  POLYGON ((513048.094 233075.203, 513202.000 23...  \n",
       "\n",
       "[148 rows x 4 columns]"
      ]
     },
     "execution_count": 15,
     "metadata": {},
     "output_type": "execute_result"
    }
   ],
   "source": [
    "# Restrict the shapefile to boundary of country polygon\n",
    "# cx = Coordinate based indexer to select by intersection with bounding box\n",
    "gdf_beds_lsoa_box = gdf_lsoa.cx[minx:maxx, miny:maxy]\n",
    "gdf_beds_lsoa_box"
   ]
  },
  {
   "cell_type": "code",
   "execution_count": 16,
   "metadata": {},
   "outputs": [],
   "source": [
    "# Save this to a file\n",
    "gdf_beds_lsoa_box.to_file(os.path.join(paths.data, paths.lsoa_bedfordshire_box))"
   ]
  },
  {
   "cell_type": "code",
   "execution_count": 17,
   "metadata": {},
   "outputs": [
    {
     "data": {
      "image/png": "[encoded data removed]",
      "text/plain": [
       "<Figure size 2000x500 with 4 Axes>"
      ]
     },
     "metadata": {},
     "output_type": "display_data"
    }
   ],
   "source": [
    "fig, ax = plt.subplots(ncols=4, nrows=1, figsize=(20, 5))\n",
    "\n",
    "# Plot England and Wales LSOA\n",
    "gdf_lsoa.plot(ax=ax[3])\n",
    "\n",
    "# Plot the shapefile with the three counties in red\n",
    "gdf_beds_county_ua.plot(ax=ax[0], facecolor='red', alpha=0.7)\n",
    "gdf_beds_county_ua.plot(ax=ax[2], facecolor='red', alpha=0.7)\n",
    "gdf_beds_county_ua.plot(ax=ax[3], facecolor='red', alpha=0.7)\n",
    "\n",
    "# Plot the boundaried LSOA shapefile in green (covers one county but also more)\n",
    "gdf_beds_lsoa_box.plot(ax=ax[1], facecolor='green', alpha=0.7)\n",
    "gdf_beds_lsoa_box.plot(ax=ax[2], facecolor='green', alpha=0.7)\n",
    "gdf_beds_lsoa_box.plot(ax=ax[3], facecolor='green', alpha=0.7)\n",
    "\n",
    "plt.show()"
   ]
  },
  {
   "cell_type": "markdown",
   "metadata": {},
   "source": [
    "See \"11_clip.ipynb\" for all attempts used to used geopandas to identify the LSOAs. Such as:\n",
    "\n",
    "1. checking for LSOA overlapping with, or completely within, Bedfordshire:\n",
    "\n",
    "gdf_beds_county_geometry = gdf_beds_county.geometry\n",
    "mask = (gdf_beds_lsoa_box.geometry.overlaps(gdf_beds_county_geometry)) | (gdf_beds_lsoa_box.within(gdf_beds_county))\n",
    "\n",
    "2. Take the LSOAs that sit wtihin the county polygon. Using the Clip method: \"think of “clipping” as passing a top layer of cookie dough (the map above), over a bottom layer cookiecutter (our high-resolution provinces data) to get a shape out\"\n",
    "\n",
    "gdf_beds_lsoa = gpd.clip(gdf_beds_lsoa_box, gdf_beds_county)\n",
    "\n",
    "Got error \"TopologyException: Input geom 0 is invalid: Ring Self-intersection at or near point -48331.645175062782 6821220.2919420162 at -48331.645175062782 6821220.2919420162\" which I believe identified an issue with a polygon in the shapefile."
   ]
  },
  {
   "cell_type": "markdown",
   "metadata": {},
   "source": [
    "Decided to see what QGIS makes of it."
   ]
  },
  {
   "cell_type": "markdown",
   "metadata": {},
   "source": [
    "Took the country LSOA shapefile (bedfordshire_county_from_3uas.shp) and used QGIS to create a shapefile of the LSOAs in Bedfordshire, from the LSOAs in the box that surrounds Bedfodshire (lsoa_bedfordshire_box.shp). \n",
    "\n",
    "Geoprocessing method clip (Tutorial to use this: https://www.youtube.com/watch?v=U3pngCq3TFw).\n",
    "\n",
    "There was an issue as it didn't end up including \"E01017486\" (which is in Bedfordshire). This may be the same place GeoPandas fell over and stopped working, whereas in QGIS it processed for those it could, and skipped those it could not.\n",
    "\n",
    "Created \"bedfordshire_lsoas.gpkg\""
   ]
  },
  {
   "cell_type": "code",
   "execution_count": 18,
   "metadata": {},
   "outputs": [
    {
     "ename": "DriverError",
     "evalue": "data/bedfordshire_lsoas.gpkg: No such file or directory",
     "output_type": "error",
     "traceback": [
      "\u001b[0;31m---------------------------------------------------------------------------\u001b[0m",
      "\u001b[0;31mCPLE_OpenFailedError\u001b[0m                      Traceback (most recent call last)",
      "File \u001b[0;32mfiona/ogrext.pyx:136\u001b[0m, in \u001b[0;36mfiona.ogrext.gdal_open_vector\u001b[0;34m()\u001b[0m\n",
      "File \u001b[0;32mfiona/_err.pyx:291\u001b[0m, in \u001b[0;36mfiona._err.exc_wrap_pointer\u001b[0;34m()\u001b[0m\n",
      "\u001b[0;31mCPLE_OpenFailedError\u001b[0m: data/bedfordshire_lsoas.gpkg: No such file or directory",
      "\nDuring handling of the above exception, another exception occurred:\n",
      "\u001b[0;31mDriverError\u001b[0m                               Traceback (most recent call last)",
      "\u001b[1;32m/home/amy/Documents/stroke_unit_demographics/10_create_ambulance_lsoa_datafiles.ipynb Cell 36\u001b[0m line \u001b[0;36m2\n\u001b[1;32m      <a href='vscode-notebook-cell:/home/amy/Documents/stroke_unit_demographics/10_create_ambulance_lsoa_datafiles.ipynb#X50sZmlsZQ%3D%3D?line=0'>1</a>\u001b[0m filename \u001b[39m=\u001b[39m \u001b[39m\"\u001b[39m\u001b[39mdata/bedfordshire_lsoas.gpkg\u001b[39m\u001b[39m\"\u001b[39m\n\u001b[0;32m----> <a href='vscode-notebook-cell:/home/amy/Documents/stroke_unit_demographics/10_create_ambulance_lsoa_datafiles.ipynb#X50sZmlsZQ%3D%3D?line=1'>2</a>\u001b[0m gdf_beds_lsoa_qgis \u001b[39m=\u001b[39m gpd\u001b[39m.\u001b[39;49mread_file(filename, crs\u001b[39m=\u001b[39;49m\u001b[39m'\u001b[39;49m\u001b[39mEPSG:27700\u001b[39;49m\u001b[39m'\u001b[39;49m)\n\u001b[1;32m      <a href='vscode-notebook-cell:/home/amy/Documents/stroke_unit_demographics/10_create_ambulance_lsoa_datafiles.ipynb#X50sZmlsZQ%3D%3D?line=2'>3</a>\u001b[0m gdf_beds_lsoa_qgis\u001b[39m.\u001b[39mhead()\n",
      "File \u001b[0;32m~/miniconda3/envs/geopandas/lib/python3.9/site-packages/geopandas/io/file.py:297\u001b[0m, in \u001b[0;36m_read_file\u001b[0;34m(filename, bbox, mask, rows, engine, **kwargs)\u001b[0m\n\u001b[1;32m    294\u001b[0m     \u001b[39melse\u001b[39;00m:\n\u001b[1;32m    295\u001b[0m         path_or_bytes \u001b[39m=\u001b[39m filename\n\u001b[0;32m--> 297\u001b[0m     \u001b[39mreturn\u001b[39;00m _read_file_fiona(\n\u001b[1;32m    298\u001b[0m         path_or_bytes, from_bytes, bbox\u001b[39m=\u001b[39;49mbbox, mask\u001b[39m=\u001b[39;49mmask, rows\u001b[39m=\u001b[39;49mrows, \u001b[39m*\u001b[39;49m\u001b[39m*\u001b[39;49mkwargs\n\u001b[1;32m    299\u001b[0m     )\n\u001b[1;32m    301\u001b[0m \u001b[39melse\u001b[39;00m:\n\u001b[1;32m    302\u001b[0m     \u001b[39mraise\u001b[39;00m \u001b[39mValueError\u001b[39;00m(\u001b[39mf\u001b[39m\u001b[39m\"\u001b[39m\u001b[39munknown engine \u001b[39m\u001b[39m'\u001b[39m\u001b[39m{\u001b[39;00mengine\u001b[39m}\u001b[39;00m\u001b[39m'\u001b[39m\u001b[39m\"\u001b[39m)\n",
      "File \u001b[0;32m~/miniconda3/envs/geopandas/lib/python3.9/site-packages/geopandas/io/file.py:338\u001b[0m, in \u001b[0;36m_read_file_fiona\u001b[0;34m(path_or_bytes, from_bytes, bbox, mask, rows, where, **kwargs)\u001b[0m\n\u001b[1;32m    335\u001b[0m     reader \u001b[39m=\u001b[39m fiona\u001b[39m.\u001b[39mopen\n\u001b[1;32m    337\u001b[0m \u001b[39mwith\u001b[39;00m fiona_env():\n\u001b[0;32m--> 338\u001b[0m     \u001b[39mwith\u001b[39;00m reader(path_or_bytes, \u001b[39m*\u001b[39;49m\u001b[39m*\u001b[39;49mkwargs) \u001b[39mas\u001b[39;00m features:\n\u001b[1;32m    339\u001b[0m         crs \u001b[39m=\u001b[39m features\u001b[39m.\u001b[39mcrs_wkt\n\u001b[1;32m    340\u001b[0m         \u001b[39m# attempt to get EPSG code\u001b[39;00m\n",
      "File \u001b[0;32m~/miniconda3/envs/geopandas/lib/python3.9/site-packages/fiona/env.py:457\u001b[0m, in \u001b[0;36mensure_env_with_credentials.<locals>.wrapper\u001b[0;34m(*args, **kwds)\u001b[0m\n\u001b[1;32m    454\u001b[0m     session \u001b[39m=\u001b[39m DummySession()\n\u001b[1;32m    456\u001b[0m \u001b[39mwith\u001b[39;00m env_ctor(session\u001b[39m=\u001b[39msession):\n\u001b[0;32m--> 457\u001b[0m     \u001b[39mreturn\u001b[39;00m f(\u001b[39m*\u001b[39;49margs, \u001b[39m*\u001b[39;49m\u001b[39m*\u001b[39;49mkwds)\n",
      "File \u001b[0;32m~/miniconda3/envs/geopandas/lib/python3.9/site-packages/fiona/__init__.py:292\u001b[0m, in \u001b[0;36mopen\u001b[0;34m(fp, mode, driver, schema, crs, encoding, layer, vfs, enabled_drivers, crs_wkt, allow_unsupported_drivers, **kwargs)\u001b[0m\n\u001b[1;32m    289\u001b[0m     path \u001b[39m=\u001b[39m parse_path(fp)\n\u001b[1;32m    291\u001b[0m \u001b[39mif\u001b[39;00m mode \u001b[39min\u001b[39;00m (\u001b[39m\"\u001b[39m\u001b[39ma\u001b[39m\u001b[39m\"\u001b[39m, \u001b[39m\"\u001b[39m\u001b[39mr\u001b[39m\u001b[39m\"\u001b[39m):\n\u001b[0;32m--> 292\u001b[0m     colxn \u001b[39m=\u001b[39m Collection(\n\u001b[1;32m    293\u001b[0m         path,\n\u001b[1;32m    294\u001b[0m         mode,\n\u001b[1;32m    295\u001b[0m         driver\u001b[39m=\u001b[39;49mdriver,\n\u001b[1;32m    296\u001b[0m         encoding\u001b[39m=\u001b[39;49mencoding,\n\u001b[1;32m    297\u001b[0m         layer\u001b[39m=\u001b[39;49mlayer,\n\u001b[1;32m    298\u001b[0m         enabled_drivers\u001b[39m=\u001b[39;49menabled_drivers,\n\u001b[1;32m    299\u001b[0m         allow_unsupported_drivers\u001b[39m=\u001b[39;49mallow_unsupported_drivers,\n\u001b[1;32m    300\u001b[0m         \u001b[39m*\u001b[39;49m\u001b[39m*\u001b[39;49mkwargs\n\u001b[1;32m    301\u001b[0m     )\n\u001b[1;32m    302\u001b[0m \u001b[39melif\u001b[39;00m mode \u001b[39m==\u001b[39m \u001b[39m\"\u001b[39m\u001b[39mw\u001b[39m\u001b[39m\"\u001b[39m:\n\u001b[1;32m    303\u001b[0m     colxn \u001b[39m=\u001b[39m Collection(\n\u001b[1;32m    304\u001b[0m         path,\n\u001b[1;32m    305\u001b[0m         mode,\n\u001b[0;32m   (...)\u001b[0m\n\u001b[1;32m    314\u001b[0m         \u001b[39m*\u001b[39m\u001b[39m*\u001b[39mkwargs\n\u001b[1;32m    315\u001b[0m     )\n",
      "File \u001b[0;32m~/miniconda3/envs/geopandas/lib/python3.9/site-packages/fiona/collection.py:243\u001b[0m, in \u001b[0;36mCollection.__init__\u001b[0;34m(self, path, mode, driver, schema, crs, encoding, layer, vsi, archive, enabled_drivers, crs_wkt, ignore_fields, ignore_geometry, include_fields, wkt_version, allow_unsupported_drivers, **kwargs)\u001b[0m\n\u001b[1;32m    241\u001b[0m \u001b[39mif\u001b[39;00m \u001b[39mself\u001b[39m\u001b[39m.\u001b[39mmode \u001b[39m==\u001b[39m \u001b[39m\"\u001b[39m\u001b[39mr\u001b[39m\u001b[39m\"\u001b[39m:\n\u001b[1;32m    242\u001b[0m     \u001b[39mself\u001b[39m\u001b[39m.\u001b[39msession \u001b[39m=\u001b[39m Session()\n\u001b[0;32m--> 243\u001b[0m     \u001b[39mself\u001b[39;49m\u001b[39m.\u001b[39;49msession\u001b[39m.\u001b[39;49mstart(\u001b[39mself\u001b[39;49m, \u001b[39m*\u001b[39;49m\u001b[39m*\u001b[39;49mkwargs)\n\u001b[1;32m    244\u001b[0m \u001b[39melif\u001b[39;00m \u001b[39mself\u001b[39m\u001b[39m.\u001b[39mmode \u001b[39min\u001b[39;00m (\u001b[39m\"\u001b[39m\u001b[39ma\u001b[39m\u001b[39m\"\u001b[39m, \u001b[39m\"\u001b[39m\u001b[39mw\u001b[39m\u001b[39m\"\u001b[39m):\n\u001b[1;32m    245\u001b[0m     \u001b[39mself\u001b[39m\u001b[39m.\u001b[39msession \u001b[39m=\u001b[39m WritingSession()\n",
      "File \u001b[0;32mfiona/ogrext.pyx:588\u001b[0m, in \u001b[0;36mfiona.ogrext.Session.start\u001b[0;34m()\u001b[0m\n",
      "File \u001b[0;32mfiona/ogrext.pyx:143\u001b[0m, in \u001b[0;36mfiona.ogrext.gdal_open_vector\u001b[0;34m()\u001b[0m\n",
      "\u001b[0;31mDriverError\u001b[0m: data/bedfordshire_lsoas.gpkg: No such file or directory"
     ]
    }
   ],
   "source": [
    "filename = \"data/bedfordshire_lsoas.gpkg\"\n",
    "gdf_beds_lsoa_qgis = gpd.read_file(filename, crs='EPSG:27700')\n",
    "gdf_beds_lsoa_qgis.head()"
   ]
  },
  {
   "cell_type": "code",
   "execution_count": null,
   "metadata": {},
   "outputs": [],
   "source": [
    "gdf_beds_lsoa_qgis.plot(figsize=(8,8));"
   ]
  },
  {
   "cell_type": "markdown",
   "metadata": {},
   "source": [
    "Need to do a few tidying up steps.\n",
    "\n",
    "As the county boundary didn't fall exactly on the LSOA boundary, some slithers of the polygons outside the edges were included.\n",
    "Here's an example of an LSOA that's in, but only a slither (identified when selecting the full LSOA from the names in this shapefile and when plotting can see it's entirity, which is outside of the Bedfordshire county)."
   ]
  },
  {
   "cell_type": "code",
   "execution_count": null,
   "metadata": {},
   "outputs": [],
   "source": [
    "mask = gdf_beds_lsoa_qgis[\"LSOA11CD\"] == \"E01017652\"\n",
    "LSOA11CD_E01017652 = gdf_beds_lsoa_qgis[mask]\n",
    "fig, ax = plt.subplots(figsize=(10, 10))\n",
    "LSOA11CD_E01017652.plot(ax=ax, facecolor='red')"
   ]
  },
  {
   "cell_type": "code",
   "execution_count": null,
   "metadata": {},
   "outputs": [],
   "source": [
    "mask = gdf_beds_lsoa_qgis[\"LSOA11CD\"] == \"E01027348\"\n",
    "LSOA11CD_E01017652 = gdf_beds_lsoa_qgis[mask]\n",
    "fig, ax = plt.subplots(figsize=(10, 10))\n",
    "LSOA11CD_E01017652.plot(ax=ax, facecolor='red')"
   ]
  },
  {
   "cell_type": "markdown",
   "metadata": {},
   "source": [
    "Need to do a couple of manual tweaks to the resulting LSOAs selected."
   ]
  },
  {
   "cell_type": "code",
   "execution_count": null,
   "metadata": {},
   "outputs": [],
   "source": [
    "# get list of LSOAs in the shapefile\n",
    "bedfordshire_lsoas = list(gdf_beds_lsoa_qgis[\"LSOA11CD\"])\n",
    "\n",
    "# 1) add in missing LSOAs\n",
    "#    The polygon missing could be the cause for clip using GeoPandas not to work\n",
    "#    but QGIS did as best as it could, and then ingnored the polygon that cause the error\n",
    "#    Now we can add the single missing polygon\n",
    "bedfordshire_lsoas.append(\"E01017486\")\n",
    "\n",
    "# 2) Some LSOAs were assigned to Bedfordshire which are in Buckinghamshire\n",
    "#    The boundaries of the UA shapefile and LSOA shapefile do not align perfectly\n",
    "#    so these LSOAs were allocated to Bedford, when they are in Buckinghamshire\n",
    "#    Identified manually in QGIS (see image).\n",
    "#    These need to be removed from the list\n",
    "#  ([\"E01016800\", \"E01016797\", \"E01016803\", \"E01016735\", \"E01016734\", \"E01017670\", \n",
    "#    \"E01017652\", \"E01017658\", \"E01017657\", \"E01016736\"])\n",
    "\n",
    "# 3) Some LSOAs were assigned to Bedfordshire which are in Northamptonshire\n",
    "#    The boundaries of the UA shapefile and LSOA shapefile do not align perfectly\n",
    "#    so these LSOAs were allocated to Bedford, when they are in Northamptonshire\n",
    "#    Identified manually in QGIS (see image).\n",
    "#    These need to be removed from the list\n",
    "# ([\"E01027348\", \"E01027354\", \"E01027355\",\"E01027335\", \"E01027336\", \"E01027337\",\n",
    "#   \"E01027071\", \"E01027067\", \"E01027066\", \"E01027035\"])\n",
    "\n",
    "# Don't think including these will make a difference\n",
    "# ([\"E01027031\", \"E01027044\"])\n",
    "\n",
    "# putting all three lists above into one\n",
    "not_in_bedfordshire_lsoas = ([\"E01016800\", \"E01016797\", \"E01016803\", \n",
    "                              \"E01016735\", \"E01016734\", \"E01017670\", \n",
    "                              \"E01017652\", \"E01017658\", \"E01017657\", \n",
    "                              \"E01016736\", \"E01027348\", \"E01027354\",\n",
    "                              \"E01027355\", \"E01027335\", \"E01027336\", \n",
    "                              \"E01027337\", \"E01027071\", \"E01027067\",\n",
    "                               \"E01027066\", \"E01027035\"])\n",
    "\n",
    "# Remove these from the Bedfordshire LSOA list\n",
    "l3 = [x for x in bedfordshire_lsoas if x not in not_in_bedfordshire_lsoas]\n",
    "bedfordshire_lsoas = l3"
   ]
  },
  {
   "cell_type": "markdown",
   "metadata": {},
   "source": [
    "For the NHS Bedfordshire, Luton and Milton Keynes CCG, those LSOAs in the Bedfordhsire shape file get allocated to EEAST, and the rest to SCAS."
   ]
  },
  {
   "cell_type": "code",
   "execution_count": null,
   "metadata": {},
   "outputs": [],
   "source": [
    "mask = lsoa_ambo_data[\"CCG name\"].str.contains('Bedfordshire')\n",
    "lsoa_ambo_data[\"Ambulance Service Name\"][mask] = \"South Central\""
   ]
  },
  {
   "cell_type": "code",
   "execution_count": null,
   "metadata": {},
   "outputs": [],
   "source": [
    "lsoa_ambo_data.loc[\"E01017652\"]"
   ]
  },
  {
   "cell_type": "code",
   "execution_count": null,
   "metadata": {},
   "outputs": [],
   "source": [
    "lsoa_ambo_data.reset_index(inplace=True)\n",
    "lsoa_ambo_data.rename({\"index\":\"LSOA11CD\"})\n",
    "lsoa_ambo_data.head()"
   ]
  },
  {
   "cell_type": "code",
   "execution_count": null,
   "metadata": {},
   "outputs": [],
   "source": [
    "mask = lsoa_ambo_data[\"LSOA11CD\"].isin(bedfordshire_lsoas)\n",
    "lsoa_ambo_data[\"Ambulance Service Name\"][mask] = \"East of England\""
   ]
  },
  {
   "cell_type": "code",
   "execution_count": null,
   "metadata": {},
   "outputs": [],
   "source": [
    "len(bedfordshire_lsoas)"
   ]
  },
  {
   "cell_type": "code",
   "execution_count": null,
   "metadata": {},
   "outputs": [],
   "source": [
    "mask = lsoa_ambo_data[\"LSOA11CD\"] == \"E01017652\"\n",
    "lsoa_ambo_data[mask]"
   ]
  },
  {
   "cell_type": "code",
   "execution_count": null,
   "metadata": {},
   "outputs": [],
   "source": [
    "lsoa_ambo_data.head()"
   ]
  },
  {
   "cell_type": "markdown",
   "metadata": {},
   "source": [
    "Save combined file"
   ]
  },
  {
   "cell_type": "code",
   "execution_count": null,
   "metadata": {},
   "outputs": [],
   "source": [
    "lsoa_ambo_data.to_csv('./data/demographic/ambulance_service_regions_lsoa.csv')"
   ]
  },
  {
   "cell_type": "markdown",
   "metadata": {},
   "source": [
    "Add ambulance data to the LSOA polygons"
   ]
  },
  {
   "cell_type": "code",
   "execution_count": null,
   "metadata": {},
   "outputs": [],
   "source": [
    "filename = 'zip://./data/Lower_layer_super_output_areas_(E+W)_2011_Boundaries_(Generalised_Clipped)_V2.zip'\n",
    "gdf_lsoa = gpd.read_file(filename, crs='EPSG:27700')\n",
    "gdf_lsoa.head()"
   ]
  },
  {
   "cell_type": "code",
   "execution_count": null,
   "metadata": {},
   "outputs": [],
   "source": [
    "lsoa_ambo_data.head()"
   ]
  },
  {
   "cell_type": "code",
   "execution_count": null,
   "metadata": {},
   "outputs": [],
   "source": [
    "#gdf_lsoa = pd.concat([gdf_lsoa, lsoa_ambo_data[col], axis=1)"
   ]
  },
  {
   "cell_type": "code",
   "execution_count": null,
   "metadata": {},
   "outputs": [],
   "source": [
    "gdf_lsoa.set_index('LSOA11CD', inplace=True)\n",
    "lsoa_ambo_data.set_index('LSOA11CD', inplace=True)\n",
    "col = 'Ambulance Service Name'#'NHS Ambulance Service Region Name'\n",
    "\n",
    "# Join the Ambulance data to the LSOA shapefile, but keep all rows in the LSOA shapefile.\n",
    "# May need to use \"how = 'left'\". Check and choose.\n",
    "gdf_lsoa = gdf_lsoa.join(lsoa_ambo_data[col], how = 'outer').reset_index()\n",
    "gdf_lsoa.head()"
   ]
  },
  {
   "cell_type": "markdown",
   "metadata": {},
   "source": [
    "Now data for Wales in the CCG and Ambulance datafiles. Should still have the Wales LSOA polygons in the shapefile, so populate the \"Ambulance Service Name\" field with \"Wales\" for those polygons with LSOA11CD starting with \"W\""
   ]
  },
  {
   "cell_type": "code",
   "execution_count": null,
   "metadata": {},
   "outputs": [],
   "source": [
    "gdf_lsoa.rename({\"index\":\"LSOA11CD\"}, axis=1, inplace=True)\n",
    "gdf_lsoa.head()"
   ]
  },
  {
   "cell_type": "markdown",
   "metadata": {},
   "source": [
    "gdf_lsoa.reset_index(inplace=True)\n",
    "gdf_lsoa.rename({\"Index\":\"LSOA11CD\"})\n",
    "gdf_lsoa.head()"
   ]
  },
  {
   "cell_type": "code",
   "execution_count": null,
   "metadata": {},
   "outputs": [],
   "source": [
    "mask = gdf_lsoa[\"LSOA11CD\"].str[0] ==\"W\"\n",
    "gdf_lsoa[\"Ambulance Service Name\"][mask] = \"Welsh\"\n",
    "gdf_lsoa.head()"
   ]
  },
  {
   "cell_type": "markdown",
   "metadata": {},
   "source": [
    "Save lsoa shapefile, with the ambulace service data"
   ]
  },
  {
   "cell_type": "code",
   "execution_count": null,
   "metadata": {},
   "outputs": [],
   "source": [
    "filename = \"data/Lower_layer_super_output_areas_(E+W)_2011_Boundaries_(Generalised_Clipped)_V2_ambulance_service.shp\"\n",
    "gdf_lsoa.to_file(filename)"
   ]
  },
  {
   "cell_type": "markdown",
   "metadata": {},
   "source": [
    "### Read in hospital data \n",
    "(Stroke Team, SSNAP name, Easting, Northing)"
   ]
  },
  {
   "cell_type": "code",
   "execution_count": null,
   "metadata": {},
   "outputs": [],
   "source": [
    "gdf_units = gpd.read_file('./data/stroke_hospitals_2022.csv')\n",
    "\n",
    "gdf_units[\"geometry\"] = gpd.points_from_xy(\n",
    "        gdf_units.Easting, gdf_units.Northing)\n",
    "gdf_units = gdf_units.set_crs(epsg=27700)\n",
    "\n",
    "# Restrict to the units delivering thrombolysis\n",
    "mask = gdf_units['Use_IVT']==\"1\"\n",
    "gdf_units = gdf_units[mask]\n",
    "gdf_units.head()"
   ]
  },
  {
   "cell_type": "markdown",
   "metadata": {},
   "source": [
    "Convert CRS so compatible with basemap"
   ]
  },
  {
   "cell_type": "code",
   "execution_count": null,
   "metadata": {},
   "outputs": [],
   "source": [
    "# When using base maps convert data to epsg:3857\n",
    "gdf_lsoa = gdf_lsoa.to_crs(epsg=3857)\n",
    "gdf_units = gdf_units.to_crs(epsg=3857)"
   ]
  },
  {
   "cell_type": "markdown",
   "metadata": {},
   "source": [
    "Define mapping regions for full plot (and later for the London inset plot)"
   ]
  },
  {
   "cell_type": "code",
   "execution_count": null,
   "metadata": {},
   "outputs": [],
   "source": [
    "eng_wales_bounds = gdf_lsoa.bounds\n",
    "eng_wales_bounds = eng_wales_bounds.merge(gdf_lsoa[col],how = 'left',\n",
    "                      left_on = eng_wales_bounds.index,\n",
    "                      right_on = gdf_lsoa.index)\n",
    "eng_wales_bounds = eng_wales_bounds.set_index(col)\n",
    "eng_wales_bounds.drop('key_0', axis = 1, inplace = True)\n",
    "eng_wales_bounds.head()"
   ]
  },
  {
   "cell_type": "code",
   "execution_count": null,
   "metadata": {},
   "outputs": [],
   "source": [
    "def add_nonoverlapping_text_labels(gdf_units, ax, col, y_step=0.05, fontsize=7):\n",
    "    \"\"\"\n",
    "    #https://stackoverflow.com/questions/43916834/matplotlib-dynamically-change-text-position\n",
    "\n",
    "\n",
    "    \"\"\"\n",
    "\n",
    "    text_rectangles = []\n",
    "\n",
    "    # Better results if the labels are sorted descending in the y axis\n",
    "    gdf_units['sort_by'] = gdf_units.geometry.y\n",
    "    gdf_units.sort_values(\"sort_by\", ascending=False, inplace=True)\n",
    "    del gdf_units[\"sort_by\"]\n",
    "\n",
    "    # Add labels\n",
    "    for x, y, label in zip(\n",
    "        gdf_units.geometry.x, gdf_units.geometry.y, gdf_units[col]):\n",
    "            text = ax.annotate(label, xy=(x, y), xytext=(8, 8), \n",
    "                        textcoords=\"offset points\", fontsize=fontsize, \n",
    "                        bbox=dict(facecolor='w', alpha=0.3, edgecolor='none', boxstyle=\"round\", pad=0.1))\n",
    "            x, y = text.get_position()\n",
    "            new_x = x - 2\n",
    "            text.set_position((new_x, y))\n",
    "                    \n",
    "            rect = text.get_window_extent()\n",
    "\n",
    "            for other_rect in text_rectangles:\n",
    "                while Bbox.intersection(rect, other_rect):  # overlapping\n",
    "                    x, y = text.get_position()\n",
    "                    new_y = y - y_step\n",
    "                    text.set_position((x, new_y))\n",
    "                    rect = text.get_window_extent()\n",
    "            text_rectangles.append(rect)\n",
    "    return (ax)"
   ]
  },
  {
   "cell_type": "markdown",
   "metadata": {},
   "source": [
    "Map Ambulance Region, by LSOA"
   ]
  },
  {
   "cell_type": "code",
   "execution_count": null,
   "metadata": {},
   "outputs": [],
   "source": [
    "show_labels = True\n",
    "\n",
    "#col = 'NHS Ambulance Service Region Name'\n",
    "col_readable = 'NHS Ambulance Service'\n",
    "\n",
    "fig, ax = plt.subplots(figsize=(20, 20)) # Make max dimensions 10x10 inch\n",
    "gdf_lsoa.plot(ax=ax, # Set which axes to use for plot (only one here)\n",
    "                 column=col, # Column to apply colour\n",
    "                 antialiased=False, # Avoids artifact boundry lines\n",
    "                 edgecolor='face', # Make LSOA boundry same colour as area\n",
    "                 linewidth=0.0,# Use linewidth=0 to hide boarder lines\n",
    "#                 vmin=0, # Manual scale min (remove to make automatic)\n",
    "#                 vmax=70, # Manual scale max (remove to make automatic)\n",
    "                 cmap='tab20', # Colour map to use\n",
    "                 # Adjust size of colourmap key, and add label\n",
    "#                 legend_kwds={'shrink':0.5, 'label':f'{col_readable}'},\n",
    "                 # Set to display legend\n",
    "                 legend=True,\n",
    "                 # Set transparancy (to help reveal basemap\n",
    "                 alpha = 0.70)\n",
    "\n",
    "# Plot location of hospitals\n",
    "gdf_units.plot(ax=ax, edgecolor='k', facecolor='w', markersize=120, \n",
    "               marker='*')\n",
    "\n",
    "\n",
    "if show_labels:\n",
    "    ax = add_nonoverlapping_text_labels(gdf_units, ax, 'hospital_city',\n",
    "                                        y_step=0.05, fontsize=8)\n",
    "        \n",
    "# Add base map (note that we specifiy the same CRS as we are using)\n",
    "# Use manual zoom to adjust level of detail of base map\n",
    "ctx.add_basemap(ax, \n",
    "                source=ctx.providers.OpenStreetMap.Mapnik,zoom=10)\n",
    "\n",
    "\n",
    "\n",
    "# Remove x and y ticks\n",
    "plt.setp(ax.get_xticklabels(), visible=False)\n",
    "plt.setp(ax.get_yticklabels(), visible=False)\n",
    "\n",
    "ax.set_axis_off() # Turn of axis line and numbers\n",
    "ax.set_title(f'{col_readable}')\n",
    "# Adjust for printing\n",
    "ax.margins(0)\n",
    "ax.apply_aspect()\n",
    "plt.subplots_adjust(left=0.01, right=1.0, bottom=0.0, top=1.0)\n",
    "plt.savefig(f'map_{col}_v1.jpg', dpi=300, bbox_inches='tight', pad_inches=0.2) # Save figure\n",
    "plt.show()"
   ]
  },
  {
   "cell_type": "code",
   "execution_count": null,
   "metadata": {},
   "outputs": [],
   "source": [
    "gdf_ambulance_service = gdf_lsoa.dissolve(by=col)"
   ]
  },
  {
   "cell_type": "code",
   "execution_count": null,
   "metadata": {},
   "outputs": [],
   "source": [
    "gdf_ambulance_service.head()"
   ]
  },
  {
   "cell_type": "code",
   "execution_count": null,
   "metadata": {},
   "outputs": [],
   "source": [
    "gdf_ambulance_service.plot();"
   ]
  },
  {
   "cell_type": "code",
   "execution_count": null,
   "metadata": {},
   "outputs": [],
   "source": [
    "filename = \"data/ambulance_service.shp\"\n",
    "gdf_ambulance_service.to_file(filename)"
   ]
  },
  {
   "cell_type": "code",
   "execution_count": null,
   "metadata": {},
   "outputs": [],
   "source": [
    "show_labels = True\n",
    "\n",
    "#col = 'NHS Ambulance Service Region Name'\n",
    "col_readable = 'NHS Ambulance Service'\n",
    "\n",
    "fig, ax = plt.subplots(figsize=(20, 20)) # Make max dimensions 10x10 inch\n",
    "gdf_ambulance_service.plot(ax=ax, # Set which axes to use for plot (only one here)\n",
    "#                 column=col, # Column to apply colour\n",
    "                 antialiased=False, # Avoids artifact boundry lines\n",
    "                 edgecolor='face', # Make LSOA boundry same colour as area\n",
    "                 linewidth=0.0,# Use linewidth=0 to hide boarder lines\n",
    "#                 vmin=0, # Manual scale min (remove to make automatic)\n",
    "#                 vmax=70, # Manual scale max (remove to make automatic)\n",
    "                 cmap='tab20', # Colour map to use\n",
    "                 # Adjust size of colourmap key, and add label\n",
    "#                 legend_kwds={'shrink':0.5, 'label':f'{col_readable}'},\n",
    "                 # Set to display legend\n",
    "                 legend=True,\n",
    "                 # Set transparancy (to help reveal basemap\n",
    "                 alpha = 0.70)\n",
    "\n",
    "# Plot location of hospitals\n",
    "gdf_units.plot(ax=ax, edgecolor='k', facecolor='w', markersize=120, \n",
    "               marker='*')\n",
    "\n",
    "\n",
    "if show_labels:\n",
    "    ax = add_nonoverlapping_text_labels(gdf_units, ax, 'hospital_city',\n",
    "                                        y_step=0.05, fontsize=8)\n",
    "        \n",
    "# Add base map (note that we specifiy the same CRS as we are using)\n",
    "# Use manual zoom to adjust level of detail of base map\n",
    "ctx.add_basemap(ax, \n",
    "                source=ctx.providers.OpenStreetMap.Mapnik,zoom=10)\n",
    "\n",
    "\n",
    "\n",
    "# Remove x and y ticks\n",
    "plt.setp(ax.get_xticklabels(), visible=False)\n",
    "plt.setp(ax.get_yticklabels(), visible=False)\n",
    "\n",
    "ax.set_axis_off() # Turn of axis line and numbers\n",
    "ax.set_title(f'{col_readable}')\n",
    "# Adjust for printing\n",
    "ax.margins(0)\n",
    "ax.apply_aspect()\n",
    "plt.subplots_adjust(left=0.01, right=1.0, bottom=0.0, top=1.0)\n",
    "plt.savefig(f'map_{col}_1_v1.jpg', dpi=300, bbox_inches='tight', pad_inches=0.2) # Save figure\n",
    "plt.show()"
   ]
  },
  {
   "cell_type": "markdown",
   "metadata": {},
   "source": [
    "Hospital in each Ambulance Service.\n",
    "\n",
    "Use Points-in-polygon: \n",
    "https://support.esri.com/en-us/gis-dictionary/point-in-polygon-overlay\n",
    "\n",
    "Function below from: https://medium.com/analytics-vidhya/point-in-polygon-analysis-using-python-geopandas-27ea67888bff"
   ]
  },
  {
   "cell_type": "code",
   "execution_count": null,
   "metadata": {},
   "outputs": [],
   "source": [
    "def get_pip (gdf, regions):\n",
    "    r_list = list(regions.index)#Name)\n",
    "    #create empty dataframe\n",
    "    df = pd.DataFrame().reindex_like(gdf).dropna()\n",
    "    for r in r_list:\n",
    "        #get geometry for specific region\n",
    "        pol = (regions.loc[regions.index==r])#.Name==r])\n",
    "        pol.reset_index(drop = True, inplace = True)\n",
    "        #identify those records from gdf that are intersecting with the region polygon\n",
    "        pip_mask = gdf.within(pol.loc[0, 'geometry'])\n",
    "        #filter gdf to keep only the intersecting records\n",
    "        pip_data = gdf.loc[pip_mask].copy()\n",
    "        #create a new column and assign the region name as the value\n",
    "        pip_data['Ambulance Service']= r\n",
    "        #append region data to empty dataframe\n",
    "        df = df.append(pip_data)\n",
    "    #checking there are no more than one region assigned to an event    \n",
    "    print('Original dataframe count=',len(gdf),'\\nNew dataframe count=', len(df))\n",
    "    if df.loc[df.Hospital_name.duplicated() == True].shape[0] > 0:\n",
    "        print(\"There are id's with more than one region\")\n",
    "    #checking all events have a region\n",
    "    elif gdf.loc[~gdf.Hospital_name.isin(df.Hospital_name)].shape[0] > 0:\n",
    "        print(\"There are id's without an assigned region\")\n",
    "    else:\n",
    "        print(\"No discrepancies in results!\")\n",
    "    df.reset_index(inplace=True, drop=True)\n",
    "    df = df.drop(columns='geometry')\n",
    "    return df"
   ]
  },
  {
   "cell_type": "code",
   "execution_count": null,
   "metadata": {},
   "outputs": [],
   "source": [
    "hosp_in_ambo_service = get_pip(gdf_units, gdf_ambulance_service)"
   ]
  },
  {
   "cell_type": "code",
   "execution_count": null,
   "metadata": {},
   "outputs": [],
   "source": [
    "hosp_in_ambo_service.head()"
   ]
  },
  {
   "cell_type": "code",
   "execution_count": null,
   "metadata": {},
   "outputs": [],
   "source": [
    "#gdf_units = gdf_units.join(hosp_in_ambo_service)\n",
    "hosp_in_ambo_service = gpd.GeoDataFrame(hosp_in_ambo_service, )\n",
    "hosp_in_ambo_service[\"geometry\"] = gpd.points_from_xy(\n",
    "        hosp_in_ambo_service.Easting, hosp_in_ambo_service.Northing)\n",
    "hosp_in_ambo_service = hosp_in_ambo_service.set_crs(epsg=27700)"
   ]
  },
  {
   "cell_type": "code",
   "execution_count": null,
   "metadata": {},
   "outputs": [],
   "source": [
    "# When using base maps convert data to epsg:3857\n",
    "hosp_in_ambo_service = hosp_in_ambo_service.to_crs(epsg=3857)"
   ]
  },
  {
   "cell_type": "code",
   "execution_count": null,
   "metadata": {},
   "outputs": [],
   "source": [
    "fig, ax = plt.subplots(figsize=(20, 20)) # Make max dimensions 10x10 inch\n",
    "# Plot location of hospitals\n",
    "hosp_in_ambo_service.plot(ax=ax, column=\"Ambulance Service\", edgecolor='grey', \n",
    "                          facecolor='w', markersize=300,cmap='tab20', marker='*',\n",
    "                          legend=True)\n",
    "\n",
    "ax = add_nonoverlapping_text_labels(hosp_in_ambo_service, ax, 'hospital_city',\n",
    "                                    y_step=0.05, fontsize=8)\n",
    "\n",
    "# Add base map (note that we specifiy the same CRS as we are using)\n",
    "# Use manual zoom to adjust level of detail of base map\n",
    "ctx.add_basemap(ax, \n",
    "                source=ctx.providers.OpenStreetMap.Mapnik,zoom=10)\n",
    "\n",
    "# Remove x and y ticks\n",
    "plt.setp(ax.get_xticklabels(), visible=False)\n",
    "plt.setp(ax.get_yticklabels(), visible=False)\n",
    "\n",
    "ax.set_axis_off() # Turn of axis line and numbers\n",
    "#ax.set_title(f'{col_readable}')\n",
    "# Adjust for printing\n",
    "ax.margins(0)\n",
    "ax.apply_aspect()\n",
    "plt.subplots_adjust(left=0.01, right=1.0, bottom=0.0, top=1.0)\n",
    "plt.savefig(f'map_hosp_in_ambo_service.jpg', dpi=300, bbox_inches='tight', pad_inches=0.2) # Save figure\n",
    "plt.show()"
   ]
  }
 ],
 "metadata": {
  "kernelspec": {
   "display_name": "Python 3",
   "language": "python",
   "name": "python3"
  },
  "language_info": {
   "codemirror_mode": {
    "name": "ipython",
    "version": 3
   },
   "file_extension": ".py",
   "mimetype": "text/x-python",
   "name": "python",
   "nbconvert_exporter": "python",
   "pygments_lexer": "ipython3",
   "version": "3.9.18"
  }
 },
 "nbformat": 4,
 "nbformat_minor": 4
}
